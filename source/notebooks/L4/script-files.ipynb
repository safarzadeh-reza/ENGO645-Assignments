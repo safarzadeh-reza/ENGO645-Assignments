{
 "cells": [
  {
   "cell_type": "markdown",
   "id": "269d17fd-9edf-4bc6-ae60-1dd089219748",
   "metadata": {
    "tags": []
   },
   "source": [
    "# Using script files\n",
    "\n",
    "```{attention}\n",
    "Finnish university students are encouraged to use the CSC Notebooks platform.<br/>\n",
    "<a href=\"https://notebooks.csc.fi/\"><img alt=\"CSC badge\" src=\"https://img.shields.io/badge/launch-CSC%20notebook-blue.svg\" style=\"vertical-align:text-bottom\"></a>\n",
    "\n",
    "Others can follow the lesson and fill in their student notebooks using Binder.<br/>\n",
    "<a href=\"https://mybinder.org/v2/gh/geo-python/notebooks/master?urlpath=lab/tree/L4/script-files.ipynb\"><img alt=\"Binder badge\" src=\"https://img.shields.io/badge/launch-binder-red.svg\" style=\"vertical-align:text-bottom\"></a>\n",
    "```\n",
    "In this lesson we introduce you to how to put your functions in a script file for convenient use in notebooks or other script files.\n",
    "\n",
    "## An introduction to script files\n",
    "\n",
    "Up to this point we have been keeping our Python code and Markdown comments in a single Jupyter notebook document.\n",
    "This is great, but there are some cases, like when you have long Python code blocks or a set of functions used in many notebooks, in which you may want to have Python code in a separate document to make sure your Jupyter notebook is easy to read (and use).\n",
    "An alternative to typing in all of the commands you would like to run is the list them in a Python {term}`script (ohjelma)` file.\n",
    "A Python script file is simply a file containing a list of the commands you would like to run, normally with one command per line, and formatted in the same way as if you were to type them in.\n",
    "Python script files traditionally use the `.py` file extension in their names.\n",
    "\n",
    "### The general concept of a .py script file\n",
    "\n",
    "Because a Python script file is simply a list of commands that you might otherwise type into a Python cell in a Jupyter notebook or a Python console, we can quite easily create a basic script file and test things out.\n",
    "\n",
    "### Getting started\n",
    "\n",
    "First, we need to create a new text file by clicking on **File** -> **New** -> **Python File** in the JupyterLab menu bar.\n",
    "\n",
    "![Creating a new Python file in JupyterLab.](img/new-python-file-600.png)\n",
    "\n",
    "This will create a new tab in your JupyterLab window that should look something like that below, a blank slate.\n",
    "\n",
    "![Our new Python file in JupyterLab.](img/new-python-file-created-800.png)\n",
    "\n",
    "Start by copying and pasting the text below into your new text file editor panel.\n",
    "\n",
    "```python\n",
    "def celsius_to_fahr(temp_celsius):\n",
    "    return 9/5 * temp_celsius + 32\n",
    "```"
   ]
  },
  {
   "cell_type": "markdown",
   "id": "ad84e4fb-43d4-4e3b-b005-a55bd1df8dce",
   "metadata": {},
   "source": [
    "### Renaming our Python file\n",
    "\n",
    "Python scripts are just regular text files with the `.py` file extension that will identify them as source code for Python in JupyterLab.\n",
    "By default, new Python files will be called `untitled.py`.\n",
    "You can rename the file by right clicking on the tab titled `untitled.py` and renaming it as `temp_converter.py`.\n",
    "\n",
    "![Renaming a Python file in JupyterLab.](img/rename-python-file-part1-600.png)\n",
    "\n",
    "![Changing the file name in JupyterLab.](img/rename-python-file-part2-400.png)\n",
    "\n",
    "```{note}\n",
    "Be sure to save your `temp_converter.py` file after making your changes.\n",
    "```\n",
    "\n",
    "We'll return later to some best practices for writing script files, but for now let's continue with how to use our functions saved in the Python file we just created."
   ]
  },
  {
   "cell_type": "markdown",
   "id": "3dac663b-8723-49aa-9141-fdf885ae9a04",
   "metadata": {},
   "source": [
    "## Saving and loading functions\n",
    "\n",
    "Functions such as the ones we just created can also be saved in a script file and called from Jupyter notebooks.\n",
    "In fact, quite often it is useful to create a dedicated function library for functions that you use frequently, when doing data analysis, for example.\n",
    "Basically this is done by listing useful functions in a single `.py` file from which you can then import and use them whenever needed.\n",
    "\n",
    "### Saving functions in a script file\n",
    "\n",
    "Basically, we've just seen how to save some functions to a script file.\n",
    "Let's now add the other functions we had been using to our script.\n",
    "Simply copy and paste the text below into your `temp_converter.py` file leaving two blank lines between each function, as suggested in the [PEP 8 guidelines](https://pep8.org/#blank-lines).\n",
    "\n",
    "```python\n",
    "def kelvins_to_celsius(temp_kelvins):\n",
    "    return temp_kelvins - 273.15\n",
    "\n",
    "\n",
    "def kelvins_to_fahr(temp_kelvins):\n",
    "    temp_celsius = kelvins_to_celsius(temp_kelvins)\n",
    "    temp_fahr = celsius_to_fahr(temp_celsius)\n",
    "    return temp_fahr\n",
    "```\n",
    "\n",
    "Don't forget to save your changes!"
   ]
  },
  {
   "cell_type": "markdown",
   "id": "6e238ee3-00b8-4c5e-a9d5-8d538343b971",
   "metadata": {},
   "source": [
    "## Calling functions from a script file\n",
    "\n",
    "Now that we have saved our temperature conversion functions into a script file we can start using them.\n",
    "\n",
    "### Making sure we're in the right working directory\n",
    "\n",
    "Hopefully you have saved your `temp_converter.py` file in the same location as this Jupyter notebook (`script-files.ipynb`).\n",
    "If so, that's good, but we need to do one more thing to be able to start working with it.\n",
    "We need to change the working directory in JupyterLab to be the one where the `temp_converter.py` exists.\n",
    "\n",
    "First, we can check where we are working currently using an IPython magic command called `%ls`. `%ls` allows us to see the files located in the directory where we are currently working. You can run the `%ls` command in the cell below to see which files are in the current working directory."
   ]
  },
  {
   "cell_type": "code",
   "execution_count": null,
   "id": "5f2a9933-5eb5-445d-bf29-13cdbbe4dca9",
   "metadata": {},
   "outputs": [],
   "source": [
    "%ls"
   ]
  },
  {
   "cell_type": "markdown",
   "id": "3171117d-940d-4840-b1df-e7dcfbd1b7ad",
   "metadata": {},
   "source": [
    "If your output from the `%ls` command looks like \n",
    "\n",
    "```bash\n",
    "functions.ipynb              script-files.ipynb\n",
    "gcp-4-writing-scripts.ipynb  temp_converter.py\n",
    "img/                         use-of-ai.ipynb\n",
    "modules.ipynb\n",
    "```\n",
    "then you are all set to continue. Otherwise, you should follow the steps below to make sure you are working in the correct directory.\n",
    "\n",
    "#### CSC notebooks users\n",
    "\n",
    "Those using the CSC notebooks might see something like\n",
    "\n",
    "```bash\n",
    "my-work/  shared/\n",
    "```\n",
    "\n",
    "In this case you will need to change directories to the one containing the `temp_converter.py` file.\n",
    "You can do this by typing \n",
    "\n",
    "```ipython\n",
    "%cd my-work/notebooks/L4/\n",
    "```\n",
    "\n",
    "#### Binder users\n",
    "\n",
    "If you are using Binder, you may see\n",
    "\n",
    "```bash\n",
    "L1/  L2/  L3/  L4/  README.md  requirements.txt\n",
    "```\n",
    "\n",
    "and you will need to change directories.\n",
    "To do this you should type the following to change into the directory containing the `temp_converter.py` file.\n",
    "\n",
    "```ipython\n",
    "%cd L4/\n",
    "```"
   ]
  },
  {
   "cell_type": "markdown",
   "id": "5556eed9-7541-43d4-9583-43b620b43ac0",
   "metadata": {},
   "source": [
    "### Confirming we are in the correct directory\n",
    "\n",
    "At this point we can run the `%ls` command once more to make sure we're in the correct directory. You should see the `temp_converter.py` file in the list of files and directories that are output."
   ]
  },
  {
   "cell_type": "code",
   "execution_count": null,
   "id": "4d47d115-1df7-443a-ab65-73a44176fe42",
   "metadata": {},
   "outputs": [],
   "source": [
    "%ls"
   ]
  },
  {
   "cell_type": "markdown",
   "id": "09de914c-00bc-43f8-a4ef-0a7917cc4fb0",
   "metadata": {},
   "source": [
    "### Importing our script functions\n",
    "\n",
    "Let's now import our `celsius_to_fahr()` function from the other script by adding a specific `import` statement in the Python cell below: `from temp_converter import celsius_to_fahr`"
   ]
  },
  {
   "cell_type": "code",
   "execution_count": null,
   "id": "699cb4ed-7bc4-4472-9b35-b38bb5a5317b",
   "metadata": {
    "tags": [
     "hide-cell"
    ]
   },
   "outputs": [],
   "source": [
    "# DO NOT RUN THIS CELL\n",
    "# This cell is only needed for generating the course web page\n",
    "%cd ../../_static/L4/"
   ]
  },
  {
   "cell_type": "code",
   "execution_count": null,
   "id": "733f8cab-1487-4f15-b34f-8ef79e349bc1",
   "metadata": {
    "tags": []
   },
   "outputs": [],
   "source": [
    "from temp_converter import celsius_to_fahr"
   ]
  },
  {
   "cell_type": "markdown",
   "id": "5c388626-f8c9-4339-81f9-e97483f2ad3e",
   "metadata": {},
   "source": [
    "### Using our script functions\n",
    "\n",
    "Let's also use the function so that we can see that it is working. We can print the temperature in Fahrenheit at which water freezes using our `celsius_to_fahr()` function in the cell below."
   ]
  },
  {
   "cell_type": "code",
   "execution_count": null,
   "id": "1e4e9167-ce98-4691-a8d0-8fa830f50061",
   "metadata": {},
   "outputs": [],
   "source": [
    "print(f\"The freezing point of water in Fahrenheit is {celsius_to_fahr(0)}\")"
   ]
  },
  {
   "cell_type": "markdown",
   "id": "6f51559a-8d44-4114-96a5-1233b8453e17",
   "metadata": {},
   "source": [
    "You should get following output:\n",
    "\n",
    "```\n",
    "The freezing point of water in Fahrenheit is 32.0\n",
    "```\n",
    "\n",
    "#### Importing multiple functions\n",
    "\n",
    "It is also possible to import more functions at the same time by listing and separating them with a comma.\n",
    "\n",
    "```python\n",
    "from my_script import func1, func2, func3\n",
    "```\n",
    "\n",
    "### Importing all functions from a script\n",
    "\n",
    "Sometimes it is useful to import the whole script and all of its functions at once. Let's use a different `import` statement and test that all functions work. This time we can type `import temp_converter as tc`."
   ]
  },
  {
   "cell_type": "code",
   "execution_count": null,
   "id": "9ba2fe48-154a-471a-a9ab-8e5ef8f29a34",
   "metadata": {
    "tags": []
   },
   "outputs": [],
   "source": [
    "import temp_converter as tc"
   ]
  },
  {
   "cell_type": "markdown",
   "id": "0467020c-3d8a-4f83-98d1-754d29b1c993",
   "metadata": {},
   "source": [
    "Just like the examples we have seen earlier with the `math` library, such as using `math.sin()`, we can now use our functions such as `tc.celsius_to_fahr()`. In the cells below, test our functions as they were used above by printing the freezing point of water in Fahrenheit, absolute zero in Celsius, and absolute zero in Fahrenheit."
   ]
  },
  {
   "cell_type": "code",
   "execution_count": null,
   "id": "13089f9a-25c4-4b19-9890-333876e1d538",
   "metadata": {
    "tags": []
   },
   "outputs": [],
   "source": [
    "print(f\"The freezing point of water in Fahrenheit is {tc.celsius_to_fahr(0)}\")"
   ]
  },
  {
   "cell_type": "code",
   "execution_count": null,
   "id": "3f147b43-556b-40f6-92de-f1a77f4b423f",
   "metadata": {
    "tags": []
   },
   "outputs": [],
   "source": [
    "print(f\"Absolute zero in Celsius is {tc.kelvins_to_celsius(temp_kelvins=0)}\")"
   ]
  },
  {
   "cell_type": "code",
   "execution_count": null,
   "id": "5d8f8076-d93e-430a-81ce-238266390646",
   "metadata": {
    "tags": []
   },
   "outputs": [],
   "source": [
    "print(f\"Absolute zero in Fahrenheit is {tc.kelvins_to_fahr(temp_kelvins=0)}\")"
   ]
  },
  {
   "cell_type": "markdown",
   "id": "01e61069-0c07-4eed-8f95-6c72733d66f5",
   "metadata": {},
   "source": [
    "## Temperature calculator (*optional, advanced topic*)\n",
    "\n",
    "So far our functions have had only one parameter, but it is also possible to define a function with multiple parameters.\n",
    "Let's now make a simple `temp_calculator` function that accepts temperatures in Kelvins and returns values in either degrees Celsius or degrees Fahrenheit.\n",
    "The new function will have two parameters:\n",
    "\n",
    "- `temp_k` = The parameter for passing temperature in Kelvins\n",
    "- `convert_to` = The parameter that determines whether to output should be in Celsius or in Fahrenheit (using the letters `C` or `F` accordingly)\n",
    "\n",
    "### Defining the function\n",
    "\n",
    "Let's start defining our function by giving it a name and setting the parameters.\n",
    "\n",
    "```python\n",
    "def temp_calculator(temp_k, convert_to):\n",
    "```\n",
    "\n",
    "### Adding some conditional statements\n",
    "\n",
    "Next, we need to add conditional statements that check whether the desired output temperature should be in Celsius or Fahrenheit, and then call the corresponding function that was imported from the `temp_converter.py` file.\n",
    "\n",
    "```python\n",
    "def temp_calculator(temp_k, convert_to):\n",
    "    # Check if user wants the temperature in Celsius\n",
    "    if convert_to == \"C\":\n",
    "        # Convert the value to Celsius using the dedicated function for the task that we imported from another script\n",
    "        converted_temp = kelvins_to_celsius(temp_kelvins=temp_k)\n",
    "    elif convert_to == \"F\":\n",
    "        # Convert the value to Fahrenheit using the dedicated function for the task that we imported from another script\n",
    "        converted_temp = kelvins_to_fahr(temp_kelvins=temp_k)\n",
    "```\n",
    "\n",
    "### Returning the result\n",
    "\n",
    "Next, we need to add a return statement so that our function sends back the value that we are interested in.\n",
    "\n",
    "```python\n",
    "def temp_calculator(temp_k, convert_to):\n",
    "    # Check if user wants the temperature in Celsius\n",
    "    if convert_to == \"C\":\n",
    "        # Convert the value to Celsius using the dedicated function for the task that we imported from another script\n",
    "        converted_temp = kelvins_to_celsius(temp_kelvins=temp_k)\n",
    "    elif convert_to == \"F\":\n",
    "        # Convert the value to Fahrenheit using the dedicated function for the task that we imported from another script\n",
    "        converted_temp = kelvins_to_fahr(temp_kelvins=temp_k)\n",
    "    # Return the result\n",
    "    return converted_temp\n",
    "```\n",
    "\n",
    "### Adding a docstring\n",
    "\n",
    "Finally, since we want to be good programmers, we should add a short docstring at the beginning of our function that tells what the function does and how the parameters work.\n",
    "\n",
    "```python\n",
    "def temp_calculator(temp_k, convert_to):\n",
    "    \"\"\"\n",
    "    Function for converting temperature in Kelvins to Celsius or Fahrenheit.\n",
    "\n",
    "    Parameters\n",
    "    ----------\n",
    "    temp_k: <numerical>\n",
    "        Temperature in Kelvins\n",
    "    convert_to: <str>\n",
    "        Target temperature that can be either Celsius ('C') or Fahrenheit ('F'). Supported values: 'C' | 'F'\n",
    "\n",
    "    Returns\n",
    "    -------\n",
    "    <float>\n",
    "        Converted temperature.\n",
    "    \"\"\"\n",
    "\n",
    "    # Check if user wants the temperature in Celsius\n",
    "    if convert_to == \"C\":\n",
    "        # Convert the value to Celsius using the dedicated function for the task that we imported from another script\n",
    "        converted_temp = kelvins_to_celsius(temp_kelvins=temp_k)\n",
    "    elif convert_to == \"F\":\n",
    "        # Convert the value to Fahrenheit using the dedicated function for the task that we imported from another script\n",
    "        converted_temp = kelvins_to_fahr(temp_kelvins=temp_k)\n",
    "    # Return the result\n",
    "    return converted_temp\n",
    "```\n",
    "\n",
    "### Testing the new function\n",
    "\n",
    "That's it!\n",
    "Now we have a temperature calculator that has a simple control for the user where they can change the output using the `convert_to` parameter.\n",
    "Now as we added the short docstring in the beginning of the function we can use the `help()` function in Python to find out how our function should be used.\n",
    "Run the Python cell below and then try running `help(temp_calculator)`.\n",
    "\n",
    "```{attention}\n",
    "Reloading modules from within a Jupyter notebook is a bit of a pain.\n",
    "The easiest option is to restart the IPython kernel by going to **Kernel** -> **Restart kernel...**.\n",
    "Note that this will delete all variables currently stored in memory in the Jupyter notebook you're using, so you may need to re-run some cells.\n",
    "```"
   ]
  },
  {
   "cell_type": "code",
   "execution_count": null,
   "id": "02ba856d-0ad1-4faa-8ba8-d54f942a424f",
   "metadata": {
    "tags": []
   },
   "outputs": [],
   "source": [
    "help(tc.temp_calculator)"
   ]
  },
  {
   "cell_type": "markdown",
   "id": "ce32fbc4-2e29-4373-9365-a0b53ccf42cc",
   "metadata": {},
   "source": [
    "### Using the temp_calculator function\n",
    "\n",
    "Let's use it."
   ]
  },
  {
   "cell_type": "code",
   "execution_count": null,
   "id": "59dc6f0d-1c37-44dd-b73a-98abe96fd21d",
   "metadata": {},
   "outputs": [],
   "source": [
    "temp_kelvin = 30"
   ]
  },
  {
   "cell_type": "code",
   "execution_count": null,
   "id": "84459e98-85ef-42eb-bccd-c859bccf9b51",
   "metadata": {
    "tags": []
   },
   "outputs": [],
   "source": [
    "temperature_c = tc.temp_calculator(temp_k=temp_kelvin, convert_to=\"C\")"
   ]
  },
  {
   "cell_type": "code",
   "execution_count": null,
   "id": "6fa376bf-5659-4364-9c1c-fa1fdc16e516",
   "metadata": {
    "tags": []
   },
   "outputs": [],
   "source": [
    "print(f\"Temperature {temp_kelvin} in Kelvins is {temperature_c} in Celsius\")"
   ]
  }
 ],
 "metadata": {
  "kernelspec": {
   "display_name": "Python 3 (ipykernel)",
   "language": "python",
   "name": "python3"
  },
  "language_info": {
   "codemirror_mode": {
    "name": "ipython",
    "version": 3
   },
   "file_extension": ".py",
   "mimetype": "text/x-python",
   "name": "python",
   "nbconvert_exporter": "python",
   "pygments_lexer": "ipython3",
   "version": "3.10.12"
  }
 },
 "nbformat": 4,
 "nbformat_minor": 5
}
