{
 "cells": [
  {
   "cell_type": "markdown",
   "metadata": {},
   "source": [
    "https://www.educative.io/blog/scikit-learn-cheat-sheet-classification-regression-methods\n",
    "\n",
    "https://zerotomastery.io/blog/how-to-use-scikit-learn/\n",
    "\n",
    "https://www.datacamp.com/tutorial/naive-bayes-scikit-learn\n",
    "\n",
    "https://www.datacamp.com/tutorial/adaboost-classifier-python\n",
    "\n",
    "https://www.datacamp.com/tutorial/decision-tree-classification-python\n",
    "\n",
    "binary classification vs multiclass classification: https://stackabuse.com/classification-in-python-with-scikit-learn-and-pandas/"
   ]
  },
  {
   "cell_type": "markdown",
   "metadata": {},
   "source": [
    "# Classification in Machine Learning: An Introduction\n",
    "\n",
    "In this tutorial, we'll dive into the fundamental concept of classification and explore its applications across various domains."
   ]
  },
  {
   "cell_type": "code",
   "execution_count": null,
   "metadata": {},
   "outputs": [],
   "source": []
  }
 ],
 "metadata": {
  "language_info": {
   "name": "python"
  }
 },
 "nbformat": 4,
 "nbformat_minor": 2
}
