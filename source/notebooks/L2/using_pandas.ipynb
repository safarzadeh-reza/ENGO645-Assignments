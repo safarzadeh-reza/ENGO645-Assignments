{
 "cells": [
  {
   "cell_type": "markdown",
   "metadata": {},
   "source": [
    "# Processing data with pandas\n",
    "\n",
    "\n",
    "```{attention}\n",
    "\n",
    "These tutorials porpuse is only giving you some hints about completing the assignment tasks, not teaching the python programming step by step.\n",
    "<br/>\n",
    "As mentioned in the first lecture of the course, this course requires basic knowledge of Python programming language. \n",
    "\n",
    "If you are not familiar with them, try catching up with the basics as fast as you can. Some useful resources are: <br/>\n",
    "\n",
    "[pandas online documentation](https://pandas.pydata.org/pandas-docs/stable/user_guide/dsintro.html)\n",
    "\n",
    "<br/>\n",
    "\n",
    "[Python for Data Analysis (3rd Edition, 2022)](https://wesmckinney.com/book/)\n",
    "\n",
    "```\n"
   ]
  },
  {
   "cell_type": "markdown",
   "metadata": {},
   "source": [
    "Our assignment 1 is about to learn how to read and explore data files in Python. We will focus on using [pandas](https://pandas.pydata.org/pandas-docs/stable/) which is an open-source package for data analysis in Python. pandas is an excellent toolkit for working with *real world data* that often have a tabular structure (rows and columns).\n",
    "\n"
   ]
  },
  {
   "cell_type": "markdown",
   "metadata": {},
   "source": [
    "## Input data: Community Crime Statistics Map\n",
    "\n",
    "Our input data in this tutorial is a text file containing community crimes statistics map in city of Calgary, Alberta, Canda retrieved from [City of Calgary Open Data Portal](https://data.calgary.ca/Health-and-Safety/Community-Crime-Statistics-Map/n24v-9r86):\n",
    "\n",
    "- File name: [Community_Crime_Statistics_20240120.csv] (you can have a look at the file before reading it in using pandas!)\n",
    "- You can download the data from the link provided: [City of Calgary Open Data Portal](https://data.calgary.ca/Health-and-Safety/Community-Crime-Statistics-Map/n24v-9r86)\n",
    "- Data is provided monthly by the Calgary Police Service. And includes the location of crime, time, category, crime count, and resident count.\n",
    "- There are totally 67,262 rows and 10 columns in this dataset.\n"
   ]
  },
  {
   "cell_type": "markdown",
   "metadata": {},
   "source": [
    "## Loading Data\n",
    "\n",
    "Next, we wll read the input data file, and store the contents of that file in a variable called `data` Using the `pandas.read_csv()` function:"
   ]
  },
  {
   "cell_type": "code",
   "execution_count": 2,
   "metadata": {},
   "outputs": [],
   "source": [
    "# Importing the libraries\n",
    "import pandas as pd"
   ]
  },
  {
   "cell_type": "code",
   "execution_count": 11,
   "metadata": {},
   "outputs": [],
   "source": [
    "# load data\n",
    "\n",
    "# Read the file using pandas\n",
    "data = pd.read_csv(\"Community_Crime_Statistics_20240120.csv\", sep=',')"
   ]
  },
  {
   "cell_type": "markdown",
   "metadata": {},
   "source": [
    "```{admonition} Reading different file formats\n",
    "Check out the [pandas documentation about input and output functions](https://pandas.pydata.org/pandas-docs/stable/user_guide/io.html#io-tools-text-csv-hdf5) and [Chapter 6](https://wesmckinney.com/book/accessing-data) in McKinney (2022) for more details about reading data.\n",
    "```"
   ]
  },
  {
   "cell_type": "markdown",
   "metadata": {},
   "source": [
    "Let’s now print the dataframe and see what it looks like. \n",
    "\n",
    "We can use the `data.head()` function of the pandas DataFrame object to quickly check the top rows. We can also check the last rows of the data using `data.tail()`"
   ]
  },
  {
   "cell_type": "code",
   "execution_count": 13,
   "metadata": {},
   "outputs": [
    {
     "data": {
      "text/html": [
       "<div>\n",
       "<style scoped>\n",
       "    .dataframe tbody tr th:only-of-type {\n",
       "        vertical-align: middle;\n",
       "    }\n",
       "\n",
       "    .dataframe tbody tr th {\n",
       "        vertical-align: top;\n",
       "    }\n",
       "\n",
       "    .dataframe thead th {\n",
       "        text-align: right;\n",
       "    }\n",
       "</style>\n",
       "<table border=\"1\" class=\"dataframe\">\n",
       "  <thead>\n",
       "    <tr style=\"text-align: right;\">\n",
       "      <th></th>\n",
       "      <th>Sector</th>\n",
       "      <th>Community Name</th>\n",
       "      <th>Category</th>\n",
       "      <th>Crime Count</th>\n",
       "      <th>Resident Count</th>\n",
       "      <th>Date</th>\n",
       "      <th>Year</th>\n",
       "      <th>Month</th>\n",
       "      <th>ID</th>\n",
       "      <th>Community Center Point</th>\n",
       "    </tr>\n",
       "  </thead>\n",
       "  <tbody>\n",
       "    <tr>\n",
       "      <th>0</th>\n",
       "      <td>NORTHWEST</td>\n",
       "      <td>ARBOUR LAKE</td>\n",
       "      <td>Theft OF Vehicle</td>\n",
       "      <td>2</td>\n",
       "      <td>10619.0</td>\n",
       "      <td>2022/04</td>\n",
       "      <td>2022</td>\n",
       "      <td>APR</td>\n",
       "      <td>2022-APR-ARBOUR LAKE-Theft OF Vehicle</td>\n",
       "      <td>POINT (-114.20767498075155 51.1325947114686)</td>\n",
       "    </tr>\n",
       "    <tr>\n",
       "      <th>1</th>\n",
       "      <td>CENTRE</td>\n",
       "      <td>BANFF TRAIL</td>\n",
       "      <td>Theft OF Vehicle</td>\n",
       "      <td>2</td>\n",
       "      <td>4153.0</td>\n",
       "      <td>2023/10</td>\n",
       "      <td>2023</td>\n",
       "      <td>OCT</td>\n",
       "      <td>2023-OCT-BANFF TRAIL-Theft OF Vehicle</td>\n",
       "      <td>POINT (-114.11512839716917 51.07421633024228)</td>\n",
       "    </tr>\n",
       "    <tr>\n",
       "      <th>2</th>\n",
       "      <td>EAST</td>\n",
       "      <td>DOVER</td>\n",
       "      <td>Theft OF Vehicle</td>\n",
       "      <td>5</td>\n",
       "      <td>10351.0</td>\n",
       "      <td>2022/12</td>\n",
       "      <td>2022</td>\n",
       "      <td>DEC</td>\n",
       "      <td>2022-DEC-DOVER-Theft OF Vehicle</td>\n",
       "      <td>POINT (-113.99305400906283 51.02256772250409)</td>\n",
       "    </tr>\n",
       "    <tr>\n",
       "      <th>3</th>\n",
       "      <td>CENTRE</td>\n",
       "      <td>GREENVIEW</td>\n",
       "      <td>Assault (Non-domestic)</td>\n",
       "      <td>2</td>\n",
       "      <td>1906.0</td>\n",
       "      <td>2020/12</td>\n",
       "      <td>2020</td>\n",
       "      <td>DEC</td>\n",
       "      <td>2020-DEC-GREENVIEW-Assault (Non-domestic)</td>\n",
       "      <td>POINT (-114.05746990262463 51.09485613506574)</td>\n",
       "    </tr>\n",
       "    <tr>\n",
       "      <th>4</th>\n",
       "      <td>NORTHWEST</td>\n",
       "      <td>HAMPTONS</td>\n",
       "      <td>Theft FROM Vehicle</td>\n",
       "      <td>3</td>\n",
       "      <td>7382.0</td>\n",
       "      <td>2019/08</td>\n",
       "      <td>2019</td>\n",
       "      <td>AUG</td>\n",
       "      <td>2019-AUG-HAMPTONS-Theft FROM Vehicle</td>\n",
       "      <td>POINT (-114.14668419231347 51.14509283969437)</td>\n",
       "    </tr>\n",
       "  </tbody>\n",
       "</table>\n",
       "</div>"
      ],
      "text/plain": [
       "      Sector Community Name                Category  Crime Count  \\\n",
       "0  NORTHWEST    ARBOUR LAKE        Theft OF Vehicle            2   \n",
       "1     CENTRE    BANFF TRAIL        Theft OF Vehicle            2   \n",
       "2       EAST          DOVER        Theft OF Vehicle            5   \n",
       "3     CENTRE      GREENVIEW  Assault (Non-domestic)            2   \n",
       "4  NORTHWEST       HAMPTONS      Theft FROM Vehicle            3   \n",
       "\n",
       "   Resident Count     Date  Year Month  \\\n",
       "0         10619.0  2022/04  2022   APR   \n",
       "1          4153.0  2023/10  2023   OCT   \n",
       "2         10351.0  2022/12  2022   DEC   \n",
       "3          1906.0  2020/12  2020   DEC   \n",
       "4          7382.0  2019/08  2019   AUG   \n",
       "\n",
       "                                          ID  \\\n",
       "0      2022-APR-ARBOUR LAKE-Theft OF Vehicle   \n",
       "1      2023-OCT-BANFF TRAIL-Theft OF Vehicle   \n",
       "2            2022-DEC-DOVER-Theft OF Vehicle   \n",
       "3  2020-DEC-GREENVIEW-Assault (Non-domestic)   \n",
       "4       2019-AUG-HAMPTONS-Theft FROM Vehicle   \n",
       "\n",
       "                          Community Center Point  \n",
       "0   POINT (-114.20767498075155 51.1325947114686)  \n",
       "1  POINT (-114.11512839716917 51.07421633024228)  \n",
       "2  POINT (-113.99305400906283 51.02256772250409)  \n",
       "3  POINT (-114.05746990262463 51.09485613506574)  \n",
       "4  POINT (-114.14668419231347 51.14509283969437)  "
      ]
     },
     "execution_count": 13,
     "metadata": {},
     "output_type": "execute_result"
    }
   ],
   "source": [
    "# print the first 5 rows of data\n",
    "data.head()"
   ]
  },
  {
   "cell_type": "markdown",
   "metadata": {},
   "source": [
    "Let's see some basic info about the data (The number of column, rows, the data type of each column etc.)"
   ]
  },
  {
   "cell_type": "code",
   "execution_count": 14,
   "metadata": {},
   "outputs": [
    {
     "name": "stdout",
     "output_type": "stream",
     "text": [
      "<class 'pandas.core.frame.DataFrame'>\n",
      "RangeIndex: 67262 entries, 0 to 67261\n",
      "Data columns (total 10 columns):\n",
      " #   Column                  Non-Null Count  Dtype  \n",
      "---  ------                  --------------  -----  \n",
      " 0   Sector                  67231 non-null  object \n",
      " 1   Community Name          67262 non-null  object \n",
      " 2   Category                67262 non-null  object \n",
      " 3   Crime Count             67262 non-null  int64  \n",
      " 4   Resident Count          67193 non-null  float64\n",
      " 5   Date                    67262 non-null  object \n",
      " 6   Year                    67262 non-null  int64  \n",
      " 7   Month                   67262 non-null  object \n",
      " 8   ID                      67262 non-null  object \n",
      " 9   Community Center Point  67231 non-null  object \n",
      "dtypes: float64(1), int64(2), object(7)\n",
      "memory usage: 5.1+ MB\n"
     ]
    }
   ],
   "source": [
    "# Check the data info\n",
    "data.info()"
   ]
  },
  {
   "cell_type": "markdown",
   "metadata": {},
   "source": [
    "Also some basic stats about numerical values in columns that contain numbers (`Crime count`, `Resident count`, `Year`)"
   ]
  },
  {
   "cell_type": "code",
   "execution_count": 15,
   "metadata": {},
   "outputs": [
    {
     "data": {
      "text/html": [
       "<div>\n",
       "<style scoped>\n",
       "    .dataframe tbody tr th:only-of-type {\n",
       "        vertical-align: middle;\n",
       "    }\n",
       "\n",
       "    .dataframe tbody tr th {\n",
       "        vertical-align: top;\n",
       "    }\n",
       "\n",
       "    .dataframe thead th {\n",
       "        text-align: right;\n",
       "    }\n",
       "</style>\n",
       "<table border=\"1\" class=\"dataframe\">\n",
       "  <thead>\n",
       "    <tr style=\"text-align: right;\">\n",
       "      <th></th>\n",
       "      <th>Crime Count</th>\n",
       "      <th>Resident Count</th>\n",
       "      <th>Year</th>\n",
       "    </tr>\n",
       "  </thead>\n",
       "  <tbody>\n",
       "    <tr>\n",
       "      <th>count</th>\n",
       "      <td>67262.000000</td>\n",
       "      <td>67193.000000</td>\n",
       "      <td>67262.000000</td>\n",
       "    </tr>\n",
       "    <tr>\n",
       "      <th>mean</th>\n",
       "      <td>2.879932</td>\n",
       "      <td>6498.019883</td>\n",
       "      <td>2020.460379</td>\n",
       "    </tr>\n",
       "    <tr>\n",
       "      <th>std</th>\n",
       "      <td>3.681941</td>\n",
       "      <td>5456.475655</td>\n",
       "      <td>1.713162</td>\n",
       "    </tr>\n",
       "    <tr>\n",
       "      <th>min</th>\n",
       "      <td>1.000000</td>\n",
       "      <td>0.000000</td>\n",
       "      <td>2018.000000</td>\n",
       "    </tr>\n",
       "    <tr>\n",
       "      <th>25%</th>\n",
       "      <td>1.000000</td>\n",
       "      <td>2263.000000</td>\n",
       "      <td>2019.000000</td>\n",
       "    </tr>\n",
       "    <tr>\n",
       "      <th>50%</th>\n",
       "      <td>2.000000</td>\n",
       "      <td>5957.000000</td>\n",
       "      <td>2020.000000</td>\n",
       "    </tr>\n",
       "    <tr>\n",
       "      <th>75%</th>\n",
       "      <td>3.000000</td>\n",
       "      <td>9244.000000</td>\n",
       "      <td>2022.000000</td>\n",
       "    </tr>\n",
       "    <tr>\n",
       "      <th>max</th>\n",
       "      <td>110.000000</td>\n",
       "      <td>25710.000000</td>\n",
       "      <td>2023.000000</td>\n",
       "    </tr>\n",
       "  </tbody>\n",
       "</table>\n",
       "</div>"
      ],
      "text/plain": [
       "        Crime Count  Resident Count          Year\n",
       "count  67262.000000    67193.000000  67262.000000\n",
       "mean       2.879932     6498.019883   2020.460379\n",
       "std        3.681941     5456.475655      1.713162\n",
       "min        1.000000        0.000000   2018.000000\n",
       "25%        1.000000     2263.000000   2019.000000\n",
       "50%        2.000000     5957.000000   2020.000000\n",
       "75%        3.000000     9244.000000   2022.000000\n",
       "max      110.000000    25710.000000   2023.000000"
      ]
     },
     "execution_count": 15,
     "metadata": {},
     "output_type": "execute_result"
    }
   ],
   "source": [
    "# Cehck the data description\n",
    "data.describe()"
   ]
  },
  {
   "cell_type": "code",
   "execution_count": null,
   "metadata": {},
   "outputs": [],
   "source": []
  }
 ],
 "metadata": {
  "kernelspec": {
   "display_name": "Python 3",
   "language": "python",
   "name": "python3"
  },
  "language_info": {
   "codemirror_mode": {
    "name": "ipython",
    "version": 3
   },
   "file_extension": ".py",
   "mimetype": "text/x-python",
   "name": "python",
   "nbconvert_exporter": "python",
   "pygments_lexer": "ipython3",
   "version": "3.9.13"
  }
 },
 "nbformat": 4,
 "nbformat_minor": 2
}
