{
 "cells": [
  {
   "cell_type": "markdown",
   "metadata": {},
   "source": [
    "# Introduction to GeoPanadas\n",
    "\n",
    "A considerable proportion of the data generated every day is inherently spatial. From Earth Observation data and GPS data to data included in all kinds of maps, spatial data –also known sometimes as geospatial data or geographic information– are data for which a specific location is associated with each record. \n",
    "\n",
    "\n",
    "There are many tools suited for geospatial data science. In this notebook, we will focus on how to use the [GeoPandas](https://geopandas.org/en/v0.9.0/getting_started.html) library to work with geospatial data. We will learn how to read, write, and manipulate geospatial data using GeoPandas. We will also learn how to visualize geospatial data using GeoPandas, as well as some basic geospatial operations such as [spatial joins](https://geopandas.org/en/v0.9.0/docs/user_guide/mergingdata.html#spatial-joins)."
   ]
  },
  {
   "cell_type": "markdown",
   "metadata": {},
   "source": [
    "## Basics of GeoPandas\n",
    "\n",
    "GeoPandas, as its name suggests, is an extension of the [pandas](https://pandas.pydata.org/pandas-docs/stable/user_guide/dsintro.html) library that helps you work with geospatial data. \n",
    "\n",
    "The main data structures in geopandas are GeoSeries and GeoDataFrame which extend the capabilities of [Series](https://pandas.pydata.org/docs/reference/api/pandas.Series.html) and [DataFrames](https://pandas.pydata.org/docs/reference/api/pandas.DataFrame.html) from pandas.\n",
    "\n",
    "The main difference between geodataframes and pandas dataframes is that a geodataframe should contain one column for geometries. By default, the name of this column is `'geometry'`, which contains the geometries (points, lines, polygons, multipolygons etc.).\n",
    "\n",
    "[![image from Geopandas website](https://geopandas.org/en/v0.9.0/_images/dataframe.svg)](https://geopandas.org/en/v0.9.0/getting_started/introduction.html)\n",
    "\n",
    "\n",
    "\n"
   ]
  },
  {
   "cell_type": "markdown",
   "metadata": {},
   "source": [
    "## Install Geopandas:\n",
    "\n",
    "To avoid complexities, GeoPandas recommends installing the library using the conda package manager. \n",
    "\n",
    "```python\n",
    "conda install geopandas\n",
    "\n",
    "```"
   ]
  },
  {
   "cell_type": "markdown",
   "metadata": {},
   "source": [
    "## Reading spatial data\n",
    "\n",
    "To read spatial data, GeoPandas comes with the `geopandas.read_file()` function. This function can automatically read most of the occurring vector-based spatial data.\n",
    "\n",
    "Some of the most common vector data formats are:\n",
    "\n",
    "- **Shapefile**. As the industry standard, shapefiles are the most common vector data format.\n",
    "- **GeoJSON**. It’s a newer format for geospatial data released in 2016. Unlike shapefiles, GeoJSON is a single file, making it easier to work with.\n",
    "\n",
    "\n",
    "### Reading from a shapefile:\n",
    "```python\n",
    "import geopandas as gpd\n",
    "\n",
    "gdf = gpd.read_file('path/to/shapefile.shp')\n",
    "\n",
    "\n",
    "```\n",
    "\n",
    "\n",
    "### Reading from a GeoJSON file:\n",
    "\n",
    "```python\n",
    "import geopandas as gpd\n",
    "\n",
    "gdf = gpd.read_file('path/to/geojson.geojson')\n",
    "\n",
    "\n",
    "```\n",
    "\n",
    "### Reading from a CSV file:\n",
    "When reading from a CSV file, you need to create a GeoDataFrame from a DataFrame by specifying the `geometry` column.\n",
    "Depending on your data, if you have a latitude and longitude column, you can create a geometry column from them using the `gpd.points_from_xy` function.\n",
    "If you have a WKT column, you can create a geometry column from it using the `gpd.GeoDataFrame` function.\n",
    "If you have line or polygon geometries, you can create a geometry column from them using the `gpd.GeoDataFrame` function.\n",
    "\n",
    "\n",
    "For example, if you read a point CSV file with columns `lon` and `lat` and you want to create a GeoDataFrame from it, the geometry column can be created from `lon` and `lat` coordinates using the `gpd.points_from_xy` function.\n",
    "\n",
    "\n",
    "\n",
    "```python\n",
    "import geopandas as gpd\n",
    "\n",
    "gdf = gpd.read_file('path/to/csv.csv')\n",
    "gdf = gpd.GeoDataFrame(gdf, geometry=gpd.points_from_xy(gdf.lon, gdf.lat))\n",
    "\n",
    "```\n"
   ]
  },
  {
   "cell_type": "code",
   "execution_count": 1,
   "metadata": {},
   "outputs": [],
   "source": [
    "# import GeoPandas\n",
    "import geopandas as gpd\n",
    "\n",
    "\n",
    "\n"
   ]
  },
  {
   "cell_type": "code",
   "execution_count": null,
   "metadata": {},
   "outputs": [],
   "source": []
  }
 ],
 "metadata": {
  "kernelspec": {
   "display_name": "Python 3",
   "language": "python",
   "name": "python3"
  },
  "language_info": {
   "codemirror_mode": {
    "name": "ipython",
    "version": 3
   },
   "file_extension": ".py",
   "mimetype": "text/x-python",
   "name": "python",
   "nbconvert_exporter": "python",
   "pygments_lexer": "ipython3",
   "version": "3.12.0"
  }
 },
 "nbformat": 4,
 "nbformat_minor": 2
}
