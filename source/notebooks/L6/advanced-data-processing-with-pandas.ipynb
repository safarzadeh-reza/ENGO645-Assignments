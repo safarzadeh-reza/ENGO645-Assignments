{
 "cells": [
  {
   "cell_type": "markdown",
   "metadata": {},
   "source": [
    "# Processing data with pandas II\n",
    "\n",
    "```{attention}\n",
    "Finnish university students are encouraged to use the CSC Notebooks platform.<br/>\n",
    "<a href=\"https://notebooks.csc.fi/\"><img alt=\"CSC badge\" src=\"https://img.shields.io/badge/launch-CSC%20notebook-blue.svg\" style=\"vertical-align:text-bottom\"></a>\n",
    "```\n",
    "\n",
    "```{note}\n",
    "We do not recommended using Binder for this lesson.\n",
    "```\n",
    "\n",
    "This week we will continue developing our skills using [pandas](https://pandas.pydata.org/) to process real data. \n",
    "\n",
    "## Motivation\n",
    "\n",
    "![Finland April 2019](img/Finland-April-2019.png)\n",
    "*Source: [https://weather.com/news/climate/news/2019-05-20-april-2019-global-temperatures-nasa-noaa](https://weather.com/news/climate/news/2019-05-20-april-2019-global-temperatures-nasa-noaa)*\n",
    "\n",
    "April 2019 was the [second warmest April on record globally](https://weather.com/news/climate/news/2019-05-20-april-2019-global-temperatures-nasa-noaa), and the warmest on record at 13 weather stations in Finland. \n",
    "In this lesson, we will use our data manipulation and analysis skills to analyze weather data, and investigate the claim that April 2019 was the warmest on record across Finland.\n",
    "\n",
    "Along the way we will cover a number of useful techniques in pandas including:\n",
    "\n",
    "- renaming columns\n",
    "- iterating data frame rows and applying functions\n",
    "- data aggregation\n",
    "- repeating the analysis task for several input files"
   ]
  },
  {
   "cell_type": "markdown",
   "metadata": {},
   "source": [
    "## Input data\n",
    "\n",
    "In the lesson this week we are using weather observation data from Finland [downloaded from NOAA](https://www.ncei.noaa.gov/cdo-web/). You will be working with data from a total of 15 different weather observation stations in Finland."
   ]
  },
  {
   "cell_type": "markdown",
   "metadata": {},
   "source": [
    "### Downloading the data\n",
    "\n",
    "```{note}\n",
    "The instructions about downloading the data only apply to students working with Jupyter Lab installed on their own computers. If you are using the CSC Notebooks you do not need follow these steps!\n",
    "```\n",
    "\n",
    "If you are working on a Jupyter environment installed on your own computer (i.e., not the CSC notebooks), the first step for today's lesson is to get the data. We recommend using the command line tool [wget](https://www.gnu.org/software/wget/) for downloading the data. wget is hopefully already installed on your computer.\n",
    "\n",
    "First, you need to open a new terminal window in Jupyter Lab (from **File** -> **New** -> **Terminal**). Once the terminal window is open, you will need to navigate to the L6 directory:\n",
    "\n",
    "```bash\n",
    "cd path/to/L6/\n",
    "```\n",
    "\n",
    "where `path/to/` should be replaced with the correct path for the Lesson 6 materials on your computer. Once in the correct directory, you can confirm this by typing:\n",
    "\n",
    "```bash\n",
    "ls\n",
    "```\n",
    "\n",
    "You should see something like the following output:\n",
    "\n",
    "```bash\n",
    "advanced-data-processing-with-pandas.ipynb errors.ipynb                               img\n",
    "debugging.ipynb                            gcp-5-assertions.ipynb\n",
    "```\n",
    "\n",
    "Next, you can download the data files using wget:\n",
    "\n",
    "```bash\n",
    "wget https://davewhipp.github.io/data/Finland-weather-data-full.tar.gz\n",
    "```\n",
    "\n",
    "After the download completes, you can extract the data files using the tar command:\n",
    "\n",
    "```bash\n",
    "tar zxvf Finland-weather-data-full.tar.gz\n",
    "```\n",
    "\n",
    "At this stage you should have a new directory called `data` that contains the data for this week's lesson. You can confirm this by listing the contents of the data-folder:\n",
    "\n",
    "```bash\n",
    "ls data\n",
    "```\n",
    "\n",
    "You should see something like the following:\n",
    "\n",
    "```bash\n",
    "028360.txt           029070.txt           029440.txt           029740.txt  6367598020644inv.txt\n",
    "028690.txt           029110.txt           029500.txt           029810.txt  6367598020644stn.txt\n",
    "028750.txt           029170.txt           029700.txt           029820.txt\n",
    "028970.txt           029350.txt           029720.txt           3505doc.txt\n",
    "```\n",
    "\n",
    "Now you should be all set to proceed with the lesson!"
   ]
  },
  {
   "cell_type": "markdown",
   "metadata": {},
   "source": [
    "## About the data\n",
    "\n",
    "As part of the download there are a number of files that describe the weather data. These *metadata* files include:\n",
    "\n",
    "- A list of stations: [6367598020644stn.txt](metadata/6367598020644stn.txt)\n",
    "- Details about weather observations at each station: [6367598020644inv.txt](metadata/6367598020644inv.txt)\n",
    "- A data description (i.e., column names): [3505doc.txt](metadata/3505doc.txt)\n",
    "\n",
    "The input data for this week are separated with varying number of spaces (i.e., fixed width). The first lines and columns of the data look like following:\n",
    "\n",
    "``` \n",
    "  USAF  WBAN YR--MODAHRMN DIR SPD GUS CLG SKC L M H  VSB MW MW MW MW AW AW AW AW W TEMP DEWP    SLP   ALT    STP MAX MIN PCP01 PCP06 PCP24 PCPXX SD\n",
    "029440 99999 190601010600 090   7 *** *** OVC * * *  0.0 ** ** ** ** ** ** ** ** *   27 **** 1011.0 ***** ****** *** *** ***** ***** ***** ***** ** \n",
    "029440 99999 190601011300 ***   0 *** *** OVC * * *  0.0 ** ** ** ** ** ** ** ** *   27 **** 1015.5 ***** ****** *** *** ***** ***** ***** ***** ** \n",
    "029440 99999 190601012000 ***   0 *** *** OVC * * *  0.0 ** ** ** ** ** ** ** ** *   25 **** 1016.2 ***** ****** *** *** ***** ***** ***** ***** ** \n",
    "029440 99999 190601020600 ***   0 *** *** CLR * * *  0.0 ** ** ** ** ** ** ** ** *   26 **** 1016.2 ***** ****** *** *** ***** ***** ***** ***** **\n",
    "```\n",
    "\n",
    "We will develop our analysis workflow using data for a single station. Then, we will repeat the same process for all the stations."
   ]
  },
  {
   "cell_type": "markdown",
   "metadata": {},
   "source": [
    "## Reading the data\n",
    "\n",
    "In order to get started, let's first import pandas: "
   ]
  },
  {
   "cell_type": "code",
   "execution_count": 1,
   "metadata": {},
   "outputs": [],
   "source": [
    "import pandas as pd"
   ]
  },
  {
   "cell_type": "markdown",
   "metadata": {},
   "source": [
    "At this point, we can already have a quick look at the data file `029440.txt` for Tampere Pirkkala and how it is structured. We can notice at least two things we need to consider when reading in the data:\n",
    "\n",
    "```{admonition} Input data structure\n",
    "- **Delimiter:** The data are **separated with a varying amount of spaces**. If you check out the documentation for the [read_csv() method](https://pandas.pydata.org/pandas-docs/stable/reference/api/pandas.read_csv.html), you can see that there are two different ways of doing this. We can use either `sep='\\s+'` or `delim_whitespace=True` (but not both at the same time). In this case, we prefer to use `delim_whitespace` parameter.\n",
    "\n",
    "- **No Data values:** No data values in the NOAA data are coded with varying number of `*`. We can tell pandas to consider those characters as NaNs by specifying `na_values=['*', '**', '***', '****', '*****', '******']`.\n",
    "```"
   ]
  },
  {
   "cell_type": "code",
   "execution_count": 2,
   "metadata": {},
   "outputs": [],
   "source": [
    "# Define absolute path to the file\n",
    "fp = r\"/home/jovyan/shared/data/L6/029440.txt\""
   ]
  },
  {
   "cell_type": "code",
   "execution_count": 3,
   "metadata": {
    "tags": [
     "remove-cell"
    ]
   },
   "outputs": [],
   "source": [
    "# This cell will be removed when building the course page\n",
    "fp = r\"data/029440.txt\""
   ]
  },
  {
   "cell_type": "code",
   "execution_count": 4,
   "metadata": {},
   "outputs": [
    {
     "name": "stderr",
     "output_type": "stream",
     "text": [
      "/var/folders/lp/cjwc88bd3w10sg327y_4ghg0fsk7jj/T/ipykernel_62561/2870290479.py:3: DtypeWarning: Columns (29,30,31) have mixed types. Specify dtype option on import or set low_memory=False.\n",
      "  data = pd.read_csv(\n"
     ]
    }
   ],
   "source": [
    "# Read data using varying amount of spaces as separator and specifying * characters as NoData values\n",
    "# And don't worry about the warning message generated when running this cell\n",
    "data = pd.read_csv(\n",
    "    fp, delim_whitespace=True, na_values=[\"*\", \"**\", \"***\", \"****\", \"*****\", \"******\"]\n",
    ")"
   ]
  },
  {
   "cell_type": "markdown",
   "metadata": {},
   "source": [
    "````{note}\n",
    "If you are working with Jupyter Lab installed locally on your own computer and extracted your files in the L6 notebooks directory, then you can use the file path below.\n",
    "\n",
    "```python\n",
    "# Define relative path to the file\n",
    "fp = r\"data/029440.txt\"\n",
    "```\n",
    "````\n",
    "\n",
    "Let's see how the data looks by printing the first five rows with the `head()` function:"
   ]
  },
  {
   "cell_type": "code",
   "execution_count": 5,
   "metadata": {
    "collapsed": false,
    "jupyter": {
     "outputs_hidden": false
    }
   },
   "outputs": [
    {
     "data": {
      "text/html": [
       "<div>\n",
       "<style scoped>\n",
       "    .dataframe tbody tr th:only-of-type {\n",
       "        vertical-align: middle;\n",
       "    }\n",
       "\n",
       "    .dataframe tbody tr th {\n",
       "        vertical-align: top;\n",
       "    }\n",
       "\n",
       "    .dataframe thead th {\n",
       "        text-align: right;\n",
       "    }\n",
       "</style>\n",
       "<table border=\"1\" class=\"dataframe\">\n",
       "  <thead>\n",
       "    <tr style=\"text-align: right;\">\n",
       "      <th></th>\n",
       "      <th>USAF</th>\n",
       "      <th>WBAN</th>\n",
       "      <th>YR--MODAHRMN</th>\n",
       "      <th>DIR</th>\n",
       "      <th>SPD</th>\n",
       "      <th>GUS</th>\n",
       "      <th>CLG</th>\n",
       "      <th>SKC</th>\n",
       "      <th>L</th>\n",
       "      <th>M</th>\n",
       "      <th>...</th>\n",
       "      <th>SLP</th>\n",
       "      <th>ALT</th>\n",
       "      <th>STP</th>\n",
       "      <th>MAX</th>\n",
       "      <th>MIN</th>\n",
       "      <th>PCP01</th>\n",
       "      <th>PCP06</th>\n",
       "      <th>PCP24</th>\n",
       "      <th>PCPXX</th>\n",
       "      <th>SD</th>\n",
       "    </tr>\n",
       "  </thead>\n",
       "  <tbody>\n",
       "    <tr>\n",
       "      <th>0</th>\n",
       "      <td>29440</td>\n",
       "      <td>99999</td>\n",
       "      <td>190601010600</td>\n",
       "      <td>90.0</td>\n",
       "      <td>7.0</td>\n",
       "      <td>NaN</td>\n",
       "      <td>NaN</td>\n",
       "      <td>OVC</td>\n",
       "      <td>NaN</td>\n",
       "      <td>NaN</td>\n",
       "      <td>...</td>\n",
       "      <td>1011.0</td>\n",
       "      <td>NaN</td>\n",
       "      <td>NaN</td>\n",
       "      <td>NaN</td>\n",
       "      <td>NaN</td>\n",
       "      <td>NaN</td>\n",
       "      <td>NaN</td>\n",
       "      <td>NaN</td>\n",
       "      <td>NaN</td>\n",
       "      <td>NaN</td>\n",
       "    </tr>\n",
       "    <tr>\n",
       "      <th>1</th>\n",
       "      <td>29440</td>\n",
       "      <td>99999</td>\n",
       "      <td>190601011300</td>\n",
       "      <td>NaN</td>\n",
       "      <td>0.0</td>\n",
       "      <td>NaN</td>\n",
       "      <td>NaN</td>\n",
       "      <td>OVC</td>\n",
       "      <td>NaN</td>\n",
       "      <td>NaN</td>\n",
       "      <td>...</td>\n",
       "      <td>1015.5</td>\n",
       "      <td>NaN</td>\n",
       "      <td>NaN</td>\n",
       "      <td>NaN</td>\n",
       "      <td>NaN</td>\n",
       "      <td>NaN</td>\n",
       "      <td>NaN</td>\n",
       "      <td>NaN</td>\n",
       "      <td>NaN</td>\n",
       "      <td>NaN</td>\n",
       "    </tr>\n",
       "    <tr>\n",
       "      <th>2</th>\n",
       "      <td>29440</td>\n",
       "      <td>99999</td>\n",
       "      <td>190601012000</td>\n",
       "      <td>NaN</td>\n",
       "      <td>0.0</td>\n",
       "      <td>NaN</td>\n",
       "      <td>NaN</td>\n",
       "      <td>OVC</td>\n",
       "      <td>NaN</td>\n",
       "      <td>NaN</td>\n",
       "      <td>...</td>\n",
       "      <td>1016.2</td>\n",
       "      <td>NaN</td>\n",
       "      <td>NaN</td>\n",
       "      <td>NaN</td>\n",
       "      <td>NaN</td>\n",
       "      <td>NaN</td>\n",
       "      <td>NaN</td>\n",
       "      <td>NaN</td>\n",
       "      <td>NaN</td>\n",
       "      <td>NaN</td>\n",
       "    </tr>\n",
       "    <tr>\n",
       "      <th>3</th>\n",
       "      <td>29440</td>\n",
       "      <td>99999</td>\n",
       "      <td>190601020600</td>\n",
       "      <td>NaN</td>\n",
       "      <td>0.0</td>\n",
       "      <td>NaN</td>\n",
       "      <td>NaN</td>\n",
       "      <td>CLR</td>\n",
       "      <td>NaN</td>\n",
       "      <td>NaN</td>\n",
       "      <td>...</td>\n",
       "      <td>1016.2</td>\n",
       "      <td>NaN</td>\n",
       "      <td>NaN</td>\n",
       "      <td>NaN</td>\n",
       "      <td>NaN</td>\n",
       "      <td>NaN</td>\n",
       "      <td>NaN</td>\n",
       "      <td>NaN</td>\n",
       "      <td>NaN</td>\n",
       "      <td>NaN</td>\n",
       "    </tr>\n",
       "    <tr>\n",
       "      <th>4</th>\n",
       "      <td>29440</td>\n",
       "      <td>99999</td>\n",
       "      <td>190601021300</td>\n",
       "      <td>270.0</td>\n",
       "      <td>7.0</td>\n",
       "      <td>NaN</td>\n",
       "      <td>NaN</td>\n",
       "      <td>OVC</td>\n",
       "      <td>NaN</td>\n",
       "      <td>NaN</td>\n",
       "      <td>...</td>\n",
       "      <td>1015.6</td>\n",
       "      <td>NaN</td>\n",
       "      <td>NaN</td>\n",
       "      <td>NaN</td>\n",
       "      <td>NaN</td>\n",
       "      <td>NaN</td>\n",
       "      <td>NaN</td>\n",
       "      <td>NaN</td>\n",
       "      <td>NaN</td>\n",
       "      <td>NaN</td>\n",
       "    </tr>\n",
       "  </tbody>\n",
       "</table>\n",
       "<p>5 rows × 33 columns</p>\n",
       "</div>"
      ],
      "text/plain": [
       "    USAF   WBAN  YR--MODAHRMN    DIR  SPD  GUS  CLG  SKC   L   M  ...     SLP  \\\n",
       "0  29440  99999  190601010600   90.0  7.0  NaN  NaN  OVC NaN NaN  ...  1011.0   \n",
       "1  29440  99999  190601011300    NaN  0.0  NaN  NaN  OVC NaN NaN  ...  1015.5   \n",
       "2  29440  99999  190601012000    NaN  0.0  NaN  NaN  OVC NaN NaN  ...  1016.2   \n",
       "3  29440  99999  190601020600    NaN  0.0  NaN  NaN  CLR NaN NaN  ...  1016.2   \n",
       "4  29440  99999  190601021300  270.0  7.0  NaN  NaN  OVC NaN NaN  ...  1015.6   \n",
       "\n",
       "   ALT  STP  MAX  MIN  PCP01  PCP06  PCP24  PCPXX  SD  \n",
       "0  NaN  NaN  NaN  NaN    NaN    NaN    NaN    NaN NaN  \n",
       "1  NaN  NaN  NaN  NaN    NaN    NaN    NaN    NaN NaN  \n",
       "2  NaN  NaN  NaN  NaN    NaN    NaN    NaN    NaN NaN  \n",
       "3  NaN  NaN  NaN  NaN    NaN    NaN    NaN    NaN NaN  \n",
       "4  NaN  NaN  NaN  NaN    NaN    NaN    NaN    NaN NaN  \n",
       "\n",
       "[5 rows x 33 columns]"
      ]
     },
     "execution_count": 5,
     "metadata": {},
     "output_type": "execute_result"
    }
   ],
   "source": [
    "data.head()"
   ]
  },
  {
   "cell_type": "markdown",
   "metadata": {},
   "source": [
    "All seems ok. However, we won't be needing all of the 33 columns for detecting warm temperatures in April. We can check all column names by running `data.columns`:"
   ]
  },
  {
   "cell_type": "code",
   "execution_count": 6,
   "metadata": {
    "collapsed": false,
    "jupyter": {
     "outputs_hidden": false
    }
   },
   "outputs": [
    {
     "data": {
      "text/plain": [
       "Index(['USAF', 'WBAN', 'YR--MODAHRMN', 'DIR', 'SPD', 'GUS', 'CLG', 'SKC', 'L',\n",
       "       'M', 'H', 'VSB', 'MW', 'MW.1', 'MW.2', 'MW.3', 'AW', 'AW.1', 'AW.2',\n",
       "       'AW.3', 'W', 'TEMP', 'DEWP', 'SLP', 'ALT', 'STP', 'MAX', 'MIN', 'PCP01',\n",
       "       'PCP06', 'PCP24', 'PCPXX', 'SD'],\n",
       "      dtype='object')"
      ]
     },
     "execution_count": 6,
     "metadata": {},
     "output_type": "execute_result"
    }
   ],
   "source": [
    "data.columns"
   ]
  },
  {
   "cell_type": "markdown",
   "metadata": {},
   "source": [
    "A description for all these columns is available in the metadata file [data/3505doc.txt](metadata/3505doc.txt). \n",
    "\n",
    "### Reading in the data once again\n",
    "\n",
    "This time, we will read in only some of the columns using the `usecols` parameter. Let's read in columns that might be somehow useful to our analysis, or at least that contain some values that are meaningful to us, including the station name, timestamp, and data about wind and temperature: `'USAF','YR--MODAHRMN', 'DIR', 'SPD', 'GUS','TEMP', 'MAX', 'MIN'`"
   ]
  },
  {
   "cell_type": "code",
   "execution_count": 7,
   "metadata": {},
   "outputs": [
    {
     "data": {
      "text/html": [
       "<div>\n",
       "<style scoped>\n",
       "    .dataframe tbody tr th:only-of-type {\n",
       "        vertical-align: middle;\n",
       "    }\n",
       "\n",
       "    .dataframe tbody tr th {\n",
       "        vertical-align: top;\n",
       "    }\n",
       "\n",
       "    .dataframe thead th {\n",
       "        text-align: right;\n",
       "    }\n",
       "</style>\n",
       "<table border=\"1\" class=\"dataframe\">\n",
       "  <thead>\n",
       "    <tr style=\"text-align: right;\">\n",
       "      <th></th>\n",
       "      <th>USAF</th>\n",
       "      <th>YR--MODAHRMN</th>\n",
       "      <th>DIR</th>\n",
       "      <th>SPD</th>\n",
       "      <th>GUS</th>\n",
       "      <th>TEMP</th>\n",
       "      <th>MAX</th>\n",
       "      <th>MIN</th>\n",
       "    </tr>\n",
       "  </thead>\n",
       "  <tbody>\n",
       "    <tr>\n",
       "      <th>0</th>\n",
       "      <td>29440</td>\n",
       "      <td>190601010600</td>\n",
       "      <td>90.0</td>\n",
       "      <td>7.0</td>\n",
       "      <td>NaN</td>\n",
       "      <td>27.0</td>\n",
       "      <td>NaN</td>\n",
       "      <td>NaN</td>\n",
       "    </tr>\n",
       "    <tr>\n",
       "      <th>1</th>\n",
       "      <td>29440</td>\n",
       "      <td>190601011300</td>\n",
       "      <td>NaN</td>\n",
       "      <td>0.0</td>\n",
       "      <td>NaN</td>\n",
       "      <td>27.0</td>\n",
       "      <td>NaN</td>\n",
       "      <td>NaN</td>\n",
       "    </tr>\n",
       "    <tr>\n",
       "      <th>2</th>\n",
       "      <td>29440</td>\n",
       "      <td>190601012000</td>\n",
       "      <td>NaN</td>\n",
       "      <td>0.0</td>\n",
       "      <td>NaN</td>\n",
       "      <td>25.0</td>\n",
       "      <td>NaN</td>\n",
       "      <td>NaN</td>\n",
       "    </tr>\n",
       "    <tr>\n",
       "      <th>3</th>\n",
       "      <td>29440</td>\n",
       "      <td>190601020600</td>\n",
       "      <td>NaN</td>\n",
       "      <td>0.0</td>\n",
       "      <td>NaN</td>\n",
       "      <td>26.0</td>\n",
       "      <td>NaN</td>\n",
       "      <td>NaN</td>\n",
       "    </tr>\n",
       "    <tr>\n",
       "      <th>4</th>\n",
       "      <td>29440</td>\n",
       "      <td>190601021300</td>\n",
       "      <td>270.0</td>\n",
       "      <td>7.0</td>\n",
       "      <td>NaN</td>\n",
       "      <td>27.0</td>\n",
       "      <td>NaN</td>\n",
       "      <td>NaN</td>\n",
       "    </tr>\n",
       "  </tbody>\n",
       "</table>\n",
       "</div>"
      ],
      "text/plain": [
       "    USAF  YR--MODAHRMN    DIR  SPD  GUS  TEMP  MAX  MIN\n",
       "0  29440  190601010600   90.0  7.0  NaN  27.0  NaN  NaN\n",
       "1  29440  190601011300    NaN  0.0  NaN  27.0  NaN  NaN\n",
       "2  29440  190601012000    NaN  0.0  NaN  25.0  NaN  NaN\n",
       "3  29440  190601020600    NaN  0.0  NaN  26.0  NaN  NaN\n",
       "4  29440  190601021300  270.0  7.0  NaN  27.0  NaN  NaN"
      ]
     },
     "execution_count": 7,
     "metadata": {},
     "output_type": "execute_result"
    }
   ],
   "source": [
    "# Read in only selected columns\n",
    "data = pd.read_csv(\n",
    "    fp,\n",
    "    delim_whitespace=True,\n",
    "    usecols=[\"USAF\", \"YR--MODAHRMN\", \"DIR\", \"SPD\", \"GUS\", \"TEMP\", \"MAX\", \"MIN\"],\n",
    "    na_values=[\"*\", \"**\", \"***\", \"****\", \"*****\", \"******\"],\n",
    ")\n",
    "\n",
    "# Check the dataframe\n",
    "data.head()"
   ]
  },
  {
   "cell_type": "markdown",
   "metadata": {},
   "source": [
    "Okay so we can see that the data was successfully read to the DataFrame and we also seemed to be able to convert the asterisk (\\*) characters into `NaN` values. "
   ]
  },
  {
   "cell_type": "markdown",
   "metadata": {},
   "source": [
    "## Renaming columns\n",
    "\n",
    "As we saw above some of the column names are a bit awkward and difficult to interpret. Luckily, it is easy to alter labels in a pandas DataFrame using the [rename](https://pandas.pydata.org/pandas-docs/stable/reference/api/pandas.DataFrame.rename.html) function. In order to change the column names, we need to tell pandas how we want to rename the columns using a dictionary that lists old and new column names\n",
    "\n",
    "Let's first check again the current column names in our DataFrame:"
   ]
  },
  {
   "cell_type": "code",
   "execution_count": 8,
   "metadata": {},
   "outputs": [
    {
     "data": {
      "text/plain": [
       "Index(['USAF', 'YR--MODAHRMN', 'DIR', 'SPD', 'GUS', 'TEMP', 'MAX', 'MIN'], dtype='object')"
      ]
     },
     "execution_count": 8,
     "metadata": {},
     "output_type": "execute_result"
    }
   ],
   "source": [
    "data.columns"
   ]
  },
  {
   "cell_type": "markdown",
   "metadata": {},
   "source": [
    "We can define the new column names using a [dictionary](https://docs.python.org/3/tutorial/datastructures.html#dictionaries) where we list `key: value` pairs, in which the original column name (the one which will be replaced) is the key and the new column name is the value.\n",
    "\n",
    "```{admonition} Dictionaries\n",
    "A [dictionary](https://docs.python.org/3/tutorial/datastructures.html#dictionaries) is a specific type of data structure in Python for storing key-value pairs. In this course, we will use dictionaries mainly when renaming columns in a pandas DataFrame, but dictionaries are useful for many different purposes! For more information about Python dictionaries, check out [this tutorial](https://realpython.com/python-dicts/).\n",
    "```\n",
    "\n",
    "Let's change the following:\n",
    "\n",
    "- `YR--MODAHRMN` to `TIME`\n",
    "- `SPD` to `SPEED`\n",
    "- `GUS` to `GUST`"
   ]
  },
  {
   "cell_type": "code",
   "execution_count": 9,
   "metadata": {
    "collapsed": false,
    "jupyter": {
     "outputs_hidden": false
    }
   },
   "outputs": [
    {
     "data": {
      "text/plain": [
       "{'YR--MODAHRMN': 'TIME', 'SPD': 'SPEED', 'GUS': 'GUST'}"
      ]
     },
     "execution_count": 9,
     "metadata": {},
     "output_type": "execute_result"
    }
   ],
   "source": [
    "# Create the dictionary with old and new names\n",
    "new_names = {\"YR--MODAHRMN\": \"TIME\", \"SPD\": \"SPEED\", \"GUS\": \"GUST\"}\n",
    "\n",
    "# Let's see what the variable new_names look like\n",
    "new_names"
   ]
  },
  {
   "cell_type": "code",
   "execution_count": 10,
   "metadata": {},
   "outputs": [
    {
     "data": {
      "text/plain": [
       "dict"
      ]
     },
     "execution_count": 10,
     "metadata": {},
     "output_type": "execute_result"
    }
   ],
   "source": [
    "# Check the data type of the new_names variable\n",
    "type(new_names)"
   ]
  },
  {
   "cell_type": "markdown",
   "metadata": {},
   "source": [
    "From above we can see that we have successfully created a new dictionary. \n",
    "\n",
    "Now we can change the column names by passing that dictionary using the parameter `columns` in the `rename()` function:"
   ]
  },
  {
   "cell_type": "code",
   "execution_count": 11,
   "metadata": {
    "collapsed": false,
    "jupyter": {
     "outputs_hidden": false
    }
   },
   "outputs": [
    {
     "name": "stdout",
     "output_type": "stream",
     "text": [
      "Index(['USAF', 'TIME', 'DIR', 'SPEED', 'GUST', 'TEMP', 'MAX', 'MIN'], dtype='object')\n"
     ]
    }
   ],
   "source": [
    "# Rename the columns\n",
    "data = data.rename(columns=new_names)\n",
    "\n",
    "# Print the new columns\n",
    "print(data.columns)"
   ]
  },
  {
   "cell_type": "markdown",
   "metadata": {},
   "source": [
    "Perfect, now our column names are easier to understand and use. "
   ]
  },
  {
   "cell_type": "markdown",
   "metadata": {},
   "source": [
    "### Check your understanding\n",
    "\n",
    "The temperature values in our data files are again in Fahrenheit. As you might guess, we will soon convert these temperatures in to Celsius. In order to avoid confusion with the columns, let's rename the column `TEMP` to `TEMP_F`. Let's also rename `USAF` to `STATION_NUMBER`."
   ]
  },
  {
   "cell_type": "code",
   "execution_count": 12,
   "metadata": {
    "tags": [
     "hide-cell"
    ]
   },
   "outputs": [
    {
     "data": {
      "text/html": [
       "<div>\n",
       "<style scoped>\n",
       "    .dataframe tbody tr th:only-of-type {\n",
       "        vertical-align: middle;\n",
       "    }\n",
       "\n",
       "    .dataframe tbody tr th {\n",
       "        vertical-align: top;\n",
       "    }\n",
       "\n",
       "    .dataframe thead th {\n",
       "        text-align: right;\n",
       "    }\n",
       "</style>\n",
       "<table border=\"1\" class=\"dataframe\">\n",
       "  <thead>\n",
       "    <tr style=\"text-align: right;\">\n",
       "      <th></th>\n",
       "      <th>STATION_NUMBER</th>\n",
       "      <th>TIME</th>\n",
       "      <th>DIR</th>\n",
       "      <th>SPEED</th>\n",
       "      <th>GUST</th>\n",
       "      <th>TEMP_F</th>\n",
       "      <th>MAX</th>\n",
       "      <th>MIN</th>\n",
       "    </tr>\n",
       "  </thead>\n",
       "  <tbody>\n",
       "    <tr>\n",
       "      <th>0</th>\n",
       "      <td>29440</td>\n",
       "      <td>190601010600</td>\n",
       "      <td>90.0</td>\n",
       "      <td>7.0</td>\n",
       "      <td>NaN</td>\n",
       "      <td>27.0</td>\n",
       "      <td>NaN</td>\n",
       "      <td>NaN</td>\n",
       "    </tr>\n",
       "    <tr>\n",
       "      <th>1</th>\n",
       "      <td>29440</td>\n",
       "      <td>190601011300</td>\n",
       "      <td>NaN</td>\n",
       "      <td>0.0</td>\n",
       "      <td>NaN</td>\n",
       "      <td>27.0</td>\n",
       "      <td>NaN</td>\n",
       "      <td>NaN</td>\n",
       "    </tr>\n",
       "    <tr>\n",
       "      <th>2</th>\n",
       "      <td>29440</td>\n",
       "      <td>190601012000</td>\n",
       "      <td>NaN</td>\n",
       "      <td>0.0</td>\n",
       "      <td>NaN</td>\n",
       "      <td>25.0</td>\n",
       "      <td>NaN</td>\n",
       "      <td>NaN</td>\n",
       "    </tr>\n",
       "    <tr>\n",
       "      <th>3</th>\n",
       "      <td>29440</td>\n",
       "      <td>190601020600</td>\n",
       "      <td>NaN</td>\n",
       "      <td>0.0</td>\n",
       "      <td>NaN</td>\n",
       "      <td>26.0</td>\n",
       "      <td>NaN</td>\n",
       "      <td>NaN</td>\n",
       "    </tr>\n",
       "    <tr>\n",
       "      <th>4</th>\n",
       "      <td>29440</td>\n",
       "      <td>190601021300</td>\n",
       "      <td>270.0</td>\n",
       "      <td>7.0</td>\n",
       "      <td>NaN</td>\n",
       "      <td>27.0</td>\n",
       "      <td>NaN</td>\n",
       "      <td>NaN</td>\n",
       "    </tr>\n",
       "  </tbody>\n",
       "</table>\n",
       "</div>"
      ],
      "text/plain": [
       "   STATION_NUMBER          TIME    DIR  SPEED  GUST  TEMP_F  MAX  MIN\n",
       "0           29440  190601010600   90.0    7.0   NaN    27.0  NaN  NaN\n",
       "1           29440  190601011300    NaN    0.0   NaN    27.0  NaN  NaN\n",
       "2           29440  190601012000    NaN    0.0   NaN    25.0  NaN  NaN\n",
       "3           29440  190601020600    NaN    0.0   NaN    26.0  NaN  NaN\n",
       "4           29440  190601021300  270.0    7.0   NaN    27.0  NaN  NaN"
      ]
     },
     "execution_count": 12,
     "metadata": {},
     "output_type": "execute_result"
    }
   ],
   "source": [
    "# Solution\n",
    "# Create the dictionary with old and new names\n",
    "new_names = {\"USAF\": \"STATION_NUMBER\", \"TEMP\": \"TEMP_F\"}\n",
    "\n",
    "# Rename the columns\n",
    "data = data.rename(columns=new_names)\n",
    "\n",
    "# Check the output\n",
    "data.head()"
   ]
  },
  {
   "cell_type": "markdown",
   "metadata": {},
   "source": [
    "## Data properties\n",
    "\n",
    "As we learned last week, it's always a good idea to check basic properties of the input data before proceeding with the data analysis. Let's check the:\n",
    "\n",
    "- Number of rows and columns"
   ]
  },
  {
   "cell_type": "code",
   "execution_count": 13,
   "metadata": {},
   "outputs": [
    {
     "data": {
      "text/plain": [
       "(757983, 8)"
      ]
     },
     "execution_count": 13,
     "metadata": {},
     "output_type": "execute_result"
    }
   ],
   "source": [
    "data.shape"
   ]
  },
  {
   "cell_type": "markdown",
   "metadata": {},
   "source": [
    "- Top and bottom rows"
   ]
  },
  {
   "cell_type": "code",
   "execution_count": 14,
   "metadata": {},
   "outputs": [
    {
     "data": {
      "text/html": [
       "<div>\n",
       "<style scoped>\n",
       "    .dataframe tbody tr th:only-of-type {\n",
       "        vertical-align: middle;\n",
       "    }\n",
       "\n",
       "    .dataframe tbody tr th {\n",
       "        vertical-align: top;\n",
       "    }\n",
       "\n",
       "    .dataframe thead th {\n",
       "        text-align: right;\n",
       "    }\n",
       "</style>\n",
       "<table border=\"1\" class=\"dataframe\">\n",
       "  <thead>\n",
       "    <tr style=\"text-align: right;\">\n",
       "      <th></th>\n",
       "      <th>STATION_NUMBER</th>\n",
       "      <th>TIME</th>\n",
       "      <th>DIR</th>\n",
       "      <th>SPEED</th>\n",
       "      <th>GUST</th>\n",
       "      <th>TEMP_F</th>\n",
       "      <th>MAX</th>\n",
       "      <th>MIN</th>\n",
       "    </tr>\n",
       "  </thead>\n",
       "  <tbody>\n",
       "    <tr>\n",
       "      <th>0</th>\n",
       "      <td>29440</td>\n",
       "      <td>190601010600</td>\n",
       "      <td>90.0</td>\n",
       "      <td>7.0</td>\n",
       "      <td>NaN</td>\n",
       "      <td>27.0</td>\n",
       "      <td>NaN</td>\n",
       "      <td>NaN</td>\n",
       "    </tr>\n",
       "    <tr>\n",
       "      <th>1</th>\n",
       "      <td>29440</td>\n",
       "      <td>190601011300</td>\n",
       "      <td>NaN</td>\n",
       "      <td>0.0</td>\n",
       "      <td>NaN</td>\n",
       "      <td>27.0</td>\n",
       "      <td>NaN</td>\n",
       "      <td>NaN</td>\n",
       "    </tr>\n",
       "    <tr>\n",
       "      <th>2</th>\n",
       "      <td>29440</td>\n",
       "      <td>190601012000</td>\n",
       "      <td>NaN</td>\n",
       "      <td>0.0</td>\n",
       "      <td>NaN</td>\n",
       "      <td>25.0</td>\n",
       "      <td>NaN</td>\n",
       "      <td>NaN</td>\n",
       "    </tr>\n",
       "    <tr>\n",
       "      <th>3</th>\n",
       "      <td>29440</td>\n",
       "      <td>190601020600</td>\n",
       "      <td>NaN</td>\n",
       "      <td>0.0</td>\n",
       "      <td>NaN</td>\n",
       "      <td>26.0</td>\n",
       "      <td>NaN</td>\n",
       "      <td>NaN</td>\n",
       "    </tr>\n",
       "    <tr>\n",
       "      <th>4</th>\n",
       "      <td>29440</td>\n",
       "      <td>190601021300</td>\n",
       "      <td>270.0</td>\n",
       "      <td>7.0</td>\n",
       "      <td>NaN</td>\n",
       "      <td>27.0</td>\n",
       "      <td>NaN</td>\n",
       "      <td>NaN</td>\n",
       "    </tr>\n",
       "  </tbody>\n",
       "</table>\n",
       "</div>"
      ],
      "text/plain": [
       "   STATION_NUMBER          TIME    DIR  SPEED  GUST  TEMP_F  MAX  MIN\n",
       "0           29440  190601010600   90.0    7.0   NaN    27.0  NaN  NaN\n",
       "1           29440  190601011300    NaN    0.0   NaN    27.0  NaN  NaN\n",
       "2           29440  190601012000    NaN    0.0   NaN    25.0  NaN  NaN\n",
       "3           29440  190601020600    NaN    0.0   NaN    26.0  NaN  NaN\n",
       "4           29440  190601021300  270.0    7.0   NaN    27.0  NaN  NaN"
      ]
     },
     "execution_count": 14,
     "metadata": {},
     "output_type": "execute_result"
    }
   ],
   "source": [
    "data.head()"
   ]
  },
  {
   "cell_type": "code",
   "execution_count": 15,
   "metadata": {},
   "outputs": [
    {
     "data": {
      "text/html": [
       "<div>\n",
       "<style scoped>\n",
       "    .dataframe tbody tr th:only-of-type {\n",
       "        vertical-align: middle;\n",
       "    }\n",
       "\n",
       "    .dataframe tbody tr th {\n",
       "        vertical-align: top;\n",
       "    }\n",
       "\n",
       "    .dataframe thead th {\n",
       "        text-align: right;\n",
       "    }\n",
       "</style>\n",
       "<table border=\"1\" class=\"dataframe\">\n",
       "  <thead>\n",
       "    <tr style=\"text-align: right;\">\n",
       "      <th></th>\n",
       "      <th>STATION_NUMBER</th>\n",
       "      <th>TIME</th>\n",
       "      <th>DIR</th>\n",
       "      <th>SPEED</th>\n",
       "      <th>GUST</th>\n",
       "      <th>TEMP_F</th>\n",
       "      <th>MAX</th>\n",
       "      <th>MIN</th>\n",
       "    </tr>\n",
       "  </thead>\n",
       "  <tbody>\n",
       "    <tr>\n",
       "      <th>757978</th>\n",
       "      <td>29440</td>\n",
       "      <td>201910012220</td>\n",
       "      <td>130.0</td>\n",
       "      <td>3.0</td>\n",
       "      <td>NaN</td>\n",
       "      <td>39.0</td>\n",
       "      <td>NaN</td>\n",
       "      <td>NaN</td>\n",
       "    </tr>\n",
       "    <tr>\n",
       "      <th>757979</th>\n",
       "      <td>29440</td>\n",
       "      <td>201910012250</td>\n",
       "      <td>110.0</td>\n",
       "      <td>3.0</td>\n",
       "      <td>NaN</td>\n",
       "      <td>37.0</td>\n",
       "      <td>NaN</td>\n",
       "      <td>NaN</td>\n",
       "    </tr>\n",
       "    <tr>\n",
       "      <th>757980</th>\n",
       "      <td>29440</td>\n",
       "      <td>201910012300</td>\n",
       "      <td>100.0</td>\n",
       "      <td>2.0</td>\n",
       "      <td>NaN</td>\n",
       "      <td>38.0</td>\n",
       "      <td>NaN</td>\n",
       "      <td>NaN</td>\n",
       "    </tr>\n",
       "    <tr>\n",
       "      <th>757981</th>\n",
       "      <td>29440</td>\n",
       "      <td>201910012320</td>\n",
       "      <td>100.0</td>\n",
       "      <td>3.0</td>\n",
       "      <td>NaN</td>\n",
       "      <td>37.0</td>\n",
       "      <td>NaN</td>\n",
       "      <td>NaN</td>\n",
       "    </tr>\n",
       "    <tr>\n",
       "      <th>757982</th>\n",
       "      <td>29440</td>\n",
       "      <td>201910012350</td>\n",
       "      <td>110.0</td>\n",
       "      <td>3.0</td>\n",
       "      <td>NaN</td>\n",
       "      <td>37.0</td>\n",
       "      <td>NaN</td>\n",
       "      <td>NaN</td>\n",
       "    </tr>\n",
       "  </tbody>\n",
       "</table>\n",
       "</div>"
      ],
      "text/plain": [
       "        STATION_NUMBER          TIME    DIR  SPEED  GUST  TEMP_F  MAX  MIN\n",
       "757978           29440  201910012220  130.0    3.0   NaN    39.0  NaN  NaN\n",
       "757979           29440  201910012250  110.0    3.0   NaN    37.0  NaN  NaN\n",
       "757980           29440  201910012300  100.0    2.0   NaN    38.0  NaN  NaN\n",
       "757981           29440  201910012320  100.0    3.0   NaN    37.0  NaN  NaN\n",
       "757982           29440  201910012350  110.0    3.0   NaN    37.0  NaN  NaN"
      ]
     },
     "execution_count": 15,
     "metadata": {},
     "output_type": "execute_result"
    }
   ],
   "source": [
    "data.tail()"
   ]
  },
  {
   "cell_type": "markdown",
   "metadata": {},
   "source": [
    "- Data types of the columns"
   ]
  },
  {
   "cell_type": "code",
   "execution_count": 16,
   "metadata": {},
   "outputs": [
    {
     "data": {
      "text/plain": [
       "STATION_NUMBER      int64\n",
       "TIME                int64\n",
       "DIR               float64\n",
       "SPEED             float64\n",
       "GUST              float64\n",
       "TEMP_F            float64\n",
       "MAX               float64\n",
       "MIN               float64\n",
       "dtype: object"
      ]
     },
     "execution_count": 16,
     "metadata": {},
     "output_type": "execute_result"
    }
   ],
   "source": [
    "data.dtypes"
   ]
  },
  {
   "cell_type": "markdown",
   "metadata": {},
   "source": [
    "- Descriptive statistics"
   ]
  },
  {
   "cell_type": "code",
   "execution_count": 17,
   "metadata": {
    "collapsed": false,
    "jupyter": {
     "outputs_hidden": false
    }
   },
   "outputs": [
    {
     "data": {
      "text/html": [
       "<div>\n",
       "<style scoped>\n",
       "    .dataframe tbody tr th:only-of-type {\n",
       "        vertical-align: middle;\n",
       "    }\n",
       "\n",
       "    .dataframe tbody tr th {\n",
       "        vertical-align: top;\n",
       "    }\n",
       "\n",
       "    .dataframe thead th {\n",
       "        text-align: right;\n",
       "    }\n",
       "</style>\n",
       "<table border=\"1\" class=\"dataframe\">\n",
       "  <thead>\n",
       "    <tr style=\"text-align: right;\">\n",
       "      <th></th>\n",
       "      <th>STATION_NUMBER</th>\n",
       "      <th>TIME</th>\n",
       "      <th>DIR</th>\n",
       "      <th>SPEED</th>\n",
       "      <th>GUST</th>\n",
       "      <th>TEMP_F</th>\n",
       "      <th>MAX</th>\n",
       "      <th>MIN</th>\n",
       "    </tr>\n",
       "  </thead>\n",
       "  <tbody>\n",
       "    <tr>\n",
       "      <th>count</th>\n",
       "      <td>757983.0</td>\n",
       "      <td>7.579830e+05</td>\n",
       "      <td>699256.000000</td>\n",
       "      <td>750143.000000</td>\n",
       "      <td>19906.000000</td>\n",
       "      <td>754862.000000</td>\n",
       "      <td>23869.000000</td>\n",
       "      <td>23268.000000</td>\n",
       "    </tr>\n",
       "    <tr>\n",
       "      <th>mean</th>\n",
       "      <td>29440.0</td>\n",
       "      <td>1.999974e+11</td>\n",
       "      <td>233.499846</td>\n",
       "      <td>6.742641</td>\n",
       "      <td>20.147996</td>\n",
       "      <td>40.409778</td>\n",
       "      <td>45.373539</td>\n",
       "      <td>35.783737</td>\n",
       "    </tr>\n",
       "    <tr>\n",
       "      <th>std</th>\n",
       "      <td>0.0</td>\n",
       "      <td>1.629544e+09</td>\n",
       "      <td>209.707258</td>\n",
       "      <td>4.296191</td>\n",
       "      <td>7.415138</td>\n",
       "      <td>17.898715</td>\n",
       "      <td>18.242679</td>\n",
       "      <td>17.195427</td>\n",
       "    </tr>\n",
       "    <tr>\n",
       "      <th>min</th>\n",
       "      <td>29440.0</td>\n",
       "      <td>1.906010e+11</td>\n",
       "      <td>10.000000</td>\n",
       "      <td>0.000000</td>\n",
       "      <td>11.000000</td>\n",
       "      <td>-33.000000</td>\n",
       "      <td>-26.000000</td>\n",
       "      <td>-32.000000</td>\n",
       "    </tr>\n",
       "    <tr>\n",
       "      <th>25%</th>\n",
       "      <td>29440.0</td>\n",
       "      <td>1.989083e+11</td>\n",
       "      <td>130.000000</td>\n",
       "      <td>3.000000</td>\n",
       "      <td>14.000000</td>\n",
       "      <td>29.000000</td>\n",
       "      <td>32.000000</td>\n",
       "      <td>26.000000</td>\n",
       "    </tr>\n",
       "    <tr>\n",
       "      <th>50%</th>\n",
       "      <td>29440.0</td>\n",
       "      <td>2.004042e+11</td>\n",
       "      <td>200.000000</td>\n",
       "      <td>7.000000</td>\n",
       "      <td>18.000000</td>\n",
       "      <td>39.000000</td>\n",
       "      <td>44.000000</td>\n",
       "      <td>36.000000</td>\n",
       "    </tr>\n",
       "    <tr>\n",
       "      <th>75%</th>\n",
       "      <td>29440.0</td>\n",
       "      <td>2.012050e+11</td>\n",
       "      <td>270.000000</td>\n",
       "      <td>9.000000</td>\n",
       "      <td>26.000000</td>\n",
       "      <td>54.000000</td>\n",
       "      <td>60.000000</td>\n",
       "      <td>49.000000</td>\n",
       "    </tr>\n",
       "    <tr>\n",
       "      <th>max</th>\n",
       "      <td>29440.0</td>\n",
       "      <td>2.019100e+11</td>\n",
       "      <td>990.000000</td>\n",
       "      <td>61.000000</td>\n",
       "      <td>108.000000</td>\n",
       "      <td>91.000000</td>\n",
       "      <td>91.000000</td>\n",
       "      <td>81.000000</td>\n",
       "    </tr>\n",
       "  </tbody>\n",
       "</table>\n",
       "</div>"
      ],
      "text/plain": [
       "       STATION_NUMBER          TIME            DIR          SPEED  \\\n",
       "count        757983.0  7.579830e+05  699256.000000  750143.000000   \n",
       "mean          29440.0  1.999974e+11     233.499846       6.742641   \n",
       "std               0.0  1.629544e+09     209.707258       4.296191   \n",
       "min           29440.0  1.906010e+11      10.000000       0.000000   \n",
       "25%           29440.0  1.989083e+11     130.000000       3.000000   \n",
       "50%           29440.0  2.004042e+11     200.000000       7.000000   \n",
       "75%           29440.0  2.012050e+11     270.000000       9.000000   \n",
       "max           29440.0  2.019100e+11     990.000000      61.000000   \n",
       "\n",
       "               GUST         TEMP_F           MAX           MIN  \n",
       "count  19906.000000  754862.000000  23869.000000  23268.000000  \n",
       "mean      20.147996      40.409778     45.373539     35.783737  \n",
       "std        7.415138      17.898715     18.242679     17.195427  \n",
       "min       11.000000     -33.000000    -26.000000    -32.000000  \n",
       "25%       14.000000      29.000000     32.000000     26.000000  \n",
       "50%       18.000000      39.000000     44.000000     36.000000  \n",
       "75%       26.000000      54.000000     60.000000     49.000000  \n",
       "max      108.000000      91.000000     91.000000     81.000000  "
      ]
     },
     "execution_count": 17,
     "metadata": {},
     "output_type": "execute_result"
    }
   ],
   "source": [
    "data.describe()"
   ]
  },
  {
   "cell_type": "markdown",
   "metadata": {},
   "source": [
    "Here we can see that there are varying number of observations per column (look at the `count` row above), because some of the columns have missing values."
   ]
  },
  {
   "cell_type": "markdown",
   "metadata": {},
   "source": [
    "## Using your own functions in pandas \n",
    "\n",
    "Now it's again time to convert temperatures from Fahrenheit to Celsius! Yes, we have already done this many times before, but this time we will learn how to apply our own functions to data in a pandas DataFrame.\n",
    "\n",
    "First, we will define a function for the temperature conversion, and then we will apply this function for each Fahrenheit value on each row of the DataFrame. The output celsius values will be stored in a new column called `TEMP_C`.\n",
    "\n",
    "To begin we will see how we can apply the function row-by-row using a `for` loop and then we will learn how to apply the function to all rows more efficiently all at once.\n",
    "\n",
    "### Defining the function\n",
    "\n",
    "For both of these approaches, we first need to define our function to convert temperature from Fahrenheit to Celsius."
   ]
  },
  {
   "cell_type": "code",
   "execution_count": 18,
   "metadata": {},
   "outputs": [],
   "source": [
    "def fahr_to_celsius(temp_fahrenheit):\n",
    "    \"\"\"Function to convert Fahrenheit temperature into Celsius.\n",
    "\n",
    "    Parameters\n",
    "    ----------\n",
    "\n",
    "    temp_fahrenheit: int | float\n",
    "        Input temperature in Fahrenheit (should be a number)\n",
    "\n",
    "    Returns\n",
    "    -------\n",
    "\n",
    "    Temperature in Celsius (float)\n",
    "    \"\"\"\n",
    "\n",
    "    # Convert the Fahrenheit into Celsius\n",
    "    converted_temp = (temp_fahrenheit - 32) / 1.8\n",
    "\n",
    "    return converted_temp"
   ]
  },
  {
   "cell_type": "markdown",
   "metadata": {},
   "source": [
    "To make sure everything is working properly, let's test the function with a known value."
   ]
  },
  {
   "cell_type": "code",
   "execution_count": 19,
   "metadata": {},
   "outputs": [
    {
     "data": {
      "text/plain": [
       "0.0"
      ]
     },
     "execution_count": 19,
     "metadata": {},
     "output_type": "execute_result"
    }
   ],
   "source": [
    "fahr_to_celsius(32)"
   ]
  },
  {
   "cell_type": "markdown",
   "metadata": {},
   "source": [
    "Let's also print out the first rows of our data frame to see our input data before further processing."
   ]
  },
  {
   "cell_type": "code",
   "execution_count": 20,
   "metadata": {},
   "outputs": [
    {
     "data": {
      "text/html": [
       "<div>\n",
       "<style scoped>\n",
       "    .dataframe tbody tr th:only-of-type {\n",
       "        vertical-align: middle;\n",
       "    }\n",
       "\n",
       "    .dataframe tbody tr th {\n",
       "        vertical-align: top;\n",
       "    }\n",
       "\n",
       "    .dataframe thead th {\n",
       "        text-align: right;\n",
       "    }\n",
       "</style>\n",
       "<table border=\"1\" class=\"dataframe\">\n",
       "  <thead>\n",
       "    <tr style=\"text-align: right;\">\n",
       "      <th></th>\n",
       "      <th>STATION_NUMBER</th>\n",
       "      <th>TIME</th>\n",
       "      <th>DIR</th>\n",
       "      <th>SPEED</th>\n",
       "      <th>GUST</th>\n",
       "      <th>TEMP_F</th>\n",
       "      <th>MAX</th>\n",
       "      <th>MIN</th>\n",
       "    </tr>\n",
       "  </thead>\n",
       "  <tbody>\n",
       "    <tr>\n",
       "      <th>0</th>\n",
       "      <td>29440</td>\n",
       "      <td>190601010600</td>\n",
       "      <td>90.0</td>\n",
       "      <td>7.0</td>\n",
       "      <td>NaN</td>\n",
       "      <td>27.0</td>\n",
       "      <td>NaN</td>\n",
       "      <td>NaN</td>\n",
       "    </tr>\n",
       "    <tr>\n",
       "      <th>1</th>\n",
       "      <td>29440</td>\n",
       "      <td>190601011300</td>\n",
       "      <td>NaN</td>\n",
       "      <td>0.0</td>\n",
       "      <td>NaN</td>\n",
       "      <td>27.0</td>\n",
       "      <td>NaN</td>\n",
       "      <td>NaN</td>\n",
       "    </tr>\n",
       "    <tr>\n",
       "      <th>2</th>\n",
       "      <td>29440</td>\n",
       "      <td>190601012000</td>\n",
       "      <td>NaN</td>\n",
       "      <td>0.0</td>\n",
       "      <td>NaN</td>\n",
       "      <td>25.0</td>\n",
       "      <td>NaN</td>\n",
       "      <td>NaN</td>\n",
       "    </tr>\n",
       "    <tr>\n",
       "      <th>3</th>\n",
       "      <td>29440</td>\n",
       "      <td>190601020600</td>\n",
       "      <td>NaN</td>\n",
       "      <td>0.0</td>\n",
       "      <td>NaN</td>\n",
       "      <td>26.0</td>\n",
       "      <td>NaN</td>\n",
       "      <td>NaN</td>\n",
       "    </tr>\n",
       "    <tr>\n",
       "      <th>4</th>\n",
       "      <td>29440</td>\n",
       "      <td>190601021300</td>\n",
       "      <td>270.0</td>\n",
       "      <td>7.0</td>\n",
       "      <td>NaN</td>\n",
       "      <td>27.0</td>\n",
       "      <td>NaN</td>\n",
       "      <td>NaN</td>\n",
       "    </tr>\n",
       "  </tbody>\n",
       "</table>\n",
       "</div>"
      ],
      "text/plain": [
       "   STATION_NUMBER          TIME    DIR  SPEED  GUST  TEMP_F  MAX  MIN\n",
       "0           29440  190601010600   90.0    7.0   NaN    27.0  NaN  NaN\n",
       "1           29440  190601011300    NaN    0.0   NaN    27.0  NaN  NaN\n",
       "2           29440  190601012000    NaN    0.0   NaN    25.0  NaN  NaN\n",
       "3           29440  190601020600    NaN    0.0   NaN    26.0  NaN  NaN\n",
       "4           29440  190601021300  270.0    7.0   NaN    27.0  NaN  NaN"
      ]
     },
     "execution_count": 20,
     "metadata": {},
     "output_type": "execute_result"
    }
   ],
   "source": [
    "data.head()"
   ]
  },
  {
   "cell_type": "markdown",
   "metadata": {},
   "source": [
    "### Iterating over rows\n",
    "\n",
    "We can use the function one row at a time using a `for` loop and the [iterrows()](https://pandas.pydata.org/pandas-docs/stable/reference/api/pandas.DataFrame.iterrows.html) method. This will allow us to iterate row by row using `iterrows()` in a `for` loop to repeat a given process *for each row in a pandas DataFrame*. Please note that iterating over rows is a rather inefficient approach, but it is still useful to understand the logic behind the iteration.\n",
    "\n",
    "When using the `iterrows()` method it is important to understand that `iterrows()` accesses not only the values of one row, but also the `index` of the row as well. \n",
    "\n",
    "Let's start with a simple for loop that goes through each row in our DataFrame.\n",
    "\n",
    "```{note}\n",
    "We use single quotes to select the column `TEMP_F` of the row in the example below. This is because using double quotes would result in a `SyntaxError` since Python would interpret this as the end of the string for the `print()` function.\n",
    "```"
   ]
  },
  {
   "cell_type": "code",
   "execution_count": 21,
   "metadata": {
    "collapsed": false,
    "jupyter": {
     "outputs_hidden": false
    }
   },
   "outputs": [
    {
     "name": "stdout",
     "output_type": "stream",
     "text": [
      "Index: 0\n",
      "Temp F: 27.0\n",
      "\n"
     ]
    }
   ],
   "source": [
    "# Iterate over the rows\n",
    "for idx, row in data.iterrows():\n",
    "\n",
    "    # Print the index value\n",
    "    print(f\"Index: {idx}\")\n",
    "\n",
    "    # Print the row\n",
    "    print(f\"Temp F: {row['TEMP_F']}\\n\")\n",
    "\n",
    "    break"
   ]
  },
  {
   "cell_type": "markdown",
   "metadata": {},
   "source": [
    "```{admonition} Breaking a loop\n",
    "When developing code in a `for` loop, you do not always need to go through the entire loop in order to test things out. \n",
    "The [break](https://docs.python.org/3/reference/simple_stmts.html#break) statement in Python terminates the current loop whereever it is placed and we can use it here just to check out the values on the first row (based on the first iteration in the `for` loop.\n",
    "This can be helpful when working with a large data file or dataset, because you might not want to print thousands of values to the screen!\n",
    "For more information, check out [this tutorial](https://www.tutorialspoint.com/python/python_break_statement.htm).\n",
    "```"
   ]
  },
  {
   "cell_type": "markdown",
   "metadata": {},
   "source": [
    "We can see that the `idx` variable indeed contains the index value at position 0 (the first row) and the `row` variable contains all the data from that given row stored as a pandas `Series`.\n",
    "\n",
    "Let's now create an empty column `TEMP_C` for the Celsius temperatures and update the values in that column using the `fahr_to_celsius` function we defined earlier."
   ]
  },
  {
   "cell_type": "code",
   "execution_count": 22,
   "metadata": {},
   "outputs": [],
   "source": [
    "# Create an empty float column for the output values\n",
    "data[\"TEMP_C\"] = 0.0\n",
    "\n",
    "# Iterate over the rows\n",
    "for idx, row in data.iterrows():\n",
    "\n",
    "    # Convert the Fahrenheit to Celsius\n",
    "    celsius = fahr_to_celsius(row[\"TEMP_F\"])\n",
    "\n",
    "    # Update the value of 'Celsius' column with the converted value\n",
    "    data.at[idx, \"TEMP_C\"] = celsius"
   ]
  },
  {
   "cell_type": "markdown",
   "metadata": {},
   "source": [
    "```{admonition} Reminder: .at or .loc?\n",
    "Here, you could also use `data.loc[idx, new_column] = celsius` to achieve the same result. \n",
    "    \n",
    "If you only need to access a single value in a DataFrame, [DataFrame.at](https://pandas.pydata.org/pandas-docs/stable/reference/api/pandas.DataFrame.at.html) is faster than [DataFrame.loc](https://pandas.pydata.org/pandas-docs/stable/reference/api/pandas.DataFrame.loc.html), which is designed for accessing groups of rows and columns. \n",
    "```"
   ]
  },
  {
   "cell_type": "markdown",
   "metadata": {},
   "source": [
    "Finally, let's see how our DataFrame looks like now after the calculations above."
   ]
  },
  {
   "cell_type": "code",
   "execution_count": 23,
   "metadata": {},
   "outputs": [
    {
     "data": {
      "text/html": [
       "<div>\n",
       "<style scoped>\n",
       "    .dataframe tbody tr th:only-of-type {\n",
       "        vertical-align: middle;\n",
       "    }\n",
       "\n",
       "    .dataframe tbody tr th {\n",
       "        vertical-align: top;\n",
       "    }\n",
       "\n",
       "    .dataframe thead th {\n",
       "        text-align: right;\n",
       "    }\n",
       "</style>\n",
       "<table border=\"1\" class=\"dataframe\">\n",
       "  <thead>\n",
       "    <tr style=\"text-align: right;\">\n",
       "      <th></th>\n",
       "      <th>STATION_NUMBER</th>\n",
       "      <th>TIME</th>\n",
       "      <th>DIR</th>\n",
       "      <th>SPEED</th>\n",
       "      <th>GUST</th>\n",
       "      <th>TEMP_F</th>\n",
       "      <th>MAX</th>\n",
       "      <th>MIN</th>\n",
       "      <th>TEMP_C</th>\n",
       "    </tr>\n",
       "  </thead>\n",
       "  <tbody>\n",
       "    <tr>\n",
       "      <th>0</th>\n",
       "      <td>29440</td>\n",
       "      <td>190601010600</td>\n",
       "      <td>90.0</td>\n",
       "      <td>7.0</td>\n",
       "      <td>NaN</td>\n",
       "      <td>27.0</td>\n",
       "      <td>NaN</td>\n",
       "      <td>NaN</td>\n",
       "      <td>-2.777778</td>\n",
       "    </tr>\n",
       "    <tr>\n",
       "      <th>1</th>\n",
       "      <td>29440</td>\n",
       "      <td>190601011300</td>\n",
       "      <td>NaN</td>\n",
       "      <td>0.0</td>\n",
       "      <td>NaN</td>\n",
       "      <td>27.0</td>\n",
       "      <td>NaN</td>\n",
       "      <td>NaN</td>\n",
       "      <td>-2.777778</td>\n",
       "    </tr>\n",
       "    <tr>\n",
       "      <th>2</th>\n",
       "      <td>29440</td>\n",
       "      <td>190601012000</td>\n",
       "      <td>NaN</td>\n",
       "      <td>0.0</td>\n",
       "      <td>NaN</td>\n",
       "      <td>25.0</td>\n",
       "      <td>NaN</td>\n",
       "      <td>NaN</td>\n",
       "      <td>-3.888889</td>\n",
       "    </tr>\n",
       "    <tr>\n",
       "      <th>3</th>\n",
       "      <td>29440</td>\n",
       "      <td>190601020600</td>\n",
       "      <td>NaN</td>\n",
       "      <td>0.0</td>\n",
       "      <td>NaN</td>\n",
       "      <td>26.0</td>\n",
       "      <td>NaN</td>\n",
       "      <td>NaN</td>\n",
       "      <td>-3.333333</td>\n",
       "    </tr>\n",
       "    <tr>\n",
       "      <th>4</th>\n",
       "      <td>29440</td>\n",
       "      <td>190601021300</td>\n",
       "      <td>270.0</td>\n",
       "      <td>7.0</td>\n",
       "      <td>NaN</td>\n",
       "      <td>27.0</td>\n",
       "      <td>NaN</td>\n",
       "      <td>NaN</td>\n",
       "      <td>-2.777778</td>\n",
       "    </tr>\n",
       "  </tbody>\n",
       "</table>\n",
       "</div>"
      ],
      "text/plain": [
       "   STATION_NUMBER          TIME    DIR  SPEED  GUST  TEMP_F  MAX  MIN  \\\n",
       "0           29440  190601010600   90.0    7.0   NaN    27.0  NaN  NaN   \n",
       "1           29440  190601011300    NaN    0.0   NaN    27.0  NaN  NaN   \n",
       "2           29440  190601012000    NaN    0.0   NaN    25.0  NaN  NaN   \n",
       "3           29440  190601020600    NaN    0.0   NaN    26.0  NaN  NaN   \n",
       "4           29440  190601021300  270.0    7.0   NaN    27.0  NaN  NaN   \n",
       "\n",
       "     TEMP_C  \n",
       "0 -2.777778  \n",
       "1 -2.777778  \n",
       "2 -3.888889  \n",
       "3 -3.333333  \n",
       "4 -2.777778  "
      ]
     },
     "execution_count": 23,
     "metadata": {},
     "output_type": "execute_result"
    }
   ],
   "source": [
    "data.head()"
   ]
  },
  {
   "cell_type": "markdown",
   "metadata": {},
   "source": [
    "### Applying the function\n",
    "\n",
    "pandas DataFrames and Series have a dedicated method `.apply()` for applying functions on columns (or rows!). When using `.apply()`, we pass the function name (without parentheses!) as an argument to the `apply()` method. Let's start by applying the function to the `TEMP_F` column that contains the temperature values in Fahrenheit."
   ]
  },
  {
   "cell_type": "code",
   "execution_count": 24,
   "metadata": {},
   "outputs": [
    {
     "data": {
      "text/plain": [
       "0        -2.777778\n",
       "1        -2.777778\n",
       "2        -3.888889\n",
       "3        -3.333333\n",
       "4        -2.777778\n",
       "            ...   \n",
       "757978    3.888889\n",
       "757979    2.777778\n",
       "757980    3.333333\n",
       "757981    2.777778\n",
       "757982    2.777778\n",
       "Name: TEMP_F, Length: 757983, dtype: float64"
      ]
     },
     "execution_count": 24,
     "metadata": {},
     "output_type": "execute_result"
    }
   ],
   "source": [
    "data[\"TEMP_F\"].apply(fahr_to_celsius)"
   ]
  },
  {
   "cell_type": "markdown",
   "metadata": {},
   "source": [
    "The results look logical, so we can store them permanently into the `TEMP_C` column (overwriting the old values)."
   ]
  },
  {
   "cell_type": "code",
   "execution_count": 25,
   "metadata": {},
   "outputs": [],
   "source": [
    "data[\"TEMP_C\"] = data[\"TEMP_F\"].apply(fahr_to_celsius)"
   ]
  },
  {
   "cell_type": "markdown",
   "metadata": {},
   "source": [
    "We can also apply the function on several columns at once. Furthermore, we can re-order the dataframe at the same time."
   ]
  },
  {
   "cell_type": "code",
   "execution_count": 26,
   "metadata": {},
   "outputs": [
    {
     "data": {
      "text/html": [
       "<div>\n",
       "<style scoped>\n",
       "    .dataframe tbody tr th:only-of-type {\n",
       "        vertical-align: middle;\n",
       "    }\n",
       "\n",
       "    .dataframe tbody tr th {\n",
       "        vertical-align: top;\n",
       "    }\n",
       "\n",
       "    .dataframe thead th {\n",
       "        text-align: right;\n",
       "    }\n",
       "</style>\n",
       "<table border=\"1\" class=\"dataframe\">\n",
       "  <thead>\n",
       "    <tr style=\"text-align: right;\">\n",
       "      <th></th>\n",
       "      <th>TEMP_F</th>\n",
       "      <th>MIN</th>\n",
       "      <th>MAX</th>\n",
       "    </tr>\n",
       "  </thead>\n",
       "  <tbody>\n",
       "    <tr>\n",
       "      <th>0</th>\n",
       "      <td>-2.777778</td>\n",
       "      <td>NaN</td>\n",
       "      <td>NaN</td>\n",
       "    </tr>\n",
       "    <tr>\n",
       "      <th>1</th>\n",
       "      <td>-2.777778</td>\n",
       "      <td>NaN</td>\n",
       "      <td>NaN</td>\n",
       "    </tr>\n",
       "    <tr>\n",
       "      <th>2</th>\n",
       "      <td>-3.888889</td>\n",
       "      <td>NaN</td>\n",
       "      <td>NaN</td>\n",
       "    </tr>\n",
       "    <tr>\n",
       "      <th>3</th>\n",
       "      <td>-3.333333</td>\n",
       "      <td>NaN</td>\n",
       "      <td>NaN</td>\n",
       "    </tr>\n",
       "    <tr>\n",
       "      <th>4</th>\n",
       "      <td>-2.777778</td>\n",
       "      <td>NaN</td>\n",
       "      <td>NaN</td>\n",
       "    </tr>\n",
       "    <tr>\n",
       "      <th>...</th>\n",
       "      <td>...</td>\n",
       "      <td>...</td>\n",
       "      <td>...</td>\n",
       "    </tr>\n",
       "    <tr>\n",
       "      <th>757978</th>\n",
       "      <td>3.888889</td>\n",
       "      <td>NaN</td>\n",
       "      <td>NaN</td>\n",
       "    </tr>\n",
       "    <tr>\n",
       "      <th>757979</th>\n",
       "      <td>2.777778</td>\n",
       "      <td>NaN</td>\n",
       "      <td>NaN</td>\n",
       "    </tr>\n",
       "    <tr>\n",
       "      <th>757980</th>\n",
       "      <td>3.333333</td>\n",
       "      <td>NaN</td>\n",
       "      <td>NaN</td>\n",
       "    </tr>\n",
       "    <tr>\n",
       "      <th>757981</th>\n",
       "      <td>2.777778</td>\n",
       "      <td>NaN</td>\n",
       "      <td>NaN</td>\n",
       "    </tr>\n",
       "    <tr>\n",
       "      <th>757982</th>\n",
       "      <td>2.777778</td>\n",
       "      <td>NaN</td>\n",
       "      <td>NaN</td>\n",
       "    </tr>\n",
       "  </tbody>\n",
       "</table>\n",
       "<p>757983 rows × 3 columns</p>\n",
       "</div>"
      ],
      "text/plain": [
       "          TEMP_F  MIN  MAX\n",
       "0      -2.777778  NaN  NaN\n",
       "1      -2.777778  NaN  NaN\n",
       "2      -3.888889  NaN  NaN\n",
       "3      -3.333333  NaN  NaN\n",
       "4      -2.777778  NaN  NaN\n",
       "...          ...  ...  ...\n",
       "757978  3.888889  NaN  NaN\n",
       "757979  2.777778  NaN  NaN\n",
       "757980  3.333333  NaN  NaN\n",
       "757981  2.777778  NaN  NaN\n",
       "757982  2.777778  NaN  NaN\n",
       "\n",
       "[757983 rows x 3 columns]"
      ]
     },
     "execution_count": 26,
     "metadata": {},
     "output_type": "execute_result"
    }
   ],
   "source": [
    "data[[\"TEMP_F\", \"MIN\", \"MAX\"]].apply(fahr_to_celsius)"
   ]
  },
  {
   "cell_type": "markdown",
   "metadata": {},
   "source": [
    "### Check your understanding\n",
    "\n",
    "Convert `'TEMP_F'`, `'MIN'`, `'MAX'` to Celsius by applying the function like we did above and store the outputs to  new columns `'TEMP_C'`, `'MIN_C'`, `'MAX_C'`."
   ]
  },
  {
   "cell_type": "code",
   "execution_count": 27,
   "metadata": {
    "tags": [
     "hide-cell"
    ]
   },
   "outputs": [],
   "source": [
    "# Solution\n",
    "data[[\"TEMP_C\", \"MIN_C\", \"MAX_C\"]] = data[[\"TEMP_F\", \"MIN\", \"MAX\"]].apply(\n",
    "    fahr_to_celsius\n",
    ")"
   ]
  },
  {
   "cell_type": "markdown",
   "metadata": {},
   "source": [
    "```{note}\n",
    "Applying the function on all columns using `data.apply(fahr_to_celsius)` would not give an error for the data we are using, but the results also do not make much sense for columns where input data are something other than Fahrenheit temperatures.\n",
    "```"
   ]
  },
  {
   "cell_type": "markdown",
   "metadata": {},
   "source": [
    "You might also notice that our conversion function would also allow us to \n",
    "pass one column or the entire dataframe as a parameter. For example, like this: `fahr_to_celsius(data[\"TEMP_F\"])`. However, the code is perhaps easier to follow when using the apply method."
   ]
  },
  {
   "cell_type": "markdown",
   "metadata": {},
   "source": [
    "Let's check now take a look at the DataFrame contents."
   ]
  },
  {
   "cell_type": "code",
   "execution_count": 28,
   "metadata": {
    "collapsed": false,
    "jupyter": {
     "outputs_hidden": false
    }
   },
   "outputs": [
    {
     "data": {
      "text/html": [
       "<div>\n",
       "<style scoped>\n",
       "    .dataframe tbody tr th:only-of-type {\n",
       "        vertical-align: middle;\n",
       "    }\n",
       "\n",
       "    .dataframe tbody tr th {\n",
       "        vertical-align: top;\n",
       "    }\n",
       "\n",
       "    .dataframe thead th {\n",
       "        text-align: right;\n",
       "    }\n",
       "</style>\n",
       "<table border=\"1\" class=\"dataframe\">\n",
       "  <thead>\n",
       "    <tr style=\"text-align: right;\">\n",
       "      <th></th>\n",
       "      <th>STATION_NUMBER</th>\n",
       "      <th>TIME</th>\n",
       "      <th>DIR</th>\n",
       "      <th>SPEED</th>\n",
       "      <th>GUST</th>\n",
       "      <th>TEMP_F</th>\n",
       "      <th>MAX</th>\n",
       "      <th>MIN</th>\n",
       "      <th>TEMP_C</th>\n",
       "      <th>MIN_C</th>\n",
       "      <th>MAX_C</th>\n",
       "    </tr>\n",
       "  </thead>\n",
       "  <tbody>\n",
       "    <tr>\n",
       "      <th>0</th>\n",
       "      <td>29440</td>\n",
       "      <td>190601010600</td>\n",
       "      <td>90.0</td>\n",
       "      <td>7.0</td>\n",
       "      <td>NaN</td>\n",
       "      <td>27.0</td>\n",
       "      <td>NaN</td>\n",
       "      <td>NaN</td>\n",
       "      <td>-2.777778</td>\n",
       "      <td>NaN</td>\n",
       "      <td>NaN</td>\n",
       "    </tr>\n",
       "    <tr>\n",
       "      <th>1</th>\n",
       "      <td>29440</td>\n",
       "      <td>190601011300</td>\n",
       "      <td>NaN</td>\n",
       "      <td>0.0</td>\n",
       "      <td>NaN</td>\n",
       "      <td>27.0</td>\n",
       "      <td>NaN</td>\n",
       "      <td>NaN</td>\n",
       "      <td>-2.777778</td>\n",
       "      <td>NaN</td>\n",
       "      <td>NaN</td>\n",
       "    </tr>\n",
       "    <tr>\n",
       "      <th>2</th>\n",
       "      <td>29440</td>\n",
       "      <td>190601012000</td>\n",
       "      <td>NaN</td>\n",
       "      <td>0.0</td>\n",
       "      <td>NaN</td>\n",
       "      <td>25.0</td>\n",
       "      <td>NaN</td>\n",
       "      <td>NaN</td>\n",
       "      <td>-3.888889</td>\n",
       "      <td>NaN</td>\n",
       "      <td>NaN</td>\n",
       "    </tr>\n",
       "    <tr>\n",
       "      <th>3</th>\n",
       "      <td>29440</td>\n",
       "      <td>190601020600</td>\n",
       "      <td>NaN</td>\n",
       "      <td>0.0</td>\n",
       "      <td>NaN</td>\n",
       "      <td>26.0</td>\n",
       "      <td>NaN</td>\n",
       "      <td>NaN</td>\n",
       "      <td>-3.333333</td>\n",
       "      <td>NaN</td>\n",
       "      <td>NaN</td>\n",
       "    </tr>\n",
       "    <tr>\n",
       "      <th>4</th>\n",
       "      <td>29440</td>\n",
       "      <td>190601021300</td>\n",
       "      <td>270.0</td>\n",
       "      <td>7.0</td>\n",
       "      <td>NaN</td>\n",
       "      <td>27.0</td>\n",
       "      <td>NaN</td>\n",
       "      <td>NaN</td>\n",
       "      <td>-2.777778</td>\n",
       "      <td>NaN</td>\n",
       "      <td>NaN</td>\n",
       "    </tr>\n",
       "    <tr>\n",
       "      <th>5</th>\n",
       "      <td>29440</td>\n",
       "      <td>190601022000</td>\n",
       "      <td>NaN</td>\n",
       "      <td>0.0</td>\n",
       "      <td>NaN</td>\n",
       "      <td>27.0</td>\n",
       "      <td>NaN</td>\n",
       "      <td>NaN</td>\n",
       "      <td>-2.777778</td>\n",
       "      <td>NaN</td>\n",
       "      <td>NaN</td>\n",
       "    </tr>\n",
       "    <tr>\n",
       "      <th>6</th>\n",
       "      <td>29440</td>\n",
       "      <td>190601030600</td>\n",
       "      <td>270.0</td>\n",
       "      <td>7.0</td>\n",
       "      <td>NaN</td>\n",
       "      <td>26.0</td>\n",
       "      <td>NaN</td>\n",
       "      <td>NaN</td>\n",
       "      <td>-3.333333</td>\n",
       "      <td>NaN</td>\n",
       "      <td>NaN</td>\n",
       "    </tr>\n",
       "    <tr>\n",
       "      <th>7</th>\n",
       "      <td>29440</td>\n",
       "      <td>190601031300</td>\n",
       "      <td>270.0</td>\n",
       "      <td>7.0</td>\n",
       "      <td>NaN</td>\n",
       "      <td>25.0</td>\n",
       "      <td>NaN</td>\n",
       "      <td>NaN</td>\n",
       "      <td>-3.888889</td>\n",
       "      <td>NaN</td>\n",
       "      <td>NaN</td>\n",
       "    </tr>\n",
       "    <tr>\n",
       "      <th>8</th>\n",
       "      <td>29440</td>\n",
       "      <td>190601032000</td>\n",
       "      <td>270.0</td>\n",
       "      <td>7.0</td>\n",
       "      <td>NaN</td>\n",
       "      <td>24.0</td>\n",
       "      <td>NaN</td>\n",
       "      <td>NaN</td>\n",
       "      <td>-4.444444</td>\n",
       "      <td>NaN</td>\n",
       "      <td>NaN</td>\n",
       "    </tr>\n",
       "    <tr>\n",
       "      <th>9</th>\n",
       "      <td>29440</td>\n",
       "      <td>190601040600</td>\n",
       "      <td>NaN</td>\n",
       "      <td>0.0</td>\n",
       "      <td>NaN</td>\n",
       "      <td>18.0</td>\n",
       "      <td>NaN</td>\n",
       "      <td>NaN</td>\n",
       "      <td>-7.777778</td>\n",
       "      <td>NaN</td>\n",
       "      <td>NaN</td>\n",
       "    </tr>\n",
       "  </tbody>\n",
       "</table>\n",
       "</div>"
      ],
      "text/plain": [
       "   STATION_NUMBER          TIME    DIR  SPEED  GUST  TEMP_F  MAX  MIN  \\\n",
       "0           29440  190601010600   90.0    7.0   NaN    27.0  NaN  NaN   \n",
       "1           29440  190601011300    NaN    0.0   NaN    27.0  NaN  NaN   \n",
       "2           29440  190601012000    NaN    0.0   NaN    25.0  NaN  NaN   \n",
       "3           29440  190601020600    NaN    0.0   NaN    26.0  NaN  NaN   \n",
       "4           29440  190601021300  270.0    7.0   NaN    27.0  NaN  NaN   \n",
       "5           29440  190601022000    NaN    0.0   NaN    27.0  NaN  NaN   \n",
       "6           29440  190601030600  270.0    7.0   NaN    26.0  NaN  NaN   \n",
       "7           29440  190601031300  270.0    7.0   NaN    25.0  NaN  NaN   \n",
       "8           29440  190601032000  270.0    7.0   NaN    24.0  NaN  NaN   \n",
       "9           29440  190601040600    NaN    0.0   NaN    18.0  NaN  NaN   \n",
       "\n",
       "     TEMP_C  MIN_C  MAX_C  \n",
       "0 -2.777778    NaN    NaN  \n",
       "1 -2.777778    NaN    NaN  \n",
       "2 -3.888889    NaN    NaN  \n",
       "3 -3.333333    NaN    NaN  \n",
       "4 -2.777778    NaN    NaN  \n",
       "5 -2.777778    NaN    NaN  \n",
       "6 -3.333333    NaN    NaN  \n",
       "7 -3.888889    NaN    NaN  \n",
       "8 -4.444444    NaN    NaN  \n",
       "9 -7.777778    NaN    NaN  "
      ]
     },
     "execution_count": 28,
     "metadata": {},
     "output_type": "execute_result"
    }
   ],
   "source": [
    "data.head(10)"
   ]
  },
  {
   "cell_type": "markdown",
   "metadata": {},
   "source": [
    "```{admonition} Should I use .iterrows() or .apply()?\n",
    "We are teaching the `.iterrows()` method because it helps to understand the structure of a DataFrame and the process of looping through DataFrame rows. However, using `.apply()` is often more efficient in terms of execution time. \n",
    "\n",
    "At this point, the most important thing is that you understand what happens when you are modifying the values in a pandas DataFrame. When doing the course exercises, either of these approaches is ok!\n",
    "```"
   ]
  },
  {
   "cell_type": "markdown",
   "metadata": {},
   "source": [
    "## Parsing dates\n",
    "\n",
    "As part of this lesson, we eventually want to group our data based on month in order to see whether the temperatures in April of 2019 were warmer than average. Currently, the date and time information is stored in the column `TIME` (which was originally titled `YR--MODAHRMN`:\n",
    "\n",
    "`YR--MODAHRMN = YEAR-MONTH-DAY-HOUR-MINUTE IN GREENWICH MEAN TIME (GMT)`"
   ]
  },
  {
   "cell_type": "markdown",
   "metadata": {},
   "source": [
    "Let's have a closer look at the date and time information we have by checking the values in that column, and their data type."
   ]
  },
  {
   "cell_type": "code",
   "execution_count": 29,
   "metadata": {},
   "outputs": [
    {
     "data": {
      "text/plain": [
       "0    190601010600\n",
       "1    190601011300\n",
       "2    190601012000\n",
       "3    190601020600\n",
       "4    190601021300\n",
       "5    190601022000\n",
       "6    190601030600\n",
       "7    190601031300\n",
       "8    190601032000\n",
       "9    190601040600\n",
       "Name: TIME, dtype: int64"
      ]
     },
     "execution_count": 29,
     "metadata": {},
     "output_type": "execute_result"
    }
   ],
   "source": [
    "data[\"TIME\"].head(10)"
   ]
  },
  {
   "cell_type": "code",
   "execution_count": 30,
   "metadata": {},
   "outputs": [
    {
     "data": {
      "text/plain": [
       "757973    201910012050\n",
       "757974    201910012100\n",
       "757975    201910012120\n",
       "757976    201910012150\n",
       "757977    201910012200\n",
       "757978    201910012220\n",
       "757979    201910012250\n",
       "757980    201910012300\n",
       "757981    201910012320\n",
       "757982    201910012350\n",
       "Name: TIME, dtype: int64"
      ]
     },
     "execution_count": 30,
     "metadata": {},
     "output_type": "execute_result"
    }
   ],
   "source": [
    "data[\"TIME\"].tail(10)"
   ]
  },
  {
   "cell_type": "markdown",
   "metadata": {},
   "source": [
    "The `TIME` column contains several observations per day (and even several observations per hour). The timestamp for the first observation is `190601010600`, i.e. from 1st of January 1906 (way back!), and the timestamp for the latest observation is `201910012350`."
   ]
  },
  {
   "cell_type": "code",
   "execution_count": 31,
   "metadata": {},
   "outputs": [
    {
     "data": {
      "text/plain": [
       "dtype('int64')"
      ]
     },
     "execution_count": 31,
     "metadata": {},
     "output_type": "execute_result"
    }
   ],
   "source": [
    "data[\"TIME\"].dtypes"
   ]
  },
  {
   "cell_type": "markdown",
   "metadata": {},
   "source": [
    "The information in this column is stored as integer values.\n",
    "\n",
    "We now want to aggregate the data on a monthly level, and in order to do so we need to \"label\" each row of data based on the month when the record was observed. In order to do this, we need to somehow separate information about the year and month for each row.\n",
    "\n",
    "We can create these \"labels\" by making a new column containing information about the month (including the year, but excluding day, hours, and minutes).\n",
    "\n",
    "Before further taking that step, we should first convert the contents in the `TIME` column to a new column with character string values for convenience."
   ]
  },
  {
   "cell_type": "code",
   "execution_count": 32,
   "metadata": {
    "collapsed": false,
    "jupyter": {
     "outputs_hidden": false
    }
   },
   "outputs": [],
   "source": [
    "# Convert to string\n",
    "data[\"TIME_STR\"] = data[\"TIME\"].astype(str)"
   ]
  },
  {
   "cell_type": "markdown",
   "metadata": {},
   "source": [
    "### String slicing\n",
    "\n",
    "Now that we have converted the date and time information into character strings, we next need to \"cut\" the needed information from the [string objects](https://docs.python.org/3/tutorial/introduction.html#strings). If we look at the latest time stamp in the data (`201910012350`), you can see that there is a systematic pattern `YEAR-MONTH-DAY-HOUR-MINUTE`. Four first characters represent the year, and six first characters are year and month!"
   ]
  },
  {
   "cell_type": "code",
   "execution_count": 33,
   "metadata": {},
   "outputs": [
    {
     "data": {
      "text/plain": [
       "'201910'"
      ]
     },
     "execution_count": 33,
     "metadata": {},
     "output_type": "execute_result"
    }
   ],
   "source": [
    "date = \"201910012350\"\n",
    "date[0:6]"
   ]
  },
  {
   "cell_type": "markdown",
   "metadata": {},
   "source": [
    "Based on this information, we can slice the correct range of characters from the `TIME_STR` column using the [pandas.Series.str.slice()](https://pandas.pydata.org/pandas-docs/stable/reference/api/pandas.Series.str.slice.html) method."
   ]
  },
  {
   "cell_type": "code",
   "execution_count": 34,
   "metadata": {},
   "outputs": [
    {
     "data": {
      "text/html": [
       "<div>\n",
       "<style scoped>\n",
       "    .dataframe tbody tr th:only-of-type {\n",
       "        vertical-align: middle;\n",
       "    }\n",
       "\n",
       "    .dataframe tbody tr th {\n",
       "        vertical-align: top;\n",
       "    }\n",
       "\n",
       "    .dataframe thead th {\n",
       "        text-align: right;\n",
       "    }\n",
       "</style>\n",
       "<table border=\"1\" class=\"dataframe\">\n",
       "  <thead>\n",
       "    <tr style=\"text-align: right;\">\n",
       "      <th></th>\n",
       "      <th>STATION_NUMBER</th>\n",
       "      <th>TIME</th>\n",
       "      <th>DIR</th>\n",
       "      <th>SPEED</th>\n",
       "      <th>GUST</th>\n",
       "      <th>TEMP_F</th>\n",
       "      <th>MAX</th>\n",
       "      <th>MIN</th>\n",
       "      <th>TEMP_C</th>\n",
       "      <th>MIN_C</th>\n",
       "      <th>MAX_C</th>\n",
       "      <th>TIME_STR</th>\n",
       "      <th>YEAR_MONTH</th>\n",
       "    </tr>\n",
       "  </thead>\n",
       "  <tbody>\n",
       "    <tr>\n",
       "      <th>0</th>\n",
       "      <td>29440</td>\n",
       "      <td>190601010600</td>\n",
       "      <td>90.0</td>\n",
       "      <td>7.0</td>\n",
       "      <td>NaN</td>\n",
       "      <td>27.0</td>\n",
       "      <td>NaN</td>\n",
       "      <td>NaN</td>\n",
       "      <td>-2.777778</td>\n",
       "      <td>NaN</td>\n",
       "      <td>NaN</td>\n",
       "      <td>190601010600</td>\n",
       "      <td>190601</td>\n",
       "    </tr>\n",
       "    <tr>\n",
       "      <th>1</th>\n",
       "      <td>29440</td>\n",
       "      <td>190601011300</td>\n",
       "      <td>NaN</td>\n",
       "      <td>0.0</td>\n",
       "      <td>NaN</td>\n",
       "      <td>27.0</td>\n",
       "      <td>NaN</td>\n",
       "      <td>NaN</td>\n",
       "      <td>-2.777778</td>\n",
       "      <td>NaN</td>\n",
       "      <td>NaN</td>\n",
       "      <td>190601011300</td>\n",
       "      <td>190601</td>\n",
       "    </tr>\n",
       "    <tr>\n",
       "      <th>2</th>\n",
       "      <td>29440</td>\n",
       "      <td>190601012000</td>\n",
       "      <td>NaN</td>\n",
       "      <td>0.0</td>\n",
       "      <td>NaN</td>\n",
       "      <td>25.0</td>\n",
       "      <td>NaN</td>\n",
       "      <td>NaN</td>\n",
       "      <td>-3.888889</td>\n",
       "      <td>NaN</td>\n",
       "      <td>NaN</td>\n",
       "      <td>190601012000</td>\n",
       "      <td>190601</td>\n",
       "    </tr>\n",
       "    <tr>\n",
       "      <th>3</th>\n",
       "      <td>29440</td>\n",
       "      <td>190601020600</td>\n",
       "      <td>NaN</td>\n",
       "      <td>0.0</td>\n",
       "      <td>NaN</td>\n",
       "      <td>26.0</td>\n",
       "      <td>NaN</td>\n",
       "      <td>NaN</td>\n",
       "      <td>-3.333333</td>\n",
       "      <td>NaN</td>\n",
       "      <td>NaN</td>\n",
       "      <td>190601020600</td>\n",
       "      <td>190601</td>\n",
       "    </tr>\n",
       "    <tr>\n",
       "      <th>4</th>\n",
       "      <td>29440</td>\n",
       "      <td>190601021300</td>\n",
       "      <td>270.0</td>\n",
       "      <td>7.0</td>\n",
       "      <td>NaN</td>\n",
       "      <td>27.0</td>\n",
       "      <td>NaN</td>\n",
       "      <td>NaN</td>\n",
       "      <td>-2.777778</td>\n",
       "      <td>NaN</td>\n",
       "      <td>NaN</td>\n",
       "      <td>190601021300</td>\n",
       "      <td>190601</td>\n",
       "    </tr>\n",
       "  </tbody>\n",
       "</table>\n",
       "</div>"
      ],
      "text/plain": [
       "   STATION_NUMBER          TIME    DIR  SPEED  GUST  TEMP_F  MAX  MIN  \\\n",
       "0           29440  190601010600   90.0    7.0   NaN    27.0  NaN  NaN   \n",
       "1           29440  190601011300    NaN    0.0   NaN    27.0  NaN  NaN   \n",
       "2           29440  190601012000    NaN    0.0   NaN    25.0  NaN  NaN   \n",
       "3           29440  190601020600    NaN    0.0   NaN    26.0  NaN  NaN   \n",
       "4           29440  190601021300  270.0    7.0   NaN    27.0  NaN  NaN   \n",
       "\n",
       "     TEMP_C  MIN_C  MAX_C      TIME_STR YEAR_MONTH  \n",
       "0 -2.777778    NaN    NaN  190601010600     190601  \n",
       "1 -2.777778    NaN    NaN  190601011300     190601  \n",
       "2 -3.888889    NaN    NaN  190601012000     190601  \n",
       "3 -3.333333    NaN    NaN  190601020600     190601  \n",
       "4 -2.777778    NaN    NaN  190601021300     190601  "
      ]
     },
     "execution_count": 34,
     "metadata": {},
     "output_type": "execute_result"
    }
   ],
   "source": [
    "# Slice the string\n",
    "data[\"YEAR_MONTH\"] = data[\"TIME_STR\"].str.slice(start=0, stop=6)\n",
    "\n",
    "# Let's see what we have\n",
    "data.head()"
   ]
  },
  {
   "cell_type": "markdown",
   "metadata": {},
   "source": [
    "Nice! Now we have \"labeled\" the rows based on information about date and time, but only including the year and month in the labels."
   ]
  },
  {
   "cell_type": "markdown",
   "metadata": {},
   "source": [
    "### Check your understanding\n",
    "\n",
    "Create a new column called `'MONTH'` with information about the month of each observation, but excluding the year."
   ]
  },
  {
   "cell_type": "code",
   "execution_count": 35,
   "metadata": {
    "tags": [
     "hide-cell"
    ]
   },
   "outputs": [
    {
     "data": {
      "text/html": [
       "<div>\n",
       "<style scoped>\n",
       "    .dataframe tbody tr th:only-of-type {\n",
       "        vertical-align: middle;\n",
       "    }\n",
       "\n",
       "    .dataframe tbody tr th {\n",
       "        vertical-align: top;\n",
       "    }\n",
       "\n",
       "    .dataframe thead th {\n",
       "        text-align: right;\n",
       "    }\n",
       "</style>\n",
       "<table border=\"1\" class=\"dataframe\">\n",
       "  <thead>\n",
       "    <tr style=\"text-align: right;\">\n",
       "      <th></th>\n",
       "      <th>YEAR_MONTH</th>\n",
       "      <th>MONTH</th>\n",
       "    </tr>\n",
       "  </thead>\n",
       "  <tbody>\n",
       "    <tr>\n",
       "      <th>0</th>\n",
       "      <td>190601</td>\n",
       "      <td>01</td>\n",
       "    </tr>\n",
       "    <tr>\n",
       "      <th>1</th>\n",
       "      <td>190601</td>\n",
       "      <td>01</td>\n",
       "    </tr>\n",
       "    <tr>\n",
       "      <th>2</th>\n",
       "      <td>190601</td>\n",
       "      <td>01</td>\n",
       "    </tr>\n",
       "    <tr>\n",
       "      <th>3</th>\n",
       "      <td>190601</td>\n",
       "      <td>01</td>\n",
       "    </tr>\n",
       "    <tr>\n",
       "      <th>4</th>\n",
       "      <td>190601</td>\n",
       "      <td>01</td>\n",
       "    </tr>\n",
       "    <tr>\n",
       "      <th>...</th>\n",
       "      <td>...</td>\n",
       "      <td>...</td>\n",
       "    </tr>\n",
       "    <tr>\n",
       "      <th>757978</th>\n",
       "      <td>201910</td>\n",
       "      <td>10</td>\n",
       "    </tr>\n",
       "    <tr>\n",
       "      <th>757979</th>\n",
       "      <td>201910</td>\n",
       "      <td>10</td>\n",
       "    </tr>\n",
       "    <tr>\n",
       "      <th>757980</th>\n",
       "      <td>201910</td>\n",
       "      <td>10</td>\n",
       "    </tr>\n",
       "    <tr>\n",
       "      <th>757981</th>\n",
       "      <td>201910</td>\n",
       "      <td>10</td>\n",
       "    </tr>\n",
       "    <tr>\n",
       "      <th>757982</th>\n",
       "      <td>201910</td>\n",
       "      <td>10</td>\n",
       "    </tr>\n",
       "  </tbody>\n",
       "</table>\n",
       "<p>757983 rows × 2 columns</p>\n",
       "</div>"
      ],
      "text/plain": [
       "       YEAR_MONTH MONTH\n",
       "0          190601    01\n",
       "1          190601    01\n",
       "2          190601    01\n",
       "3          190601    01\n",
       "4          190601    01\n",
       "...           ...   ...\n",
       "757978     201910    10\n",
       "757979     201910    10\n",
       "757980     201910    10\n",
       "757981     201910    10\n",
       "757982     201910    10\n",
       "\n",
       "[757983 rows x 2 columns]"
      ]
     },
     "execution_count": 35,
     "metadata": {},
     "output_type": "execute_result"
    }
   ],
   "source": [
    "# Solution\n",
    "# Extract information about month from the TIME_STR column into a new column 'MONTH':\n",
    "data[\"MONTH\"] = data[\"TIME_STR\"].str.slice(start=4, stop=6)\n",
    "\n",
    "# Check the result\n",
    "data[[\"YEAR_MONTH\", \"MONTH\"]]"
   ]
  },
  {
   "cell_type": "markdown",
   "metadata": {},
   "source": [
    "### Datetime (*optional*)\n",
    "\n",
    "In pandas, we can also convert dates and times into a new data type called [datetime](https://docs.python.org/3.7/library/datetime.html) using the [pandas.to_datetime](https://pandas.pydata.org/pandas-docs/stable/reference/api/pandas.to_datetime.html) function."
   ]
  },
  {
   "cell_type": "code",
   "execution_count": 36,
   "metadata": {},
   "outputs": [],
   "source": [
    "# Convert character strings to datetime\n",
    "data[\"DATE\"] = pd.to_datetime(data[\"TIME_STR\"])"
   ]
  },
  {
   "cell_type": "code",
   "execution_count": 37,
   "metadata": {},
   "outputs": [
    {
     "data": {
      "text/plain": [
       "0   1906-01-01 06:00:00\n",
       "1   1906-01-01 13:00:00\n",
       "2   1906-01-01 20:00:00\n",
       "3   1906-01-02 06:00:00\n",
       "4   1906-01-02 13:00:00\n",
       "Name: DATE, dtype: datetime64[ns]"
      ]
     },
     "execution_count": 37,
     "metadata": {},
     "output_type": "execute_result"
    }
   ],
   "source": [
    "# Check the output\n",
    "data[\"DATE\"].head()"
   ]
  },
  {
   "cell_type": "markdown",
   "metadata": {},
   "source": [
    "```{admonition} Pandas Series datetime properties\n",
    "There are several methods available for accessing information about the properties of datetime values. You can read more about datetime properties [from the pandas documentation](https://pandas.pydata.org/pandas-docs/stable/reference/series.html#datetime-properties).\n",
    "```"
   ]
  },
  {
   "cell_type": "markdown",
   "metadata": {},
   "source": [
    "With the datetime column, we can now extract different time units using the [pandas.Series.dt](https://pandas.pydata.org/pandas-docs/stable/reference/api/pandas.Series.dt.html) accessor."
   ]
  },
  {
   "cell_type": "code",
   "execution_count": 38,
   "metadata": {},
   "outputs": [
    {
     "data": {
      "text/plain": [
       "0         1906\n",
       "1         1906\n",
       "2         1906\n",
       "3         1906\n",
       "4         1906\n",
       "          ... \n",
       "757978    2019\n",
       "757979    2019\n",
       "757980    2019\n",
       "757981    2019\n",
       "757982    2019\n",
       "Name: DATE, Length: 757983, dtype: int32"
      ]
     },
     "execution_count": 38,
     "metadata": {},
     "output_type": "execute_result"
    }
   ],
   "source": [
    "data[\"DATE\"].dt.year"
   ]
  },
  {
   "cell_type": "code",
   "execution_count": 39,
   "metadata": {},
   "outputs": [
    {
     "data": {
      "text/plain": [
       "0          1\n",
       "1          1\n",
       "2          1\n",
       "3          1\n",
       "4          1\n",
       "          ..\n",
       "757978    10\n",
       "757979    10\n",
       "757980    10\n",
       "757981    10\n",
       "757982    10\n",
       "Name: DATE, Length: 757983, dtype: int32"
      ]
     },
     "execution_count": 39,
     "metadata": {},
     "output_type": "execute_result"
    }
   ],
   "source": [
    "data[\"DATE\"].dt.month"
   ]
  },
  {
   "cell_type": "markdown",
   "metadata": {},
   "source": [
    "We can also combine the datetime functionalities with other methods from pandas. For example, we can check the number of unique years in our input data: "
   ]
  },
  {
   "cell_type": "code",
   "execution_count": 40,
   "metadata": {},
   "outputs": [
    {
     "data": {
      "text/plain": [
       "51"
      ]
     },
     "execution_count": 40,
     "metadata": {},
     "output_type": "execute_result"
    }
   ],
   "source": [
    "data[\"DATE\"].dt.year.nunique()"
   ]
  },
  {
   "cell_type": "markdown",
   "metadata": {},
   "source": [
    "For the final analysis, we need combined information of the year and month. One way to achieve this is to use the  `format` parameter to define the output datetime format according to [strftime(format)](https://docs.python.org/3/library/datetime.html#strftime-and-strptime-behavior) method:"
   ]
  },
  {
   "cell_type": "code",
   "execution_count": 41,
   "metadata": {},
   "outputs": [],
   "source": [
    "# Convert to datetime and keep only year and month\n",
    "data[\"YEAR_MONTH_DT\"] = pd.to_datetime(data[\"TIME_STR\"], format=\"%Y%m\", exact=False)"
   ]
  },
  {
   "cell_type": "markdown",
   "metadata": {},
   "source": [
    "```{note}\n",
    "`exact=False` finds the characters matching the specified format and drops out the rest (days, hours and minutes are excluded in the output).\n",
    "```"
   ]
  },
  {
   "cell_type": "code",
   "execution_count": 42,
   "metadata": {},
   "outputs": [
    {
     "data": {
      "text/plain": [
       "0        1906-01-01\n",
       "1        1906-01-01\n",
       "2        1906-01-01\n",
       "3        1906-01-01\n",
       "4        1906-01-01\n",
       "            ...    \n",
       "757978   2019-10-01\n",
       "757979   2019-10-01\n",
       "757980   2019-10-01\n",
       "757981   2019-10-01\n",
       "757982   2019-10-01\n",
       "Name: YEAR_MONTH_DT, Length: 757983, dtype: datetime64[ns]"
      ]
     },
     "execution_count": 42,
     "metadata": {},
     "output_type": "execute_result"
    }
   ],
   "source": [
    "data[\"YEAR_MONTH_DT\"]"
   ]
  },
  {
   "cell_type": "markdown",
   "metadata": {},
   "source": [
    "Now we have a unique label for each month as a datetime object!"
   ]
  },
  {
   "cell_type": "markdown",
   "metadata": {},
   "source": [
    "## Aggregating data in pandas by grouping\n",
    "\n",
    "Here, we will learn how to use [pandas.DataFrame.groupby](https://pandas.pydata.org/pandas-docs/stable/reference/api/pandas.DataFrame.groupby.html), which is a handy method for combining large amounts of data and computing statistics for subgroups.\n",
    "\n",
    "In our case, we will use the groupby method to calculate the average temperatures for each month through these three steps:\n",
    "\n",
    "  1. Grouping the data based on the year and month\n",
    "  2. Calculating the average for each month (each group) \n",
    "  3. Storing those values into a new DataFrame called `monthly_data`"
   ]
  },
  {
   "cell_type": "markdown",
   "metadata": {},
   "source": [
    "Before we start grouping the data, let's once again see what our data looks like."
   ]
  },
  {
   "cell_type": "code",
   "execution_count": 43,
   "metadata": {},
   "outputs": [
    {
     "name": "stdout",
     "output_type": "stream",
     "text": [
      "number of rows: 757983\n"
     ]
    }
   ],
   "source": [
    "print(f\"number of rows: {len(data)}\")"
   ]
  },
  {
   "cell_type": "code",
   "execution_count": 44,
   "metadata": {},
   "outputs": [
    {
     "data": {
      "text/html": [
       "<div>\n",
       "<style scoped>\n",
       "    .dataframe tbody tr th:only-of-type {\n",
       "        vertical-align: middle;\n",
       "    }\n",
       "\n",
       "    .dataframe tbody tr th {\n",
       "        vertical-align: top;\n",
       "    }\n",
       "\n",
       "    .dataframe thead th {\n",
       "        text-align: right;\n",
       "    }\n",
       "</style>\n",
       "<table border=\"1\" class=\"dataframe\">\n",
       "  <thead>\n",
       "    <tr style=\"text-align: right;\">\n",
       "      <th></th>\n",
       "      <th>STATION_NUMBER</th>\n",
       "      <th>TIME</th>\n",
       "      <th>DIR</th>\n",
       "      <th>SPEED</th>\n",
       "      <th>GUST</th>\n",
       "      <th>TEMP_F</th>\n",
       "      <th>MAX</th>\n",
       "      <th>MIN</th>\n",
       "      <th>TEMP_C</th>\n",
       "      <th>MIN_C</th>\n",
       "      <th>MAX_C</th>\n",
       "      <th>TIME_STR</th>\n",
       "      <th>YEAR_MONTH</th>\n",
       "      <th>MONTH</th>\n",
       "      <th>DATE</th>\n",
       "      <th>YEAR_MONTH_DT</th>\n",
       "    </tr>\n",
       "  </thead>\n",
       "  <tbody>\n",
       "    <tr>\n",
       "      <th>0</th>\n",
       "      <td>29440</td>\n",
       "      <td>190601010600</td>\n",
       "      <td>90.0</td>\n",
       "      <td>7.0</td>\n",
       "      <td>NaN</td>\n",
       "      <td>27.0</td>\n",
       "      <td>NaN</td>\n",
       "      <td>NaN</td>\n",
       "      <td>-2.777778</td>\n",
       "      <td>NaN</td>\n",
       "      <td>NaN</td>\n",
       "      <td>190601010600</td>\n",
       "      <td>190601</td>\n",
       "      <td>01</td>\n",
       "      <td>1906-01-01 06:00:00</td>\n",
       "      <td>1906-01-01</td>\n",
       "    </tr>\n",
       "    <tr>\n",
       "      <th>1</th>\n",
       "      <td>29440</td>\n",
       "      <td>190601011300</td>\n",
       "      <td>NaN</td>\n",
       "      <td>0.0</td>\n",
       "      <td>NaN</td>\n",
       "      <td>27.0</td>\n",
       "      <td>NaN</td>\n",
       "      <td>NaN</td>\n",
       "      <td>-2.777778</td>\n",
       "      <td>NaN</td>\n",
       "      <td>NaN</td>\n",
       "      <td>190601011300</td>\n",
       "      <td>190601</td>\n",
       "      <td>01</td>\n",
       "      <td>1906-01-01 13:00:00</td>\n",
       "      <td>1906-01-01</td>\n",
       "    </tr>\n",
       "    <tr>\n",
       "      <th>2</th>\n",
       "      <td>29440</td>\n",
       "      <td>190601012000</td>\n",
       "      <td>NaN</td>\n",
       "      <td>0.0</td>\n",
       "      <td>NaN</td>\n",
       "      <td>25.0</td>\n",
       "      <td>NaN</td>\n",
       "      <td>NaN</td>\n",
       "      <td>-3.888889</td>\n",
       "      <td>NaN</td>\n",
       "      <td>NaN</td>\n",
       "      <td>190601012000</td>\n",
       "      <td>190601</td>\n",
       "      <td>01</td>\n",
       "      <td>1906-01-01 20:00:00</td>\n",
       "      <td>1906-01-01</td>\n",
       "    </tr>\n",
       "    <tr>\n",
       "      <th>3</th>\n",
       "      <td>29440</td>\n",
       "      <td>190601020600</td>\n",
       "      <td>NaN</td>\n",
       "      <td>0.0</td>\n",
       "      <td>NaN</td>\n",
       "      <td>26.0</td>\n",
       "      <td>NaN</td>\n",
       "      <td>NaN</td>\n",
       "      <td>-3.333333</td>\n",
       "      <td>NaN</td>\n",
       "      <td>NaN</td>\n",
       "      <td>190601020600</td>\n",
       "      <td>190601</td>\n",
       "      <td>01</td>\n",
       "      <td>1906-01-02 06:00:00</td>\n",
       "      <td>1906-01-01</td>\n",
       "    </tr>\n",
       "    <tr>\n",
       "      <th>4</th>\n",
       "      <td>29440</td>\n",
       "      <td>190601021300</td>\n",
       "      <td>270.0</td>\n",
       "      <td>7.0</td>\n",
       "      <td>NaN</td>\n",
       "      <td>27.0</td>\n",
       "      <td>NaN</td>\n",
       "      <td>NaN</td>\n",
       "      <td>-2.777778</td>\n",
       "      <td>NaN</td>\n",
       "      <td>NaN</td>\n",
       "      <td>190601021300</td>\n",
       "      <td>190601</td>\n",
       "      <td>01</td>\n",
       "      <td>1906-01-02 13:00:00</td>\n",
       "      <td>1906-01-01</td>\n",
       "    </tr>\n",
       "  </tbody>\n",
       "</table>\n",
       "</div>"
      ],
      "text/plain": [
       "   STATION_NUMBER          TIME    DIR  SPEED  GUST  TEMP_F  MAX  MIN  \\\n",
       "0           29440  190601010600   90.0    7.0   NaN    27.0  NaN  NaN   \n",
       "1           29440  190601011300    NaN    0.0   NaN    27.0  NaN  NaN   \n",
       "2           29440  190601012000    NaN    0.0   NaN    25.0  NaN  NaN   \n",
       "3           29440  190601020600    NaN    0.0   NaN    26.0  NaN  NaN   \n",
       "4           29440  190601021300  270.0    7.0   NaN    27.0  NaN  NaN   \n",
       "\n",
       "     TEMP_C  MIN_C  MAX_C      TIME_STR YEAR_MONTH MONTH                DATE  \\\n",
       "0 -2.777778    NaN    NaN  190601010600     190601    01 1906-01-01 06:00:00   \n",
       "1 -2.777778    NaN    NaN  190601011300     190601    01 1906-01-01 13:00:00   \n",
       "2 -3.888889    NaN    NaN  190601012000     190601    01 1906-01-01 20:00:00   \n",
       "3 -3.333333    NaN    NaN  190601020600     190601    01 1906-01-02 06:00:00   \n",
       "4 -2.777778    NaN    NaN  190601021300     190601    01 1906-01-02 13:00:00   \n",
       "\n",
       "  YEAR_MONTH_DT  \n",
       "0    1906-01-01  \n",
       "1    1906-01-01  \n",
       "2    1906-01-01  \n",
       "3    1906-01-01  \n",
       "4    1906-01-01  "
      ]
     },
     "execution_count": 44,
     "metadata": {},
     "output_type": "execute_result"
    }
   ],
   "source": [
    "data.head()"
   ]
  },
  {
   "cell_type": "markdown",
   "metadata": {},
   "source": [
    "We have quite a few rows of weather data, and several observations per day. Our goal is to create an aggreated data frame that would have only one row per month.\n",
    "\n",
    "To condense our data to monthly average values we can group our data based on the unique year and month combinations."
   ]
  },
  {
   "cell_type": "code",
   "execution_count": 45,
   "metadata": {},
   "outputs": [],
   "source": [
    "grouped = data.groupby(\"YEAR_MONTH\")"
   ]
  },
  {
   "cell_type": "markdown",
   "metadata": {},
   "source": [
    "````{note}\n",
    "It is also possible to create combinations of years and months on-the-fly when grouping the data:\n",
    "    \n",
    "```python\n",
    "# Group the data \n",
    "grouped = data.groupby(['YEAR', 'MONTH'])\n",
    "```\n",
    "````"
   ]
  },
  {
   "cell_type": "markdown",
   "metadata": {},
   "source": [
    "Now, let's explore the new variable `grouped`."
   ]
  },
  {
   "cell_type": "code",
   "execution_count": 46,
   "metadata": {},
   "outputs": [
    {
     "data": {
      "text/plain": [
       "pandas.core.groupby.generic.DataFrameGroupBy"
      ]
     },
     "execution_count": 46,
     "metadata": {},
     "output_type": "execute_result"
    }
   ],
   "source": [
    "type(grouped)"
   ]
  },
  {
   "cell_type": "code",
   "execution_count": 47,
   "metadata": {},
   "outputs": [
    {
     "data": {
      "text/plain": [
       "601"
      ]
     },
     "execution_count": 47,
     "metadata": {},
     "output_type": "execute_result"
    }
   ],
   "source": [
    "len(grouped)"
   ]
  },
  {
   "cell_type": "markdown",
   "metadata": {},
   "source": [
    "We have a new object with type `DataFrameGroupBy` with 601 groups. In order to understand what just happened, let's also check the number of unique year and month combinations in our data."
   ]
  },
  {
   "cell_type": "code",
   "execution_count": 48,
   "metadata": {},
   "outputs": [
    {
     "data": {
      "text/plain": [
       "601"
      ]
     },
     "execution_count": 48,
     "metadata": {},
     "output_type": "execute_result"
    }
   ],
   "source": [
    "data[\"YEAR_MONTH\"].nunique()"
   ]
  },
  {
   "cell_type": "markdown",
   "metadata": {},
   "source": [
    "Length of the grouped object should be the same as the number of unique values in the column we used for grouping. For each unique value, there is a group of data."
   ]
  },
  {
   "cell_type": "markdown",
   "metadata": {},
   "source": [
    "Let's explore our grouped data even further. \n",
    "\n",
    "We can check the \"names\" of each group."
   ]
  },
  {
   "cell_type": "code",
   "execution_count": 49,
   "metadata": {},
   "outputs": [],
   "source": [
    "# Next line will print out all 601 group \"keys\"\n",
    "# This is commented out here to avoid excess output to the course website\n",
    "# grouped.groups.keys()"
   ]
  },
  {
   "cell_type": "markdown",
   "metadata": {},
   "source": [
    "### Accessing data for one group\n",
    "\n",
    "Let us now check the contents for the group representing August 2019 (the name of that group is `201908`. We can get the values of that hour from the grouped object using the `get_group()` method."
   ]
  },
  {
   "cell_type": "code",
   "execution_count": 50,
   "metadata": {
    "collapsed": false,
    "jupyter": {
     "outputs_hidden": false
    }
   },
   "outputs": [],
   "source": [
    "# Specify a month (as character string)\n",
    "month = \"201908\"\n",
    "\n",
    "# Select the group\n",
    "group1 = grouped.get_group(month)"
   ]
  },
  {
   "cell_type": "code",
   "execution_count": 51,
   "metadata": {},
   "outputs": [
    {
     "data": {
      "text/html": [
       "<div>\n",
       "<style scoped>\n",
       "    .dataframe tbody tr th:only-of-type {\n",
       "        vertical-align: middle;\n",
       "    }\n",
       "\n",
       "    .dataframe tbody tr th {\n",
       "        vertical-align: top;\n",
       "    }\n",
       "\n",
       "    .dataframe thead th {\n",
       "        text-align: right;\n",
       "    }\n",
       "</style>\n",
       "<table border=\"1\" class=\"dataframe\">\n",
       "  <thead>\n",
       "    <tr style=\"text-align: right;\">\n",
       "      <th></th>\n",
       "      <th>STATION_NUMBER</th>\n",
       "      <th>TIME</th>\n",
       "      <th>DIR</th>\n",
       "      <th>SPEED</th>\n",
       "      <th>GUST</th>\n",
       "      <th>TEMP_F</th>\n",
       "      <th>MAX</th>\n",
       "      <th>MIN</th>\n",
       "      <th>TEMP_C</th>\n",
       "      <th>MIN_C</th>\n",
       "      <th>MAX_C</th>\n",
       "      <th>TIME_STR</th>\n",
       "      <th>YEAR_MONTH</th>\n",
       "      <th>MONTH</th>\n",
       "      <th>DATE</th>\n",
       "      <th>YEAR_MONTH_DT</th>\n",
       "    </tr>\n",
       "  </thead>\n",
       "  <tbody>\n",
       "    <tr>\n",
       "      <th>753566</th>\n",
       "      <td>29440</td>\n",
       "      <td>201908010000</td>\n",
       "      <td>360.0</td>\n",
       "      <td>0.0</td>\n",
       "      <td>NaN</td>\n",
       "      <td>47.0</td>\n",
       "      <td>NaN</td>\n",
       "      <td>NaN</td>\n",
       "      <td>8.333333</td>\n",
       "      <td>NaN</td>\n",
       "      <td>NaN</td>\n",
       "      <td>201908010000</td>\n",
       "      <td>201908</td>\n",
       "      <td>08</td>\n",
       "      <td>2019-08-01 00:00:00</td>\n",
       "      <td>2019-08-01</td>\n",
       "    </tr>\n",
       "    <tr>\n",
       "      <th>753567</th>\n",
       "      <td>29440</td>\n",
       "      <td>201908010020</td>\n",
       "      <td>NaN</td>\n",
       "      <td>0.0</td>\n",
       "      <td>NaN</td>\n",
       "      <td>46.0</td>\n",
       "      <td>NaN</td>\n",
       "      <td>NaN</td>\n",
       "      <td>7.777778</td>\n",
       "      <td>NaN</td>\n",
       "      <td>NaN</td>\n",
       "      <td>201908010020</td>\n",
       "      <td>201908</td>\n",
       "      <td>08</td>\n",
       "      <td>2019-08-01 00:20:00</td>\n",
       "      <td>2019-08-01</td>\n",
       "    </tr>\n",
       "    <tr>\n",
       "      <th>753568</th>\n",
       "      <td>29440</td>\n",
       "      <td>201908010050</td>\n",
       "      <td>NaN</td>\n",
       "      <td>0.0</td>\n",
       "      <td>NaN</td>\n",
       "      <td>45.0</td>\n",
       "      <td>NaN</td>\n",
       "      <td>NaN</td>\n",
       "      <td>7.222222</td>\n",
       "      <td>NaN</td>\n",
       "      <td>NaN</td>\n",
       "      <td>201908010050</td>\n",
       "      <td>201908</td>\n",
       "      <td>08</td>\n",
       "      <td>2019-08-01 00:50:00</td>\n",
       "      <td>2019-08-01</td>\n",
       "    </tr>\n",
       "    <tr>\n",
       "      <th>753569</th>\n",
       "      <td>29440</td>\n",
       "      <td>201908010100</td>\n",
       "      <td>360.0</td>\n",
       "      <td>0.0</td>\n",
       "      <td>NaN</td>\n",
       "      <td>44.0</td>\n",
       "      <td>NaN</td>\n",
       "      <td>NaN</td>\n",
       "      <td>6.666667</td>\n",
       "      <td>NaN</td>\n",
       "      <td>NaN</td>\n",
       "      <td>201908010100</td>\n",
       "      <td>201908</td>\n",
       "      <td>08</td>\n",
       "      <td>2019-08-01 01:00:00</td>\n",
       "      <td>2019-08-01</td>\n",
       "    </tr>\n",
       "    <tr>\n",
       "      <th>753570</th>\n",
       "      <td>29440</td>\n",
       "      <td>201908010120</td>\n",
       "      <td>NaN</td>\n",
       "      <td>0.0</td>\n",
       "      <td>NaN</td>\n",
       "      <td>43.0</td>\n",
       "      <td>NaN</td>\n",
       "      <td>NaN</td>\n",
       "      <td>6.111111</td>\n",
       "      <td>NaN</td>\n",
       "      <td>NaN</td>\n",
       "      <td>201908010120</td>\n",
       "      <td>201908</td>\n",
       "      <td>08</td>\n",
       "      <td>2019-08-01 01:20:00</td>\n",
       "      <td>2019-08-01</td>\n",
       "    </tr>\n",
       "    <tr>\n",
       "      <th>...</th>\n",
       "      <td>...</td>\n",
       "      <td>...</td>\n",
       "      <td>...</td>\n",
       "      <td>...</td>\n",
       "      <td>...</td>\n",
       "      <td>...</td>\n",
       "      <td>...</td>\n",
       "      <td>...</td>\n",
       "      <td>...</td>\n",
       "      <td>...</td>\n",
       "      <td>...</td>\n",
       "      <td>...</td>\n",
       "      <td>...</td>\n",
       "      <td>...</td>\n",
       "      <td>...</td>\n",
       "      <td>...</td>\n",
       "    </tr>\n",
       "    <tr>\n",
       "      <th>755781</th>\n",
       "      <td>29440</td>\n",
       "      <td>201908312220</td>\n",
       "      <td>180.0</td>\n",
       "      <td>6.0</td>\n",
       "      <td>NaN</td>\n",
       "      <td>59.0</td>\n",
       "      <td>NaN</td>\n",
       "      <td>NaN</td>\n",
       "      <td>15.000000</td>\n",
       "      <td>NaN</td>\n",
       "      <td>NaN</td>\n",
       "      <td>201908312220</td>\n",
       "      <td>201908</td>\n",
       "      <td>08</td>\n",
       "      <td>2019-08-31 22:20:00</td>\n",
       "      <td>2019-08-01</td>\n",
       "    </tr>\n",
       "    <tr>\n",
       "      <th>755782</th>\n",
       "      <td>29440</td>\n",
       "      <td>201908312250</td>\n",
       "      <td>170.0</td>\n",
       "      <td>6.0</td>\n",
       "      <td>NaN</td>\n",
       "      <td>57.0</td>\n",
       "      <td>NaN</td>\n",
       "      <td>NaN</td>\n",
       "      <td>13.888889</td>\n",
       "      <td>NaN</td>\n",
       "      <td>NaN</td>\n",
       "      <td>201908312250</td>\n",
       "      <td>201908</td>\n",
       "      <td>08</td>\n",
       "      <td>2019-08-31 22:50:00</td>\n",
       "      <td>2019-08-01</td>\n",
       "    </tr>\n",
       "    <tr>\n",
       "      <th>755783</th>\n",
       "      <td>29440</td>\n",
       "      <td>201908312300</td>\n",
       "      <td>170.0</td>\n",
       "      <td>7.0</td>\n",
       "      <td>NaN</td>\n",
       "      <td>58.0</td>\n",
       "      <td>NaN</td>\n",
       "      <td>NaN</td>\n",
       "      <td>14.444444</td>\n",
       "      <td>NaN</td>\n",
       "      <td>NaN</td>\n",
       "      <td>201908312300</td>\n",
       "      <td>201908</td>\n",
       "      <td>08</td>\n",
       "      <td>2019-08-31 23:00:00</td>\n",
       "      <td>2019-08-01</td>\n",
       "    </tr>\n",
       "    <tr>\n",
       "      <th>755784</th>\n",
       "      <td>29440</td>\n",
       "      <td>201908312320</td>\n",
       "      <td>160.0</td>\n",
       "      <td>7.0</td>\n",
       "      <td>NaN</td>\n",
       "      <td>57.0</td>\n",
       "      <td>NaN</td>\n",
       "      <td>NaN</td>\n",
       "      <td>13.888889</td>\n",
       "      <td>NaN</td>\n",
       "      <td>NaN</td>\n",
       "      <td>201908312320</td>\n",
       "      <td>201908</td>\n",
       "      <td>08</td>\n",
       "      <td>2019-08-31 23:20:00</td>\n",
       "      <td>2019-08-01</td>\n",
       "    </tr>\n",
       "    <tr>\n",
       "      <th>755785</th>\n",
       "      <td>29440</td>\n",
       "      <td>201908312350</td>\n",
       "      <td>180.0</td>\n",
       "      <td>6.0</td>\n",
       "      <td>NaN</td>\n",
       "      <td>57.0</td>\n",
       "      <td>NaN</td>\n",
       "      <td>NaN</td>\n",
       "      <td>13.888889</td>\n",
       "      <td>NaN</td>\n",
       "      <td>NaN</td>\n",
       "      <td>201908312350</td>\n",
       "      <td>201908</td>\n",
       "      <td>08</td>\n",
       "      <td>2019-08-31 23:50:00</td>\n",
       "      <td>2019-08-01</td>\n",
       "    </tr>\n",
       "  </tbody>\n",
       "</table>\n",
       "<p>2220 rows × 16 columns</p>\n",
       "</div>"
      ],
      "text/plain": [
       "        STATION_NUMBER          TIME    DIR  SPEED  GUST  TEMP_F  MAX  MIN  \\\n",
       "753566           29440  201908010000  360.0    0.0   NaN    47.0  NaN  NaN   \n",
       "753567           29440  201908010020    NaN    0.0   NaN    46.0  NaN  NaN   \n",
       "753568           29440  201908010050    NaN    0.0   NaN    45.0  NaN  NaN   \n",
       "753569           29440  201908010100  360.0    0.0   NaN    44.0  NaN  NaN   \n",
       "753570           29440  201908010120    NaN    0.0   NaN    43.0  NaN  NaN   \n",
       "...                ...           ...    ...    ...   ...     ...  ...  ...   \n",
       "755781           29440  201908312220  180.0    6.0   NaN    59.0  NaN  NaN   \n",
       "755782           29440  201908312250  170.0    6.0   NaN    57.0  NaN  NaN   \n",
       "755783           29440  201908312300  170.0    7.0   NaN    58.0  NaN  NaN   \n",
       "755784           29440  201908312320  160.0    7.0   NaN    57.0  NaN  NaN   \n",
       "755785           29440  201908312350  180.0    6.0   NaN    57.0  NaN  NaN   \n",
       "\n",
       "           TEMP_C  MIN_C  MAX_C      TIME_STR YEAR_MONTH MONTH  \\\n",
       "753566   8.333333    NaN    NaN  201908010000     201908    08   \n",
       "753567   7.777778    NaN    NaN  201908010020     201908    08   \n",
       "753568   7.222222    NaN    NaN  201908010050     201908    08   \n",
       "753569   6.666667    NaN    NaN  201908010100     201908    08   \n",
       "753570   6.111111    NaN    NaN  201908010120     201908    08   \n",
       "...           ...    ...    ...           ...        ...   ...   \n",
       "755781  15.000000    NaN    NaN  201908312220     201908    08   \n",
       "755782  13.888889    NaN    NaN  201908312250     201908    08   \n",
       "755783  14.444444    NaN    NaN  201908312300     201908    08   \n",
       "755784  13.888889    NaN    NaN  201908312320     201908    08   \n",
       "755785  13.888889    NaN    NaN  201908312350     201908    08   \n",
       "\n",
       "                      DATE YEAR_MONTH_DT  \n",
       "753566 2019-08-01 00:00:00    2019-08-01  \n",
       "753567 2019-08-01 00:20:00    2019-08-01  \n",
       "753568 2019-08-01 00:50:00    2019-08-01  \n",
       "753569 2019-08-01 01:00:00    2019-08-01  \n",
       "753570 2019-08-01 01:20:00    2019-08-01  \n",
       "...                    ...           ...  \n",
       "755781 2019-08-31 22:20:00    2019-08-01  \n",
       "755782 2019-08-31 22:50:00    2019-08-01  \n",
       "755783 2019-08-31 23:00:00    2019-08-01  \n",
       "755784 2019-08-31 23:20:00    2019-08-01  \n",
       "755785 2019-08-31 23:50:00    2019-08-01  \n",
       "\n",
       "[2220 rows x 16 columns]"
      ]
     },
     "execution_count": 51,
     "metadata": {},
     "output_type": "execute_result"
    }
   ],
   "source": [
    "# Let's see what we have\n",
    "group1"
   ]
  },
  {
   "cell_type": "markdown",
   "metadata": {},
   "source": [
    "Ahaa! As we can see, a single group contains a DataFrame with values only for that specific month and year. Let's check the DataType of this group."
   ]
  },
  {
   "cell_type": "code",
   "execution_count": 52,
   "metadata": {},
   "outputs": [
    {
     "data": {
      "text/plain": [
       "pandas.core.frame.DataFrame"
      ]
     },
     "execution_count": 52,
     "metadata": {},
     "output_type": "execute_result"
    }
   ],
   "source": [
    "type(group1)"
   ]
  },
  {
   "cell_type": "markdown",
   "metadata": {},
   "source": [
    "So, as noted above, one group is a pandas DataFrame! This is really useful, because we can now use all the familiar DataFrame methods for calculating statistics, etc. for this specific group. We can, for example, calculate the average values for all variables using the statistical functions that we have seen already (e.g. mean, std, min, max, median, etc.).\n",
    "\n",
    "We can do that by using the `mean()` function that we already did during Lesson 5. Let's calculate the mean for following attributes all at once:\n",
    "\n",
    "- `DIR`\n",
    "- `SPEED`\n",
    "- `GUST`\n",
    "- `TEMP`\n",
    "- `TEMP_C`\n",
    "- `MONTH`"
   ]
  },
  {
   "cell_type": "code",
   "execution_count": 53,
   "metadata": {
    "collapsed": false,
    "jupyter": {
     "outputs_hidden": false
    }
   },
   "outputs": [
    {
     "name": "stdout",
     "output_type": "stream",
     "text": [
      "DIR       320.335766\n",
      "SPEED       6.769447\n",
      "GUST       15.751678\n",
      "TEMP_F     60.598649\n",
      "TEMP_C     15.888138\n",
      "dtype: float64\n"
     ]
    }
   ],
   "source": [
    "# Specify the columns that will be part of the calculation\n",
    "mean_cols = [\"DIR\", \"SPEED\", \"GUST\", \"TEMP_F\", \"TEMP_C\"]\n",
    "\n",
    "# Calculate the mean values all at one go\n",
    "mean_values = group1[mean_cols].mean()\n",
    "\n",
    "# Let's see what we have\n",
    "print(mean_values)"
   ]
  },
  {
   "cell_type": "markdown",
   "metadata": {},
   "source": [
    "Above, we saw how you can access data from a single group. In order to get information about all groups (all months) we can use a `for` loop or methods available in the grouped object.\n",
    "\n",
    "### For loops and grouped objects\n",
    "\n",
    "When iterating over the groups in our `DataFrameGroupBy` object it is important to understand that a single group in our `DataFrameGroupBy` actually contains not only the actual values, but also information about the `key` that was used to do the grouping. Hence, when iterating over the data we need to assign the `key` and the values into separate variables.\n",
    "\n",
    "So, let's see how we can iterate over the groups and print the key and the data from a single group (again using `break` to only see what is happening for the first group)."
   ]
  },
  {
   "cell_type": "code",
   "execution_count": 54,
   "metadata": {
    "collapsed": false,
    "jupyter": {
     "outputs_hidden": false
    }
   },
   "outputs": [
    {
     "name": "stdout",
     "output_type": "stream",
     "text": [
      "Key:\n",
      " 190601\n",
      "\n",
      "First rows of data in this group:\n",
      "    STATION_NUMBER          TIME    DIR  SPEED  GUST  TEMP_F  MAX  MIN  \\\n",
      "0           29440  190601010600   90.0    7.0   NaN    27.0  NaN  NaN   \n",
      "1           29440  190601011300    NaN    0.0   NaN    27.0  NaN  NaN   \n",
      "2           29440  190601012000    NaN    0.0   NaN    25.0  NaN  NaN   \n",
      "3           29440  190601020600    NaN    0.0   NaN    26.0  NaN  NaN   \n",
      "4           29440  190601021300  270.0    7.0   NaN    27.0  NaN  NaN   \n",
      "\n",
      "     TEMP_C  MIN_C  MAX_C      TIME_STR YEAR_MONTH MONTH                DATE  \\\n",
      "0 -2.777778    NaN    NaN  190601010600     190601    01 1906-01-01 06:00:00   \n",
      "1 -2.777778    NaN    NaN  190601011300     190601    01 1906-01-01 13:00:00   \n",
      "2 -3.888889    NaN    NaN  190601012000     190601    01 1906-01-01 20:00:00   \n",
      "3 -3.333333    NaN    NaN  190601020600     190601    01 1906-01-02 06:00:00   \n",
      "4 -2.777778    NaN    NaN  190601021300     190601    01 1906-01-02 13:00:00   \n",
      "\n",
      "  YEAR_MONTH_DT  \n",
      "0    1906-01-01  \n",
      "1    1906-01-01  \n",
      "2    1906-01-01  \n",
      "3    1906-01-01  \n",
      "4    1906-01-01  \n"
     ]
    }
   ],
   "source": [
    "# Iterate over groups\n",
    "for key, group in grouped:\n",
    "    # Print key and group\n",
    "    print(f\"Key:\\n {key}\")\n",
    "    print(f\"\\nFirst rows of data in this group:\\n {group.head()}\")\n",
    "\n",
    "    # Stop iteration with break command\n",
    "    break"
   ]
  },
  {
   "cell_type": "markdown",
   "metadata": {},
   "source": [
    "OK, so from here we can see that the `key` contains the name of the group `YEARMO`.\n",
    "\n",
    "Let's build on this and see how we can create a DataFrame where we calculate the mean values for all those weather attributes that we were interested in. We will repeat some of the earlier steps here so you can see and better understand what is happening."
   ]
  },
  {
   "cell_type": "code",
   "execution_count": 55,
   "metadata": {},
   "outputs": [],
   "source": [
    "# Create an empty DataFrame for the aggregated values\n",
    "monthly_data = pd.DataFrame()\n",
    "\n",
    "# The columns that we want to aggregate\n",
    "mean_cols = [\"DIR\", \"SPEED\", \"GUST\", \"TEMP_F\", \"TEMP_C\"]\n",
    "\n",
    "# Iterate over the groups\n",
    "for key, group in grouped:\n",
    "\n",
    "    # Calculate mean\n",
    "    mean_values = group[mean_cols].mean()\n",
    "\n",
    "    # Add the ´key´ (i.e. the date+time information) into the aggregated values\n",
    "    mean_values[\"YEAR_MONTH\"] = key\n",
    "    \n",
    "    # Convert the mean_values series to a DataFrame and make it have a row orientation\n",
    "    row = mean_values.to_frame().transpose()\n",
    "\n",
    "    # Concatenate the aggregated values into the monthly_data DataFrame\n",
    "    monthly_data = pd.concat([monthly_data, row], ignore_index=True)"
   ]
  },
  {
   "cell_type": "markdown",
   "metadata": {},
   "source": [
    "```{note}\n",
    "You can find a slightly more efficient approach for this same kind of aggregation in [Chapter 3 of the *Python for Geographic Data Analysis*](https://python-gis-book.readthedocs.io/en/latest/part1/chapter-03/nb/02-data-analysis.html#aggregating-data-with-groupby) textbook.\n",
    "```\n",
    "\n",
    "Now, let us see what we have."
   ]
  },
  {
   "cell_type": "code",
   "execution_count": 56,
   "metadata": {
    "collapsed": false,
    "jupyter": {
     "outputs_hidden": false
    }
   },
   "outputs": [
    {
     "name": "stdout",
     "output_type": "stream",
     "text": [
      "            DIR      SPEED       GUST     TEMP_F     TEMP_C YEAR_MONTH\n",
      "0    218.181818  13.204301        NaN  25.526882  -3.596177     190601\n",
      "1    178.095238  13.142857        NaN  25.797619  -3.445767     190602\n",
      "2    232.043011  15.021505        NaN  22.806452  -5.107527     190603\n",
      "3    232.045455  13.811111        NaN  38.822222   3.790123     190604\n",
      "4    192.820513  10.333333        NaN  55.526882   13.07049     190605\n",
      "..          ...        ...        ...        ...        ...        ...\n",
      "596  370.992008    8.13849  17.251852    61.7434  16.524111     201906\n",
      "597  294.433641   5.785714  15.034722  61.569955  16.427753     201907\n",
      "598  320.335766   6.769447  15.751678  60.598649  15.888138     201908\n",
      "599  306.491058   6.363594  15.173285  49.958137   9.976743     201909\n",
      "600  239.577465  10.169014  17.470588  42.774648   5.985915     201910\n",
      "\n",
      "[601 rows x 6 columns]\n"
     ]
    }
   ],
   "source": [
    "print(monthly_data)"
   ]
  },
  {
   "cell_type": "markdown",
   "metadata": {},
   "source": [
    "Awesome! Now we have aggregated our data and we have a new DataFrame called `monthly_data` where we have mean values for each month in the data set."
   ]
  },
  {
   "cell_type": "markdown",
   "metadata": {},
   "source": [
    "### Finding the mean for all groups at once\n",
    "\n",
    "We can also achieve the same result by computing the mean of all columns for all groups in the grouped object."
   ]
  },
  {
   "cell_type": "code",
   "execution_count": 57,
   "metadata": {},
   "outputs": [
    {
     "data": {
      "text/html": [
       "<div>\n",
       "<style scoped>\n",
       "    .dataframe tbody tr th:only-of-type {\n",
       "        vertical-align: middle;\n",
       "    }\n",
       "\n",
       "    .dataframe tbody tr th {\n",
       "        vertical-align: top;\n",
       "    }\n",
       "\n",
       "    .dataframe thead th {\n",
       "        text-align: right;\n",
       "    }\n",
       "</style>\n",
       "<table border=\"1\" class=\"dataframe\">\n",
       "  <thead>\n",
       "    <tr style=\"text-align: right;\">\n",
       "      <th></th>\n",
       "      <th>STATION_NUMBER</th>\n",
       "      <th>TIME</th>\n",
       "      <th>DIR</th>\n",
       "      <th>SPEED</th>\n",
       "      <th>GUST</th>\n",
       "      <th>TEMP_F</th>\n",
       "      <th>MAX</th>\n",
       "      <th>MIN</th>\n",
       "      <th>TEMP_C</th>\n",
       "      <th>MIN_C</th>\n",
       "      <th>MAX_C</th>\n",
       "      <th>TIME_STR</th>\n",
       "      <th>MONTH</th>\n",
       "      <th>DATE</th>\n",
       "      <th>YEAR_MONTH_DT</th>\n",
       "    </tr>\n",
       "    <tr>\n",
       "      <th>YEAR_MONTH</th>\n",
       "      <th></th>\n",
       "      <th></th>\n",
       "      <th></th>\n",
       "      <th></th>\n",
       "      <th></th>\n",
       "      <th></th>\n",
       "      <th></th>\n",
       "      <th></th>\n",
       "      <th></th>\n",
       "      <th></th>\n",
       "      <th></th>\n",
       "      <th></th>\n",
       "      <th></th>\n",
       "      <th></th>\n",
       "      <th></th>\n",
       "    </tr>\n",
       "  </thead>\n",
       "  <tbody>\n",
       "    <tr>\n",
       "      <th>190601</th>\n",
       "      <td>29440.0</td>\n",
       "      <td>1.906012e+11</td>\n",
       "      <td>218.181818</td>\n",
       "      <td>13.204301</td>\n",
       "      <td>NaN</td>\n",
       "      <td>25.526882</td>\n",
       "      <td>NaN</td>\n",
       "      <td>NaN</td>\n",
       "      <td>-3.596177</td>\n",
       "      <td>NaN</td>\n",
       "      <td>NaN</td>\n",
       "      <td>inf</td>\n",
       "      <td>1086130118388182828005561427572417255426603027...</td>\n",
       "      <td>1906-01-16 13:00:00.000000000</td>\n",
       "      <td>1906-01-01</td>\n",
       "    </tr>\n",
       "    <tr>\n",
       "      <th>190602</th>\n",
       "      <td>29440.0</td>\n",
       "      <td>1.906021e+11</td>\n",
       "      <td>178.095238</td>\n",
       "      <td>13.142857</td>\n",
       "      <td>NaN</td>\n",
       "      <td>25.797619</td>\n",
       "      <td>NaN</td>\n",
       "      <td>NaN</td>\n",
       "      <td>-3.445767</td>\n",
       "      <td>NaN</td>\n",
       "      <td>NaN</td>\n",
       "      <td>inf</td>\n",
       "      <td>2405002405002405315444054478149909402899037633...</td>\n",
       "      <td>1906-02-15 01:00:00.000000000</td>\n",
       "      <td>1906-02-01</td>\n",
       "    </tr>\n",
       "    <tr>\n",
       "      <th>190603</th>\n",
       "      <td>29440.0</td>\n",
       "      <td>1.906032e+11</td>\n",
       "      <td>232.043011</td>\n",
       "      <td>15.021505</td>\n",
       "      <td>NaN</td>\n",
       "      <td>22.806452</td>\n",
       "      <td>NaN</td>\n",
       "      <td>NaN</td>\n",
       "      <td>-5.107527</td>\n",
       "      <td>NaN</td>\n",
       "      <td>NaN</td>\n",
       "      <td>inf</td>\n",
       "      <td>3258390355164548336596277063125792694344083261...</td>\n",
       "      <td>1906-03-16 13:00:00.000000000</td>\n",
       "      <td>1906-03-01</td>\n",
       "    </tr>\n",
       "    <tr>\n",
       "      <th>190604</th>\n",
       "      <td>29440.0</td>\n",
       "      <td>1.906042e+11</td>\n",
       "      <td>232.045455</td>\n",
       "      <td>13.811111</td>\n",
       "      <td>NaN</td>\n",
       "      <td>38.822222</td>\n",
       "      <td>NaN</td>\n",
       "      <td>NaN</td>\n",
       "      <td>3.790123</td>\n",
       "      <td>NaN</td>\n",
       "      <td>NaN</td>\n",
       "      <td>inf</td>\n",
       "      <td>4489337822671155778523261294770556003228466803...</td>\n",
       "      <td>1906-04-16 00:59:59.999999744</td>\n",
       "      <td>1906-04-01</td>\n",
       "    </tr>\n",
       "    <tr>\n",
       "      <th>190605</th>\n",
       "      <td>29440.0</td>\n",
       "      <td>1.906052e+11</td>\n",
       "      <td>192.820513</td>\n",
       "      <td>10.333333</td>\n",
       "      <td>NaN</td>\n",
       "      <td>55.526882</td>\n",
       "      <td>NaN</td>\n",
       "      <td>NaN</td>\n",
       "      <td>13.070490</td>\n",
       "      <td>NaN</td>\n",
       "      <td>NaN</td>\n",
       "      <td>inf</td>\n",
       "      <td>5430650591940914877129843235819381636811644234...</td>\n",
       "      <td>1906-05-16 13:00:00.000000000</td>\n",
       "      <td>1906-05-01</td>\n",
       "    </tr>\n",
       "    <tr>\n",
       "      <th>...</th>\n",
       "      <td>...</td>\n",
       "      <td>...</td>\n",
       "      <td>...</td>\n",
       "      <td>...</td>\n",
       "      <td>...</td>\n",
       "      <td>...</td>\n",
       "      <td>...</td>\n",
       "      <td>...</td>\n",
       "      <td>...</td>\n",
       "      <td>...</td>\n",
       "      <td>...</td>\n",
       "      <td>...</td>\n",
       "      <td>...</td>\n",
       "      <td>...</td>\n",
       "      <td>...</td>\n",
       "    </tr>\n",
       "    <tr>\n",
       "      <th>201906</th>\n",
       "      <td>29440.0</td>\n",
       "      <td>2.019062e+11</td>\n",
       "      <td>370.992008</td>\n",
       "      <td>8.138490</td>\n",
       "      <td>17.251852</td>\n",
       "      <td>61.743400</td>\n",
       "      <td>67.316667</td>\n",
       "      <td>55.600000</td>\n",
       "      <td>16.524111</td>\n",
       "      <td>13.111111</td>\n",
       "      <td>19.620370</td>\n",
       "      <td>inf</td>\n",
       "      <td>inf</td>\n",
       "      <td>2019-06-16 00:13:27.651690752</td>\n",
       "      <td>2019-06-01</td>\n",
       "    </tr>\n",
       "    <tr>\n",
       "      <th>201907</th>\n",
       "      <td>29440.0</td>\n",
       "      <td>2.019072e+11</td>\n",
       "      <td>294.433641</td>\n",
       "      <td>5.785714</td>\n",
       "      <td>15.034722</td>\n",
       "      <td>61.569955</td>\n",
       "      <td>67.774194</td>\n",
       "      <td>55.903226</td>\n",
       "      <td>16.427753</td>\n",
       "      <td>13.279570</td>\n",
       "      <td>19.874552</td>\n",
       "      <td>inf</td>\n",
       "      <td>inf</td>\n",
       "      <td>2019-07-16 11:52:27.713004544</td>\n",
       "      <td>2019-07-01</td>\n",
       "    </tr>\n",
       "    <tr>\n",
       "      <th>201908</th>\n",
       "      <td>29440.0</td>\n",
       "      <td>2.019082e+11</td>\n",
       "      <td>320.335766</td>\n",
       "      <td>6.769447</td>\n",
       "      <td>15.751678</td>\n",
       "      <td>60.598649</td>\n",
       "      <td>65.935484</td>\n",
       "      <td>55.016129</td>\n",
       "      <td>15.888138</td>\n",
       "      <td>12.786738</td>\n",
       "      <td>18.853047</td>\n",
       "      <td>inf</td>\n",
       "      <td>inf</td>\n",
       "      <td>2019-08-16 11:08:33.027027200</td>\n",
       "      <td>2019-08-01</td>\n",
       "    </tr>\n",
       "    <tr>\n",
       "      <th>201909</th>\n",
       "      <td>29440.0</td>\n",
       "      <td>2.019092e+11</td>\n",
       "      <td>306.491058</td>\n",
       "      <td>6.363594</td>\n",
       "      <td>15.173285</td>\n",
       "      <td>49.958137</td>\n",
       "      <td>53.766667</td>\n",
       "      <td>45.350000</td>\n",
       "      <td>9.976743</td>\n",
       "      <td>7.416667</td>\n",
       "      <td>12.092593</td>\n",
       "      <td>inf</td>\n",
       "      <td>inf</td>\n",
       "      <td>2019-09-15 23:11:51.279397888</td>\n",
       "      <td>2019-09-01</td>\n",
       "    </tr>\n",
       "    <tr>\n",
       "      <th>201910</th>\n",
       "      <td>29440.0</td>\n",
       "      <td>2.019100e+11</td>\n",
       "      <td>239.577465</td>\n",
       "      <td>10.169014</td>\n",
       "      <td>17.470588</td>\n",
       "      <td>42.774648</td>\n",
       "      <td>48.500000</td>\n",
       "      <td>41.000000</td>\n",
       "      <td>5.985915</td>\n",
       "      <td>5.000000</td>\n",
       "      <td>9.166667</td>\n",
       "      <td>inf</td>\n",
       "      <td>1422677479015507240648914749050237684601174628...</td>\n",
       "      <td>2019-10-01 12:02:40.563380224</td>\n",
       "      <td>2019-10-01</td>\n",
       "    </tr>\n",
       "  </tbody>\n",
       "</table>\n",
       "<p>601 rows × 15 columns</p>\n",
       "</div>"
      ],
      "text/plain": [
       "            STATION_NUMBER          TIME         DIR      SPEED       GUST  \\\n",
       "YEAR_MONTH                                                                   \n",
       "190601             29440.0  1.906012e+11  218.181818  13.204301        NaN   \n",
       "190602             29440.0  1.906021e+11  178.095238  13.142857        NaN   \n",
       "190603             29440.0  1.906032e+11  232.043011  15.021505        NaN   \n",
       "190604             29440.0  1.906042e+11  232.045455  13.811111        NaN   \n",
       "190605             29440.0  1.906052e+11  192.820513  10.333333        NaN   \n",
       "...                    ...           ...         ...        ...        ...   \n",
       "201906             29440.0  2.019062e+11  370.992008   8.138490  17.251852   \n",
       "201907             29440.0  2.019072e+11  294.433641   5.785714  15.034722   \n",
       "201908             29440.0  2.019082e+11  320.335766   6.769447  15.751678   \n",
       "201909             29440.0  2.019092e+11  306.491058   6.363594  15.173285   \n",
       "201910             29440.0  2.019100e+11  239.577465  10.169014  17.470588   \n",
       "\n",
       "               TEMP_F        MAX        MIN     TEMP_C      MIN_C      MAX_C  \\\n",
       "YEAR_MONTH                                                                     \n",
       "190601      25.526882        NaN        NaN  -3.596177        NaN        NaN   \n",
       "190602      25.797619        NaN        NaN  -3.445767        NaN        NaN   \n",
       "190603      22.806452        NaN        NaN  -5.107527        NaN        NaN   \n",
       "190604      38.822222        NaN        NaN   3.790123        NaN        NaN   \n",
       "190605      55.526882        NaN        NaN  13.070490        NaN        NaN   \n",
       "...               ...        ...        ...        ...        ...        ...   \n",
       "201906      61.743400  67.316667  55.600000  16.524111  13.111111  19.620370   \n",
       "201907      61.569955  67.774194  55.903226  16.427753  13.279570  19.874552   \n",
       "201908      60.598649  65.935484  55.016129  15.888138  12.786738  18.853047   \n",
       "201909      49.958137  53.766667  45.350000   9.976743   7.416667  12.092593   \n",
       "201910      42.774648  48.500000  41.000000   5.985915   5.000000   9.166667   \n",
       "\n",
       "           TIME_STR                                              MONTH  \\\n",
       "YEAR_MONTH                                                               \n",
       "190601          inf  1086130118388182828005561427572417255426603027...   \n",
       "190602          inf  2405002405002405315444054478149909402899037633...   \n",
       "190603          inf  3258390355164548336596277063125792694344083261...   \n",
       "190604          inf  4489337822671155778523261294770556003228466803...   \n",
       "190605          inf  5430650591940914877129843235819381636811644234...   \n",
       "...             ...                                                ...   \n",
       "201906          inf                                                inf   \n",
       "201907          inf                                                inf   \n",
       "201908          inf                                                inf   \n",
       "201909          inf                                                inf   \n",
       "201910          inf  1422677479015507240648914749050237684601174628...   \n",
       "\n",
       "                                    DATE YEAR_MONTH_DT  \n",
       "YEAR_MONTH                                              \n",
       "190601     1906-01-16 13:00:00.000000000    1906-01-01  \n",
       "190602     1906-02-15 01:00:00.000000000    1906-02-01  \n",
       "190603     1906-03-16 13:00:00.000000000    1906-03-01  \n",
       "190604     1906-04-16 00:59:59.999999744    1906-04-01  \n",
       "190605     1906-05-16 13:00:00.000000000    1906-05-01  \n",
       "...                                  ...           ...  \n",
       "201906     2019-06-16 00:13:27.651690752    2019-06-01  \n",
       "201907     2019-07-16 11:52:27.713004544    2019-07-01  \n",
       "201908     2019-08-16 11:08:33.027027200    2019-08-01  \n",
       "201909     2019-09-15 23:11:51.279397888    2019-09-01  \n",
       "201910     2019-10-01 12:02:40.563380224    2019-10-01  \n",
       "\n",
       "[601 rows x 15 columns]"
      ]
     },
     "execution_count": 57,
     "metadata": {},
     "output_type": "execute_result"
    }
   ],
   "source": [
    "grouped.mean()"
   ]
  },
  {
   "cell_type": "markdown",
   "metadata": {},
   "source": [
    "## Detecting warm months\n",
    "\n",
    "Now that we have aggregated our data on monthly level, all we need to do is to sort our results in order to check which years had the warmest April temperatures. A simple approach is to select all Aprils from the data, group the data and check which group(s) have the highest mean value.\n",
    "\n",
    "We can start this by selecting all records that are from April (regardless of the year)."
   ]
  },
  {
   "cell_type": "code",
   "execution_count": 58,
   "metadata": {},
   "outputs": [],
   "source": [
    "aprils = data[data[\"MONTH\"] == \"04\"]"
   ]
  },
  {
   "cell_type": "markdown",
   "metadata": {},
   "source": [
    "Next, we can take a subset of columns that might contain interesting information."
   ]
  },
  {
   "cell_type": "code",
   "execution_count": 59,
   "metadata": {},
   "outputs": [],
   "source": [
    "aprils = aprils[[\"STATION_NUMBER\", \"TEMP_F\", \"TEMP_C\", \"YEAR_MONTH\"]]"
   ]
  },
  {
   "cell_type": "markdown",
   "metadata": {},
   "source": [
    "We can group by year and month."
   ]
  },
  {
   "cell_type": "code",
   "execution_count": 60,
   "metadata": {},
   "outputs": [],
   "source": [
    "grouped = aprils.groupby(by=\"YEAR_MONTH\")"
   ]
  },
  {
   "cell_type": "markdown",
   "metadata": {},
   "source": [
    "And then we can calculate the mean for each group."
   ]
  },
  {
   "cell_type": "code",
   "execution_count": 61,
   "metadata": {},
   "outputs": [],
   "source": [
    "monthly_mean = grouped.mean()"
   ]
  },
  {
   "cell_type": "code",
   "execution_count": 62,
   "metadata": {},
   "outputs": [
    {
     "data": {
      "text/html": [
       "<div>\n",
       "<style scoped>\n",
       "    .dataframe tbody tr th:only-of-type {\n",
       "        vertical-align: middle;\n",
       "    }\n",
       "\n",
       "    .dataframe tbody tr th {\n",
       "        vertical-align: top;\n",
       "    }\n",
       "\n",
       "    .dataframe thead th {\n",
       "        text-align: right;\n",
       "    }\n",
       "</style>\n",
       "<table border=\"1\" class=\"dataframe\">\n",
       "  <thead>\n",
       "    <tr style=\"text-align: right;\">\n",
       "      <th></th>\n",
       "      <th>STATION_NUMBER</th>\n",
       "      <th>TEMP_F</th>\n",
       "      <th>TEMP_C</th>\n",
       "    </tr>\n",
       "    <tr>\n",
       "      <th>YEAR_MONTH</th>\n",
       "      <th></th>\n",
       "      <th></th>\n",
       "      <th></th>\n",
       "    </tr>\n",
       "  </thead>\n",
       "  <tbody>\n",
       "    <tr>\n",
       "      <th>190604</th>\n",
       "      <td>29440.0</td>\n",
       "      <td>38.822222</td>\n",
       "      <td>3.790123</td>\n",
       "    </tr>\n",
       "    <tr>\n",
       "      <th>190704</th>\n",
       "      <td>29440.0</td>\n",
       "      <td>36.111111</td>\n",
       "      <td>2.283951</td>\n",
       "    </tr>\n",
       "    <tr>\n",
       "      <th>190804</th>\n",
       "      <td>29440.0</td>\n",
       "      <td>36.811111</td>\n",
       "      <td>2.672840</td>\n",
       "    </tr>\n",
       "    <tr>\n",
       "      <th>190904</th>\n",
       "      <td>29440.0</td>\n",
       "      <td>31.977778</td>\n",
       "      <td>-0.012346</td>\n",
       "    </tr>\n",
       "    <tr>\n",
       "      <th>191004</th>\n",
       "      <td>29440.0</td>\n",
       "      <td>39.833333</td>\n",
       "      <td>4.351852</td>\n",
       "    </tr>\n",
       "  </tbody>\n",
       "</table>\n",
       "</div>"
      ],
      "text/plain": [
       "            STATION_NUMBER     TEMP_F    TEMP_C\n",
       "YEAR_MONTH                                     \n",
       "190604             29440.0  38.822222  3.790123\n",
       "190704             29440.0  36.111111  2.283951\n",
       "190804             29440.0  36.811111  2.672840\n",
       "190904             29440.0  31.977778 -0.012346\n",
       "191004             29440.0  39.833333  4.351852"
      ]
     },
     "execution_count": 62,
     "metadata": {},
     "output_type": "execute_result"
    }
   ],
   "source": [
    "monthly_mean.head()"
   ]
  },
  {
   "cell_type": "markdown",
   "metadata": {},
   "source": [
    "Finally, we can sort and check the highest temperature values. We can sort the data frame in a descending order to do this."
   ]
  },
  {
   "cell_type": "code",
   "execution_count": 63,
   "metadata": {},
   "outputs": [
    {
     "data": {
      "text/html": [
       "<div>\n",
       "<style scoped>\n",
       "    .dataframe tbody tr th:only-of-type {\n",
       "        vertical-align: middle;\n",
       "    }\n",
       "\n",
       "    .dataframe tbody tr th {\n",
       "        vertical-align: top;\n",
       "    }\n",
       "\n",
       "    .dataframe thead th {\n",
       "        text-align: right;\n",
       "    }\n",
       "</style>\n",
       "<table border=\"1\" class=\"dataframe\">\n",
       "  <thead>\n",
       "    <tr style=\"text-align: right;\">\n",
       "      <th></th>\n",
       "      <th>STATION_NUMBER</th>\n",
       "      <th>TEMP_F</th>\n",
       "      <th>TEMP_C</th>\n",
       "    </tr>\n",
       "    <tr>\n",
       "      <th>YEAR_MONTH</th>\n",
       "      <th></th>\n",
       "      <th></th>\n",
       "      <th></th>\n",
       "    </tr>\n",
       "  </thead>\n",
       "  <tbody>\n",
       "    <tr>\n",
       "      <th>201904</th>\n",
       "      <td>29440.0</td>\n",
       "      <td>42.472030</td>\n",
       "      <td>5.817794</td>\n",
       "    </tr>\n",
       "    <tr>\n",
       "      <th>199004</th>\n",
       "      <td>29440.0</td>\n",
       "      <td>41.918084</td>\n",
       "      <td>5.510047</td>\n",
       "    </tr>\n",
       "    <tr>\n",
       "      <th>198904</th>\n",
       "      <td>29440.0</td>\n",
       "      <td>41.369647</td>\n",
       "      <td>5.205360</td>\n",
       "    </tr>\n",
       "    <tr>\n",
       "      <th>201104</th>\n",
       "      <td>29440.0</td>\n",
       "      <td>41.290730</td>\n",
       "      <td>5.161517</td>\n",
       "    </tr>\n",
       "    <tr>\n",
       "      <th>200404</th>\n",
       "      <td>29440.0</td>\n",
       "      <td>41.249676</td>\n",
       "      <td>5.138709</td>\n",
       "    </tr>\n",
       "    <tr>\n",
       "      <th>200204</th>\n",
       "      <td>29440.0</td>\n",
       "      <td>41.132353</td>\n",
       "      <td>5.073529</td>\n",
       "    </tr>\n",
       "    <tr>\n",
       "      <th>198304</th>\n",
       "      <td>29440.0</td>\n",
       "      <td>41.016183</td>\n",
       "      <td>5.008991</td>\n",
       "    </tr>\n",
       "    <tr>\n",
       "      <th>200804</th>\n",
       "      <td>29440.0</td>\n",
       "      <td>40.962343</td>\n",
       "      <td>4.979079</td>\n",
       "    </tr>\n",
       "    <tr>\n",
       "      <th>200004</th>\n",
       "      <td>29440.0</td>\n",
       "      <td>40.777778</td>\n",
       "      <td>4.876543</td>\n",
       "    </tr>\n",
       "    <tr>\n",
       "      <th>199904</th>\n",
       "      <td>29440.0</td>\n",
       "      <td>40.695291</td>\n",
       "      <td>4.830717</td>\n",
       "    </tr>\n",
       "  </tbody>\n",
       "</table>\n",
       "</div>"
      ],
      "text/plain": [
       "            STATION_NUMBER     TEMP_F    TEMP_C\n",
       "YEAR_MONTH                                     \n",
       "201904             29440.0  42.472030  5.817794\n",
       "199004             29440.0  41.918084  5.510047\n",
       "198904             29440.0  41.369647  5.205360\n",
       "201104             29440.0  41.290730  5.161517\n",
       "200404             29440.0  41.249676  5.138709\n",
       "200204             29440.0  41.132353  5.073529\n",
       "198304             29440.0  41.016183  5.008991\n",
       "200804             29440.0  40.962343  4.979079\n",
       "200004             29440.0  40.777778  4.876543\n",
       "199904             29440.0  40.695291  4.830717"
      ]
     },
     "execution_count": 63,
     "metadata": {},
     "output_type": "execute_result"
    }
   ],
   "source": [
    "monthly_mean.sort_values(by=\"TEMP_C\", ascending=False).head(10)"
   ]
  },
  {
   "cell_type": "markdown",
   "metadata": {},
   "source": [
    "So, how did April 2019 rank at the Tampere Pirkkala observation station? "
   ]
  },
  {
   "cell_type": "markdown",
   "metadata": {},
   "source": [
    "## Repeating the data analysis with a larger dataset\n",
    "\n",
    "To wrap up today's lesson, let's repeat the data analysis steps above for all the available data we have (!). First, it would be good to confirm the path to the directory where all the input data are located.\n",
    "\n",
    "The idea is, that we will repeat the analysis process for each input file using a (rather long) for loop! Here we have all the main analysis steps with some additional output info, all in one long code cell."
   ]
  },
  {
   "cell_type": "code",
   "execution_count": 64,
   "metadata": {},
   "outputs": [
    {
     "name": "stdout",
     "output_type": "stream",
     "text": [
      "STATION NUMBER: 29440\n",
      "NUMBER OF OBSERVATIONS: 757983\n",
      "            STATION_NUMBER     TEMP_F    TEMP_C\n",
      "YEAR MONTH                                     \n",
      "2019 4             29440.0  42.472030  5.817794\n",
      "1990 4             29440.0  41.918084  5.510047\n",
      "1989 4             29440.0  41.369647  5.205360\n",
      "2011 4             29440.0  41.290730  5.161517\n",
      "2004 4             29440.0  41.249676  5.138709\n",
      "\n",
      "\n"
     ]
    }
   ],
   "source": [
    "# Read selected columns of  data using varying amount of spaces as separator and specifying * characters as NoData values\n",
    "data = pd.read_csv(\n",
    "    fp,\n",
    "    delim_whitespace=True,\n",
    "    usecols=[\"USAF\", \"YR--MODAHRMN\", \"DIR\", \"SPD\", \"GUS\", \"TEMP\", \"MAX\", \"MIN\"],\n",
    "    na_values=[\"*\", \"**\", \"***\", \"****\", \"*****\", \"******\"],\n",
    ")\n",
    "\n",
    "# Rename the columns\n",
    "new_names = {\n",
    "    \"USAF\": \"STATION_NUMBER\",\n",
    "    \"YR--MODAHRMN\": \"TIME\",\n",
    "    \"SPD\": \"SPEED\",\n",
    "    \"GUS\": \"GUST\",\n",
    "    \"TEMP\": \"TEMP_F\",\n",
    "}\n",
    "data = data.rename(columns=new_names)\n",
    "\n",
    "# Print info about the current input file:\n",
    "print(f\"STATION NUMBER: {data.at[0, 'STATION_NUMBER']}\")\n",
    "print(f\"NUMBER OF OBSERVATIONS: {len(data)}\")\n",
    "\n",
    "# Create column\n",
    "col_name = \"TEMP_C\"\n",
    "data[col_name] = None\n",
    "\n",
    "# Convert tempetarues from Fahrenheits to Celsius\n",
    "data[\"TEMP_C\"] = data[\"TEMP_F\"].apply(fahr_to_celsius)\n",
    "\n",
    "# Convert TIME to string\n",
    "data[\"TIME_STR\"] = data[\"TIME\"].astype(str)\n",
    "\n",
    "# Parse year and month\n",
    "data[\"MONTH\"] = data[\"TIME_STR\"].str.slice(start=5, stop=6).astype(int)\n",
    "data[\"YEAR\"] = data[\"TIME_STR\"].str.slice(start=0, stop=4).astype(int)\n",
    "\n",
    "# Extract observations for the months of April\n",
    "aprils = data[data[\"MONTH\"] == 4]\n",
    "\n",
    "# Take a subset of columns\n",
    "aprils = aprils[[\"STATION_NUMBER\", \"TEMP_F\", \"TEMP_C\", \"YEAR\", \"MONTH\"]]\n",
    "\n",
    "# Group by year and month\n",
    "grouped = aprils.groupby(by=[\"YEAR\", \"MONTH\"])\n",
    "\n",
    "# Get mean values for each group\n",
    "monthly_mean = grouped.mean()\n",
    "\n",
    "# Print info\n",
    "print(monthly_mean.sort_values(by=\"TEMP_C\", ascending=False).head(5))\n",
    "print(\"\\n\")"
   ]
  },
  {
   "cell_type": "code",
   "execution_count": 65,
   "metadata": {},
   "outputs": [
    {
     "name": "stdout",
     "output_type": "stream",
     "text": [
      "29440\n"
     ]
    }
   ],
   "source": [
    "print(data.at[0, \"STATION_NUMBER\"])"
   ]
  },
  {
   "cell_type": "markdown",
   "metadata": {},
   "source": [
    "At this point we will use the `glob()` function from the module `glob` to list our input files. glob is a handy function for finding files in a directrory that match a given pattern, for example."
   ]
  },
  {
   "cell_type": "code",
   "execution_count": 66,
   "metadata": {},
   "outputs": [],
   "source": [
    "import glob"
   ]
  },
  {
   "cell_type": "code",
   "execution_count": 67,
   "metadata": {},
   "outputs": [],
   "source": [
    "file_list = glob.glob(r\"/home/jovyan/shared/data/L6/0*txt\")"
   ]
  },
  {
   "cell_type": "code",
   "execution_count": 68,
   "metadata": {
    "tags": [
     "remove-cell"
    ]
   },
   "outputs": [],
   "source": [
    "# IGNORE THIS CELL\n",
    "# It is only needed to generate the course website\n",
    "file_list = glob.glob(r\"data/0*txt\")"
   ]
  },
  {
   "cell_type": "markdown",
   "metadata": {},
   "source": [
    "```{note}\n",
    "Note that we're using the \\* character as a wildcard, so any file that starts with `data/0` and ends with `txt` will be added to the list of files we will iterate over. We specifically use `data/0` as the starting part of the file names to avoid having our metadata files included in the list!\n",
    "```\n",
    "\n",
    "````{note}\n",
    "If you are using Jupyter Lab installed on your own computer, then the `file_list` variable you should use is defined below:\n",
    "\n",
    "```python\n",
    "file_list = glob.glob(r\"data/0*txt\")\n",
    "```\n",
    "````"
   ]
  },
  {
   "cell_type": "code",
   "execution_count": 69,
   "metadata": {},
   "outputs": [
    {
     "name": "stdout",
     "output_type": "stream",
     "text": [
      "Number of files in the list: 15\n",
      "['data/029170.txt', 'data/028690.txt', 'data/029820.txt', 'data/029700.txt', 'data/028970.txt', 'data/029070.txt', 'data/029500.txt', 'data/029110.txt', 'data/028750.txt', 'data/029720.txt', 'data/029440.txt', 'data/028360.txt', 'data/029810.txt', 'data/029740.txt', 'data/029350.txt']\n"
     ]
    }
   ],
   "source": [
    "print(f\"Number of files in the list: {len(file_list)}\")\n",
    "print(file_list)"
   ]
  },
  {
   "cell_type": "markdown",
   "metadata": {},
   "source": [
    "Now, you should have all the relevant file names in a list, and we can loop over the list using a for loop."
   ]
  },
  {
   "cell_type": "code",
   "execution_count": 70,
   "metadata": {},
   "outputs": [
    {
     "name": "stdout",
     "output_type": "stream",
     "text": [
      "data/029170.txt\n",
      "data/028690.txt\n",
      "data/029820.txt\n",
      "data/029700.txt\n",
      "data/028970.txt\n",
      "data/029070.txt\n",
      "data/029500.txt\n",
      "data/029110.txt\n",
      "data/028750.txt\n",
      "data/029720.txt\n",
      "data/029440.txt\n",
      "data/028360.txt\n",
      "data/029810.txt\n",
      "data/029740.txt\n",
      "data/029350.txt\n"
     ]
    }
   ],
   "source": [
    "for fp in file_list:\n",
    "    print(fp)"
   ]
  },
  {
   "cell_type": "code",
   "execution_count": 71,
   "metadata": {
    "collapsed": false,
    "jupyter": {
     "outputs_hidden": false
    }
   },
   "outputs": [
    {
     "name": "stdout",
     "output_type": "stream",
     "text": [
      "STATION NUMBER: 29170\n",
      "NUMBER OF OBSERVATIONS: 561097\n",
      "            STATION_NUMBER     TEMP_F    TEMP_C\n",
      "YEAR MONTH                                     \n",
      "1937 4             29170.0  43.289157  6.271754\n",
      "2019 4             29170.0  40.666820  4.814900\n",
      "2011 4             29170.0  40.015962  4.453312\n",
      "2001 4             29170.0  39.713228  4.285126\n",
      "1906 4             29170.0  39.688889  4.271605\n",
      "\n",
      "\n",
      "STATION NUMBER: 28690\n",
      "NUMBER OF OBSERVATIONS: 542788\n",
      "            STATION_NUMBER     TEMP_F    TEMP_C\n",
      "YEAR MONTH                                     \n",
      "2011 4             28690.0  35.430640  1.905911\n",
      "2019 4             28690.0  35.215114  1.786174\n",
      "2016 4             28690.0  35.031103  1.683946\n",
      "1989 4             28690.0  34.612766  1.451537\n",
      "2002 4             28690.0  34.279855  1.266586\n",
      "\n",
      "\n",
      "STATION NUMBER: 29820\n",
      "NUMBER OF OBSERVATIONS: 198334\n",
      "            STATION_NUMBER     TEMP_F    TEMP_C\n",
      "YEAR MONTH                                     \n",
      "2019 4             29820.0  41.182197  5.101221\n",
      "1990 4             29820.0  41.144681  5.080378\n",
      "2014 4             29820.0  40.497908  4.721060\n",
      "2008 4             29820.0  39.941423  4.411901\n",
      "1913 4             29820.0  39.622222  4.234568\n",
      "\n",
      "\n",
      "STATION NUMBER: 29700\n",
      "NUMBER OF OBSERVATIONS: 473881\n",
      "            STATION_NUMBER     TEMP_F    TEMP_C\n",
      "YEAR MONTH                                     \n",
      "1921 4             29700.0  42.811111  6.006173\n",
      "2000 4             29700.0  42.375587  5.764215\n",
      "1990 4             29700.0  42.054167  5.585648\n",
      "2019 4             29700.0  41.548747  5.304859\n",
      "2004 4             29700.0  41.493392  5.274107\n",
      "\n",
      "\n",
      "STATION NUMBER: 28970\n",
      "NUMBER OF OBSERVATIONS: 555740\n",
      "            STATION_NUMBER     TEMP_F    TEMP_C\n",
      "YEAR MONTH                                     \n",
      "1921 4             28970.0  41.688889  5.382716\n",
      "1999 4             28970.0  39.073600  3.929778\n",
      "2019 4             28970.0  38.706456  3.725809\n",
      "1989 4             28970.0  38.362869  3.534927\n",
      "2011 4             28970.0  38.094172  3.385651\n",
      "\n",
      "\n",
      "STATION NUMBER: 29070\n",
      "NUMBER OF OBSERVATIONS: 83567\n",
      "            STATION_NUMBER     TEMP_F    TEMP_C\n",
      "YEAR MONTH                                     \n",
      "2014 4             29070.0  35.437326  1.909626\n",
      "2015 4             29070.0  34.437209  1.354005\n",
      "2004 4             29070.0  34.347032  1.303907\n",
      "2016 4             29070.0  34.303199  1.279555\n",
      "2008 4             29070.0  34.241667  1.245370\n",
      "\n",
      "\n",
      "STATION NUMBER: 29500\n",
      "NUMBER OF OBSERVATIONS: 103105\n",
      "            STATION_NUMBER     TEMP_F    TEMP_C\n",
      "YEAR MONTH                                     \n",
      "2019 4             29500.0  41.639777  5.355432\n",
      "2008 4             29500.0  40.838936  4.910520\n",
      "2014 4             29500.0  40.226415  4.570231\n",
      "2016 4             29500.0  39.176634  3.987019\n",
      "2011 4             29500.0  38.647826  3.693237\n",
      "\n",
      "\n",
      "STATION NUMBER: 29110\n",
      "NUMBER OF OBSERVATIONS: 483784\n",
      "            STATION_NUMBER     TEMP_F    TEMP_C\n",
      "YEAR MONTH                                     \n",
      "1921 4             29110.0  42.166667  5.648148\n",
      "2004 4             29110.0  41.682699  5.379277\n",
      "1989 4             29110.0  41.420168  5.233427\n",
      "1937 4             29110.0  40.671429  4.817460\n",
      "2019 4             29110.0  40.636300  4.797945\n",
      "\n",
      "\n",
      "STATION NUMBER: 28750\n",
      "NUMBER OF OBSERVATIONS: 474562\n",
      "            STATION_NUMBER     TEMP_F    TEMP_C\n",
      "YEAR MONTH                                     \n",
      "1989 4             28750.0  39.008403  3.893557\n",
      "1983 4             28750.0  38.758475  3.754708\n",
      "2019 4             28750.0  38.651599  3.695333\n",
      "2002 4             28750.0  38.270419  3.483566\n",
      "1994 4             28750.0  38.145833  3.414352\n",
      "\n",
      "\n",
      "STATION NUMBER: 29720\n",
      "NUMBER OF OBSERVATIONS: 843688\n",
      "            STATION_NUMBER     TEMP_F    TEMP_C\n",
      "YEAR MONTH                                     \n",
      "2019 4             29720.0  43.558414  6.421341\n",
      "1990 4             29720.0  43.313576  6.285320\n",
      "2000 4             29720.0  42.663169  5.923983\n",
      "2008 4             29720.0  42.349642  5.749801\n",
      "2004 4             29720.0  41.903492  5.501940\n",
      "\n",
      "\n",
      "STATION NUMBER: 29440\n",
      "NUMBER OF OBSERVATIONS: 757983\n",
      "            STATION_NUMBER     TEMP_F    TEMP_C\n",
      "YEAR MONTH                                     \n",
      "2019 4             29440.0  42.472030  5.817794\n",
      "1990 4             29440.0  41.918084  5.510047\n",
      "1989 4             29440.0  41.369647  5.205360\n",
      "2011 4             29440.0  41.290730  5.161517\n",
      "2004 4             29440.0  41.249676  5.138709\n",
      "\n",
      "\n",
      "STATION NUMBER: 28360\n",
      "NUMBER OF OBSERVATIONS: 193825\n",
      "            STATION_NUMBER     TEMP_F    TEMP_C\n",
      "YEAR MONTH                                     \n",
      "1937 4             28360.0  38.738095  3.743386\n",
      "2011 4             28360.0  36.699571  2.610873\n",
      "1921 4             28360.0  36.622222  2.567901\n",
      "2002 4             28360.0  36.500000  2.500000\n",
      "2019 4             28360.0  34.979138  1.655076\n",
      "\n",
      "\n",
      "STATION NUMBER: 29810\n",
      "NUMBER OF OBSERVATIONS: 199330\n",
      "            STATION_NUMBER     TEMP_F    TEMP_C\n",
      "YEAR MONTH                                     \n",
      "1990 4             29810.0  41.157895  5.087719\n",
      "2019 4             29810.0  40.783032  4.879462\n",
      "2014 4             29810.0  40.058036  4.476687\n",
      "2008 4             29810.0  40.044881  4.469378\n",
      "2016 4             29810.0  39.270308  4.039060\n",
      "\n",
      "\n",
      "STATION NUMBER: 29740\n",
      "NUMBER OF OBSERVATIONS: 931767\n",
      "            STATION_NUMBER     TEMP_F    TEMP_C\n",
      "YEAR MONTH                                     \n",
      "2000 4             29740.0  43.479793  6.377663\n",
      "2019 4             29740.0  43.464070  6.368928\n",
      "1990 4             29740.0  43.375078  6.319488\n",
      "2008 4             29740.0  43.341429  6.300794\n",
      "2011 4             29740.0  42.750702  5.972612\n",
      "\n",
      "\n",
      "STATION NUMBER: 29350\n",
      "NUMBER OF OBSERVATIONS: 559667\n",
      "            STATION_NUMBER     TEMP_F    TEMP_C\n",
      "YEAR MONTH                                     \n",
      "1921 4             29350.0  45.144444  7.302469\n",
      "1925 4             29350.0  40.777778  4.876543\n",
      "2011 4             29350.0  40.670108  4.816727\n",
      "2019 4             29350.0  40.585002  4.769446\n",
      "2001 4             29350.0  39.662827  4.257126\n",
      "\n",
      "\n"
     ]
    }
   ],
   "source": [
    "# Repeat the analysis steps for each input file:\n",
    "for fp in file_list:\n",
    "\n",
    "    # Read selected columns of  data using varying amount of spaces as separator and specifying * characters as NoData values\n",
    "    data = pd.read_csv(\n",
    "        fp,\n",
    "        delim_whitespace=True,\n",
    "        usecols=[\"USAF\", \"YR--MODAHRMN\", \"DIR\", \"SPD\", \"GUS\", \"TEMP\", \"MAX\", \"MIN\"],\n",
    "        na_values=[\"*\", \"**\", \"***\", \"****\", \"*****\", \"******\"],\n",
    "    )\n",
    "\n",
    "    # Rename the columns\n",
    "    new_names = {\n",
    "        \"USAF\": \"STATION_NUMBER\",\n",
    "        \"YR--MODAHRMN\": \"TIME\",\n",
    "        \"SPD\": \"SPEED\",\n",
    "        \"GUS\": \"GUST\",\n",
    "        \"TEMP\": \"TEMP_F\",\n",
    "    }\n",
    "    data = data.rename(columns=new_names)\n",
    "\n",
    "    # Print info about the current input file:\n",
    "    print(f\"STATION NUMBER: {data.at[0, 'STATION_NUMBER']}\")\n",
    "    print(f\"NUMBER OF OBSERVATIONS: {len(data)}\")\n",
    "\n",
    "    # Create column\n",
    "    col_name = \"TEMP_C\"\n",
    "    data[col_name] = None\n",
    "\n",
    "    # Convert tempetarues from Fahrenheits to Celsius\n",
    "    data[\"TEMP_C\"] = data[\"TEMP_F\"].apply(fahr_to_celsius)\n",
    "\n",
    "    # Convert TIME to string\n",
    "    data[\"TIME_STR\"] = data[\"TIME\"].astype(str)\n",
    "\n",
    "    # Parse year and month\n",
    "    data[\"MONTH\"] = data[\"TIME_STR\"].str.slice(start=5, stop=6).astype(int)\n",
    "    data[\"YEAR\"] = data[\"TIME_STR\"].str.slice(start=0, stop=4).astype(int)\n",
    "\n",
    "    # Extract observations for the months of April\n",
    "    aprils = data[data[\"MONTH\"] == 4]\n",
    "\n",
    "    # Take a subset of columns\n",
    "    aprils = aprils[[\"STATION_NUMBER\", \"TEMP_F\", \"TEMP_C\", \"YEAR\", \"MONTH\"]]\n",
    "\n",
    "    # Group by year and month\n",
    "    grouped = aprils.groupby(by=[\"YEAR\", \"MONTH\"])\n",
    "\n",
    "    # Get mean values for each group\n",
    "    monthly_mean = grouped.mean()\n",
    "\n",
    "    # Print info\n",
    "    print(monthly_mean.sort_values(by=\"TEMP_C\", ascending=False).head(5))\n",
    "    print(\"\\n\")"
   ]
  },
  {
   "cell_type": "markdown",
   "metadata": {},
   "source": [
    "So, what can we conclude about how warm April 2019 was in Finland? Was it actually the warmest April on record? If so, in which stations?"
   ]
  }
 ],
 "metadata": {
  "kernelspec": {
   "display_name": "Python 3 (ipykernel)",
   "language": "python",
   "name": "python3"
  },
  "language_info": {
   "codemirror_mode": {
    "name": "ipython",
    "version": 3
   },
   "file_extension": ".py",
   "mimetype": "text/x-python",
   "name": "python",
   "nbconvert_exporter": "python",
   "pygments_lexer": "ipython3",
   "version": "3.10.12"
  }
 },
 "nbformat": 4,
 "nbformat_minor": 4
}
