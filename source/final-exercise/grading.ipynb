{
 "cells": [
  {
   "cell_type": "markdown",
   "metadata": {},
   "source": [
    "# Grading\n",
    "\n",
    "Your final exercise will be graded on the following criteria. Please note that the **use of AI large language models such as ChatGPT is OK for this exercise**, but must follow the [course guidelines for the use of AI tools](https://geo-python-site.readthedocs.io/en/latest/course-info/ai-tools.html) and the [final exercise instructions on the use of AI tools](https://github.com/Geo-Python-2023/Final-exercise#use-of-ai-llm-tools-in-this-exercise).\n",
    "\n",
    "| Item                         | Excellent (5) | Very good (4) | Good (3) | Satisfactory (2) | Passable (1) | Fail (0) |\n",
    "| ---------------------------- | ------------- | ------------- | -------- | ---------------- | ------------ | -------- |\n",
    "| **Reading data file**          | Data file read using Pandas, header row skipped, and `-9999` values converted to NA | | Data file read using Pandas, but NA values not converted on read or header not skipped | | Data file read | Data file not read |\n",
    "| **Processing input**             | New column of estimated \"TAVG\" values created, missing TEMP values filled, remaining TEMP NA values dropped | | TEMP values filled with TAVG, but TEMP NA values not dropped | | TEMP values filled with something other than TAVG | Missing TEMP values not filled |\n",
    "| **Defining and using functions** | Created a function for temperature conversion and used it to create a new column of Celsius temperatures as shown in class | | Created a function for temperature conversion, but used it in a different way than shown in class | | Did not create a temperature conversion function or did not use it | Did not create a function or convert temperatures |\n",
    "| **Aggregating data**             | Calculated correct seasonal average temperatures for all years, correct reference temperatures, and correct anomalies | | Calculated incorrect seasonal average temperatures for all years, but correct reference temperatures (or vice versa), calculated anomalies too | | Only calculated one of seasonal average temperatures for all years or reference temperatures, or did not calculate anomalies | Did not aggregate data | \n",
    "| **Plot, data**                   | Correct data plotted in each plot panel | | Data plotted for all 4 seasons, but not all correct data included | | Data not plotted in all 4 panels or incorrect data selected | Data not plotted |\n",
    "| **Plot, format**                 | Plot format includes axis labels, consistent axis ranges, and relevant labels | | Plot is missing some labels or has inconsistent axis ranges | | Plot labels missing, axis ranges not consistent | Data not plotted | \n",
    "| **Markdown documentation**       | Markdown cells are used to provide additional information about the workflow, appropriate rich text formatting is used to enhance the text style | | Markdown cells are used to describe most of the work flow with some rich text formatting | | Markdown cell use is limited with no rich text formatting | Markdown documentation is missing |\n",
    "| **Code comments and style**      | Clear code comments are present in sufficient number to clarify the code cells. Code follows the PEP-8 guidelines. | | Code comments are present and explain most of the code cells. PEP-8 guidelines used in places. | | Few code comments and PEP-8 guidelines not followed | No code comments and PEP-8 guidelines not followed |\n",
    "\n",
    "**Note**: The empty cells correspond to:\n",
    "\n",
    "- Grade 4: Less than criterion for grade 5, but more than criterion for grade 3\n",
    "- Grade 2: Less than criterion for grade 3, but more than criterion for grade 1"
   ]
  }
 ],
 "metadata": {
  "kernelspec": {
   "display_name": "Python 3 (ipykernel)",
   "language": "python",
   "name": "python3"
  },
  "language_info": {
   "codemirror_mode": {
    "name": "ipython",
    "version": 3
   },
   "file_extension": ".py",
   "mimetype": "text/x-python",
   "name": "python",
   "nbconvert_exporter": "python",
   "pygments_lexer": "ipython3",
   "version": "3.10.12"
  }
 },
 "nbformat": 4,
 "nbformat_minor": 4
}
